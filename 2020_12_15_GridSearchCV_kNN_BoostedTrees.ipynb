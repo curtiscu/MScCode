{
  "nbformat": 4,
  "nbformat_minor": 0,
  "metadata": {
    "colab": {
      "name": "2020-12-15_GridSearchCV_kNN_BoostedTrees.ipynb",
      "provenance": [],
      "collapsed_sections": [
        "eO2Lyy5X5kZD",
        "NybvOG9ssS26",
        "yEXZFoA4t9de",
        "SBKOdMxXFygn",
        "2qR3tjMl4bv2",
        "lBT_BaeD4o8L",
        "c3onp99QayAH",
        "u9yXJCSEa7bO",
        "Sx-WWZXGWgrR",
        "0PsIAz0QYtbk",
        "5bC-Ly7h_9LV",
        "NIrOPnQiXfxb",
        "K3JlPpTjIlYg",
        "8XFdCcrwOzST",
        "39wunDtQMsKJ",
        "H5zSPf_CMvKw",
        "bU2tKob47OQw",
        "yNyWfy_i2wYy",
        "D4W0ier8QjNJ",
        "aWCUpAMlr_7p",
        "XZ6c0-yv8_j3",
        "a1Xw_AaZUB8m",
        "yCVNOfDybDb8",
        "AhxV2FOsinfp",
        "EWWWOWUEmJhN",
        "zwAEXWoSomcm",
        "uj9bCSh6n8jN",
        "c44d_SQ2HQsh",
        "KhjgolyYlNEX",
        "_h0DGDeYx2ln",
        "y5P1Zkg2vsOu",
        "t85Rbg8qnz7C",
        "DxeCyPxbbeSL",
        "y-5McxDEbkst"
      ],
      "toc_visible": true,
      "authorship_tag": "ABX9TyP26bKLL65D4cwDlzJBIgjd",
      "include_colab_link": true
    },
    "kernelspec": {
      "name": "python3",
      "display_name": "Python 3"
    }
  },
  "cells": [
    {
      "cell_type": "markdown",
      "metadata": {
        "id": "view-in-github",
        "colab_type": "text"
      },
      "source": [
        "<a href=\"https://colab.research.google.com/github/curtiscu/MScCode/blob/main/2020_12_15_GridSearchCV_kNN_BoostedTrees.ipynb\" target=\"_parent\"><img src=\"https://colab.research.google.com/assets/colab-badge.svg\" alt=\"Open In Colab\"/></a>"
      ]
    },
    {
      "cell_type": "markdown",
      "metadata": {
        "id": "eO2Lyy5X5kZD"
      },
      "source": [
        "# General note on running models\n"
      ]
    },
    {
      "cell_type": "markdown",
      "metadata": {
        "id": "_mEHFZ8D5ymk"
      },
      "source": [
        "\r\n",
        "I initially ran GridSearchCV on the whole X,y dataset (i.e. ignoring X_train/ y_train, X_test/ y_test) and spat out the best results without evaluation on unseen data. See...\r\n",
        "* See: https://scikit-learn.org/stable/auto_examples/model_selection/plot_grid_search_digits.html\r\n",
        "\r\n",
        "i.e. With GridSearchCV, I need to..\r\n",
        "* setup model\r\n",
        "* fit with X_train/ y_train\r\n",
        "* evaluate and find best model\r\n",
        "* take best model and use X_test/ y_test on it\r\n",
        "\r\n",
        "Also from...\r\n",
        "* https://stackoverflow.com/a/55605798\r\n",
        "\r\n",
        "\"Internally, GridSearchCV splits the dataset given to it into various training and validation subsets, and, using the hyperparameter grid provided to it, finds the single set of hyperparameters that give the best score on the validation subsets.\r\n",
        "\r\n",
        "The point of a train-test split is then, after this process is done, to perform one final scoring on the test data, which has so far been unknown to the model, to see if your hyperparameters have been overfit to the validation subsets. If it does well, then the next step is putting the model into production/deployment.\""
      ]
    },
    {
      "cell_type": "markdown",
      "metadata": {
        "id": "NybvOG9ssS26"
      },
      "source": [
        "# Setup Colab env\n"
      ]
    },
    {
      "cell_type": "code",
      "metadata": {
        "id": "UliwyDDMjY8U",
        "colab": {
          "base_uri": "https://localhost:8080/"
        },
        "outputId": "5f866a64-4c26-4aec-e06b-2ae6cb7c0366"
      },
      "source": [
        "\n",
        "import sklearn\n",
        "sklearn.__version__\n",
        "#!pip uninstall scikit-learn -y\n",
        "#!pip install scikit-learn\n",
        "!pip install --upgrade scikit-learn"
      ],
      "execution_count": 1,
      "outputs": [
        {
          "output_type": "stream",
          "text": [
            "Requirement already up-to-date: scikit-learn in /usr/local/lib/python3.6/dist-packages (0.24.0)\n",
            "Requirement already satisfied, skipping upgrade: joblib>=0.11 in /usr/local/lib/python3.6/dist-packages (from scikit-learn) (1.0.0)\n",
            "Requirement already satisfied, skipping upgrade: numpy>=1.13.3 in /usr/local/lib/python3.6/dist-packages (from scikit-learn) (1.19.4)\n",
            "Requirement already satisfied, skipping upgrade: threadpoolctl>=2.0.0 in /usr/local/lib/python3.6/dist-packages (from scikit-learn) (2.1.0)\n",
            "Requirement already satisfied, skipping upgrade: scipy>=0.19.1 in /usr/local/lib/python3.6/dist-packages (from scikit-learn) (1.4.1)\n"
          ],
          "name": "stdout"
        }
      ]
    },
    {
      "cell_type": "code",
      "metadata": {
        "id": "juZFbd9RttvQ"
      },
      "source": [
        "# print all cell output\n",
        "from IPython.core.interactiveshell import InteractiveShell\n",
        "InteractiveShell.ast_node_interactivity = \"all\"\n"
      ],
      "execution_count": 2,
      "outputs": []
    },
    {
      "cell_type": "markdown",
      "metadata": {
        "id": "yEXZFoA4t9de"
      },
      "source": [
        "## Google drive access"
      ]
    },
    {
      "cell_type": "code",
      "metadata": {
        "id": "uRELmgI2mvEK",
        "colab": {
          "base_uri": "https://localhost:8080/"
        },
        "outputId": "421e590d-1045-4d16-e8d1-81a95e63cfd5"
      },
      "source": [
        "# mount google drive\n",
        "\n",
        "from google.colab import drive\n",
        "drive.mount('/content/drive', force_remount=True)\n"
      ],
      "execution_count": 3,
      "outputs": [
        {
          "output_type": "stream",
          "text": [
            "Mounted at /content/drive\n"
          ],
          "name": "stdout"
        }
      ]
    },
    {
      "cell_type": "code",
      "metadata": {
        "id": "kE-S76w-Yu8W"
      },
      "source": [
        "home_dir = '/content/drive/My Drive/'"
      ],
      "execution_count": 4,
      "outputs": []
    },
    {
      "cell_type": "code",
      "metadata": {
        "id": "Yk2_ztH9uKat",
        "colab": {
          "base_uri": "https://localhost:8080/"
        },
        "outputId": "4ba31a8d-9859-47bb-d324-4351d0cc8025"
      },
      "source": [
        "# peek at data\n",
        "! ls -al '/content/drive/My Drive/groove-v1.0.0-midionly/groove/drummer1/eval_session/'\n",
        "\n",
        "# peek at modules from local  'E:\\Google Drive\\LYIT\\Dissertation\\modules'\n",
        "! ls -al '/content/drive/My Drive/LYIT/Dissertation/modules/'"
      ],
      "execution_count": 5,
      "outputs": [
        {
          "output_type": "stream",
          "text": [
            "total 35\n",
            "-rw------- 1 root root 2589 Apr 27  2020 10_soul-groove10_102_beat_4-4.mid\n",
            "-rw------- 1 root root 4793 Apr 27  2020 1_funk-groove1_138_beat_4-4.mid\n",
            "-rw------- 1 root root 3243 Apr 27  2020 2_funk-groove2_105_beat_4-4.mid\n",
            "-rw------- 1 root root 4466 Apr 27  2020 3_soul-groove3_86_beat_4-4.mid\n",
            "-rw------- 1 root root 2551 Apr 27  2020 4_soul-groove4_80_beat_4-4.mid\n",
            "-rw------- 1 root root 3798 Apr 27  2020 5_funk-groove5_84_beat_4-4.mid\n",
            "-rw------- 1 root root 3760 Apr 27  2020 6_hiphop-groove6_87_beat_4-4.mid\n",
            "-rw------- 1 root root 1894 Apr 27  2020 7_pop-groove7_138_beat_4-4.mid\n",
            "-rw------- 1 root root 2437 Apr 27  2020 8_rock-groove8_65_beat_4-4.mid\n",
            "-rw------- 1 root root 3448 Apr 27  2020 9_soul-groove9_105_beat_4-4.mid\n",
            "total 57\n",
            "-rw------- 1 root root 33746 Dec 29 00:21 data_prep.py\n",
            "-rw------- 1 root root  2904 Nov 18 21:57 pipeline_utils.py\n",
            "drwx------ 2 root root  4096 May 10  2020 __pycache__\n",
            "-rw------- 1 root root  7847 Aug 18 22:09 stats_n_features.py\n",
            "-rw------- 1 root root  8459 Aug 18 22:03 visualizations.py\n"
          ],
          "name": "stdout"
        }
      ]
    },
    {
      "cell_type": "markdown",
      "metadata": {
        "id": "SBKOdMxXFygn"
      },
      "source": [
        "## Auto reload module\n",
        "\n",
        "Now using library code I've created and saved to google drive which is automatically pushed to the cloud and made available to the colab env. The autoreload stuff below should help imports to 'reimport' to load changes to the library code.\n",
        "\n",
        "It's not the quickest/ most reliable, so if in a hurry, brute force loading of changes by restarting the runtime."
      ]
    },
    {
      "cell_type": "code",
      "metadata": {
        "id": "jErvkusO6D01"
      },
      "source": [
        "# tool to auto reload modules.\n",
        "%load_ext autoreload\n",
        "\n",
        "# config to auto-reload all modules, handy to make \n",
        "# writing and testing modules much easier.\n",
        "%autoreload 2"
      ],
      "execution_count": 6,
      "outputs": []
    },
    {
      "cell_type": "markdown",
      "metadata": {
        "id": "2qR3tjMl4bv2"
      },
      "source": [
        "## Imports and accessing lib functions"
      ]
    },
    {
      "cell_type": "code",
      "metadata": {
        "id": "rjqCavr4sz4x"
      },
      "source": [
        "# regular imports\n",
        "import pandas as pd\n",
        "import math\n",
        "import matplotlib.pyplot as plt\n",
        "import numpy as np\n",
        "from scipy import stats\n",
        "\n",
        "# object that provides colours for charts\n",
        "from itertools import cycle\n",
        "\n",
        "# sklearn imports\n",
        "from sklearn.metrics import classification_report, confusion_matrix, accuracy_score\n",
        "from sklearn.neighbors import KNeighborsClassifier\n",
        "from sklearn import svm\n",
        "from sklearn.model_selection import GridSearchCV, train_test_split, StratifiedKFold, KFold, cross_val_score\n",
        "from sklearn.preprocessing import MinMaxScaler, RobustScaler, OneHotEncoder, StandardScaler, OrdinalEncoder\n",
        "from sklearn.compose import ColumnTransformer\n",
        "from sklearn.base import BaseEstimator, TransformerMixin\n",
        "from sklearn.pipeline import Pipeline\n",
        "from sklearn.decomposition import PCA\n",
        "from sklearn.dummy import DummyClassifier\n",
        "from sklearn.ensemble import GradientBoostingClassifier\n",
        "\n",
        "import matplotlib.pyplot as plt\n",
        "import seaborn as sns\n",
        "%matplotlib inline\n"
      ],
      "execution_count": 7,
      "outputs": []
    },
    {
      "cell_type": "code",
      "metadata": {
        "id": "-i6pGULtLiXb",
        "colab": {
          "base_uri": "https://localhost:8080/"
        },
        "outputId": "1d344340-1a50-4369-8e3a-fadbc197626d"
      },
      "source": [
        "# install required libs\n",
        "!pip install mido"
      ],
      "execution_count": 8,
      "outputs": [
        {
          "output_type": "stream",
          "text": [
            "Collecting mido\n",
            "\u001b[?25l  Downloading https://files.pythonhosted.org/packages/20/0a/81beb587b1ae832ea6a1901dc7c6faa380e8dd154e0a862f0a9f3d2afab9/mido-1.2.9-py2.py3-none-any.whl (52kB)\n",
            "\r\u001b[K     |██████▎                         | 10kB 16.8MB/s eta 0:00:01\r\u001b[K     |████████████▌                   | 20kB 21.0MB/s eta 0:00:01\r\u001b[K     |██████████████████▊             | 30kB 11.8MB/s eta 0:00:01\r\u001b[K     |█████████████████████████       | 40kB 8.3MB/s eta 0:00:01\r\u001b[K     |███████████████████████████████▏| 51kB 4.4MB/s eta 0:00:01\r\u001b[K     |████████████████████████████████| 61kB 2.9MB/s \n",
            "\u001b[?25hInstalling collected packages: mido\n",
            "Successfully installed mido-1.2.9\n"
          ],
          "name": "stdout"
        }
      ]
    },
    {
      "cell_type": "code",
      "metadata": {
        "id": "DQ0sg10tzufp",
        "colab": {
          "base_uri": "https://localhost:8080/"
        },
        "outputId": "44383b1b-4efd-4685-bcf8-d4f29feef59b"
      },
      "source": [
        "# import my modules\n",
        "import sys\n",
        "sys.path.append('/content/drive/My Drive/LYIT/Dissertation/modules/')\n",
        "import data_prep as dp\n",
        "import pipeline_utils as pu\n",
        "import stats_n_features as sf"
      ],
      "execution_count": 9,
      "outputs": [
        {
          "output_type": "stream",
          "text": [
            ">> LOADING custom module, when: 2021-01-01 17:03:23.356649, module name: stats_n_features\n",
            ">> LOADING custom module, when: 2021-01-01 17:03:23.357878, module name: data_prep\n",
            ">> LOADING custom module, when: 2021-01-01 17:03:23.630751, module name: pipeline_utils\n"
          ],
          "name": "stdout"
        }
      ]
    },
    {
      "cell_type": "code",
      "metadata": {
        "colab": {
          "base_uri": "https://localhost:8080/"
        },
        "id": "8sJrzgLAYHdB",
        "outputId": "72a459a8-1925-4c1a-8c72-6a3d66697a42"
      },
      "source": [
        "# test module function calls..\n",
        "dp.test_function_call('bling')\n",
        "sf.test_function_call('hello')"
      ],
      "execution_count": 10,
      "outputs": [
        {
          "output_type": "stream",
          "text": [
            "Test function in data_prep.py called and worked! when: 2021-01-01 17:03:23.662003,  param:bling\n",
            "Test function in stats_n_features called and worked! when: 2021-01-01 17:03:23.662383,  param:hello\n"
          ],
          "name": "stdout"
        }
      ]
    },
    {
      "cell_type": "markdown",
      "metadata": {
        "id": "lBT_BaeD4o8L"
      },
      "source": [
        "## Pandas display options"
      ]
    },
    {
      "cell_type": "code",
      "metadata": {
        "id": "KkLdwFFAAotC"
      },
      "source": [
        "def set_pandas_display_options() -> None:\n",
        "    # Ref: https://stackoverflow.com/a/52432757/\n",
        "    display = pd.options.display\n",
        "\n",
        "    display.max_columns = 1000\n",
        "    display.max_rows = 2000\n",
        "    display.max_colwidth = 1000\n",
        "    display.width = None\n",
        "    # display.precision = 2  # set as needed\n",
        "\n",
        "set_pandas_display_options()\n",
        "#pd.reset_option('all')\n"
      ],
      "execution_count": 11,
      "outputs": []
    },
    {
      "cell_type": "markdown",
      "metadata": {
        "id": "c3onp99QayAH"
      },
      "source": [
        "# Load & filter data..."
      ]
    },
    {
      "cell_type": "code",
      "metadata": {
        "id": "0vKT1X98Zc7L"
      },
      "source": [
        "##################################\n",
        "######## LOAD\n",
        "\n",
        "my_data = dp.load_all_data()\n",
        "all_drummer_data = my_data.copy()\n",
        ";"
      ],
      "execution_count": null,
      "outputs": []
    },
    {
      "cell_type": "code",
      "metadata": {
        "colab": {
          "base_uri": "https://localhost:8080/",
          "height": 431
        },
        "id": "vwA5UbD_j4K2",
        "outputId": "30859190-4790-4f20-9ccd-0a0d8562b67e"
      },
      "source": [
        "logs_df = dp.get_last_logs()\r\n",
        "display(logs_df.head(3))\r\n",
        "filtered_logs_df = logs_df[['style', 'tempo_us', 'tempo_bpm', 'ts_num', 'ts_den', 'PPQN', 'bars_in_file', 'ticks_per_bin', 'ms_per_bin']]\r\n",
        "#check_stats_df = filtered_logs_df.groupby('style').agg([pd.Series.mode, 'nunique'])\r\n",
        "check_stats_df = filtered_logs_df.groupby('style').agg([pd.Series.mode])\r\n",
        "check_stats_df.columns = check_stats_df.columns.droplevel(1)\r\n",
        "#check_stats_df.to_csv(r'/content/drive/My Drive/check_stats_df.csv')\r\n",
        "display(check_stats_df)"
      ],
      "execution_count": 13,
      "outputs": [
        {
          "output_type": "display_data",
          "data": {
            "text/html": [
              "<div>\n",
              "<style scoped>\n",
              "    .dataframe tbody tr th:only-of-type {\n",
              "        vertical-align: middle;\n",
              "    }\n",
              "\n",
              "    .dataframe tbody tr th {\n",
              "        vertical-align: top;\n",
              "    }\n",
              "\n",
              "    .dataframe thead th {\n",
              "        text-align: right;\n",
              "    }\n",
              "</style>\n",
              "<table border=\"1\" class=\"dataframe\">\n",
              "  <thead>\n",
              "    <tr style=\"text-align: right;\">\n",
              "      <th></th>\n",
              "      <th>file_name</th>\n",
              "      <th>style</th>\n",
              "      <th>drummer</th>\n",
              "      <th>file_type</th>\n",
              "      <th>ts_num</th>\n",
              "      <th>ts_den</th>\n",
              "      <th>tempo_us</th>\n",
              "      <th>tempo_bpm</th>\n",
              "      <th>PPQN</th>\n",
              "      <th>first_hit</th>\n",
              "      <th>last_hit</th>\n",
              "      <th>bars_in_file</th>\n",
              "      <th>quantize_level</th>\n",
              "      <th>ticks_per_beat</th>\n",
              "      <th>ticks_per_bin</th>\n",
              "      <th>ms_per_bin</th>\n",
              "      <th>err_buckets</th>\n",
              "    </tr>\n",
              "  </thead>\n",
              "  <tbody>\n",
              "    <tr>\n",
              "      <th>0</th>\n",
              "      <td>drummer1/eval_session/1_funk-groove1_138_beat_4-4.mid</td>\n",
              "      <td>funk/groove1</td>\n",
              "      <td>drummer1</td>\n",
              "      <td>0</td>\n",
              "      <td>4</td>\n",
              "      <td>4</td>\n",
              "      <td>434783</td>\n",
              "      <td>137.999876</td>\n",
              "      <td>480</td>\n",
              "      <td>3</td>\n",
              "      <td>30658</td>\n",
              "      <td>16</td>\n",
              "      <td>16.0</td>\n",
              "      <td>480.0</td>\n",
              "      <td>120</td>\n",
              "      <td>0.108696</td>\n",
              "      <td>(24, 13)</td>\n",
              "    </tr>\n",
              "    <tr>\n",
              "      <th>1</th>\n",
              "      <td>drummer1/eval_session/3_soul-groove3_86_beat_4-4.mid</td>\n",
              "      <td>soul/groove3</td>\n",
              "      <td>drummer1</td>\n",
              "      <td>0</td>\n",
              "      <td>4</td>\n",
              "      <td>4</td>\n",
              "      <td>697674</td>\n",
              "      <td>86.000052</td>\n",
              "      <td>480</td>\n",
              "      <td>0</td>\n",
              "      <td>30696</td>\n",
              "      <td>16</td>\n",
              "      <td>16.0</td>\n",
              "      <td>480.0</td>\n",
              "      <td>120</td>\n",
              "      <td>0.174419</td>\n",
              "      <td>(8, 13)</td>\n",
              "    </tr>\n",
              "    <tr>\n",
              "      <th>2</th>\n",
              "      <td>drummer1/eval_session/4_soul-groove4_80_beat_4-4.mid</td>\n",
              "      <td>soul/groove4</td>\n",
              "      <td>drummer1</td>\n",
              "      <td>0</td>\n",
              "      <td>4</td>\n",
              "      <td>4</td>\n",
              "      <td>750000</td>\n",
              "      <td>80.000000</td>\n",
              "      <td>480</td>\n",
              "      <td>0</td>\n",
              "      <td>30470</td>\n",
              "      <td>16</td>\n",
              "      <td>16.0</td>\n",
              "      <td>480.0</td>\n",
              "      <td>120</td>\n",
              "      <td>0.187500</td>\n",
              "      <td>(0, 13)</td>\n",
              "    </tr>\n",
              "  </tbody>\n",
              "</table>\n",
              "</div>"
            ],
            "text/plain": [
              "                                               file_name         style  \\\n",
              "0  drummer1/eval_session/1_funk-groove1_138_beat_4-4.mid  funk/groove1   \n",
              "1   drummer1/eval_session/3_soul-groove3_86_beat_4-4.mid  soul/groove3   \n",
              "2   drummer1/eval_session/4_soul-groove4_80_beat_4-4.mid  soul/groove4   \n",
              "\n",
              "    drummer  file_type  ts_num  ts_den  tempo_us   tempo_bpm  PPQN  first_hit  \\\n",
              "0  drummer1          0       4       4    434783  137.999876   480          3   \n",
              "1  drummer1          0       4       4    697674   86.000052   480          0   \n",
              "2  drummer1          0       4       4    750000   80.000000   480          0   \n",
              "\n",
              "   last_hit  bars_in_file  quantize_level  ticks_per_beat  ticks_per_bin  \\\n",
              "0     30658            16            16.0           480.0            120   \n",
              "1     30696            16            16.0           480.0            120   \n",
              "2     30470            16            16.0           480.0            120   \n",
              "\n",
              "   ms_per_bin err_buckets  \n",
              "0    0.108696    (24, 13)  \n",
              "1    0.174419     (8, 13)  \n",
              "2    0.187500     (0, 13)  "
            ]
          },
          "metadata": {
            "tags": []
          }
        },
        {
          "output_type": "display_data",
          "data": {
            "text/html": [
              "<div>\n",
              "<style scoped>\n",
              "    .dataframe tbody tr th:only-of-type {\n",
              "        vertical-align: middle;\n",
              "    }\n",
              "\n",
              "    .dataframe tbody tr th {\n",
              "        vertical-align: top;\n",
              "    }\n",
              "\n",
              "    .dataframe thead th {\n",
              "        text-align: right;\n",
              "    }\n",
              "</style>\n",
              "<table border=\"1\" class=\"dataframe\">\n",
              "  <thead>\n",
              "    <tr style=\"text-align: right;\">\n",
              "      <th></th>\n",
              "      <th>tempo_us</th>\n",
              "      <th>tempo_bpm</th>\n",
              "      <th>ts_num</th>\n",
              "      <th>ts_den</th>\n",
              "      <th>PPQN</th>\n",
              "      <th>bars_in_file</th>\n",
              "      <th>ticks_per_bin</th>\n",
              "      <th>ms_per_bin</th>\n",
              "    </tr>\n",
              "    <tr>\n",
              "      <th>style</th>\n",
              "      <th></th>\n",
              "      <th></th>\n",
              "      <th></th>\n",
              "      <th></th>\n",
              "      <th></th>\n",
              "      <th></th>\n",
              "      <th></th>\n",
              "      <th></th>\n",
              "    </tr>\n",
              "  </thead>\n",
              "  <tbody>\n",
              "    <tr>\n",
              "      <th>funk/groove1</th>\n",
              "      <td>434783</td>\n",
              "      <td>137.999876</td>\n",
              "      <td>4</td>\n",
              "      <td>4</td>\n",
              "      <td>480</td>\n",
              "      <td>16</td>\n",
              "      <td>120</td>\n",
              "      <td>0.108696</td>\n",
              "    </tr>\n",
              "    <tr>\n",
              "      <th>hiphop/groove6</th>\n",
              "      <td>689655</td>\n",
              "      <td>87.000022</td>\n",
              "      <td>4</td>\n",
              "      <td>4</td>\n",
              "      <td>480</td>\n",
              "      <td>16</td>\n",
              "      <td>120</td>\n",
              "      <td>0.172414</td>\n",
              "    </tr>\n",
              "    <tr>\n",
              "      <th>rock/groove8</th>\n",
              "      <td>923077</td>\n",
              "      <td>64.999995</td>\n",
              "      <td>4</td>\n",
              "      <td>4</td>\n",
              "      <td>480</td>\n",
              "      <td>16</td>\n",
              "      <td>120</td>\n",
              "      <td>0.230769</td>\n",
              "    </tr>\n",
              "    <tr>\n",
              "      <th>soul/groove3</th>\n",
              "      <td>697674</td>\n",
              "      <td>86.000052</td>\n",
              "      <td>4</td>\n",
              "      <td>4</td>\n",
              "      <td>480</td>\n",
              "      <td>16</td>\n",
              "      <td>120</td>\n",
              "      <td>0.174419</td>\n",
              "    </tr>\n",
              "    <tr>\n",
              "      <th>soul/groove4</th>\n",
              "      <td>750000</td>\n",
              "      <td>80.000000</td>\n",
              "      <td>4</td>\n",
              "      <td>4</td>\n",
              "      <td>480</td>\n",
              "      <td>16</td>\n",
              "      <td>120</td>\n",
              "      <td>0.187500</td>\n",
              "    </tr>\n",
              "  </tbody>\n",
              "</table>\n",
              "</div>"
            ],
            "text/plain": [
              "                tempo_us   tempo_bpm  ts_num  ts_den  PPQN  bars_in_file  \\\n",
              "style                                                                      \n",
              "funk/groove1      434783  137.999876       4       4   480            16   \n",
              "hiphop/groove6    689655   87.000022       4       4   480            16   \n",
              "rock/groove8      923077   64.999995       4       4   480            16   \n",
              "soul/groove3      697674   86.000052       4       4   480            16   \n",
              "soul/groove4      750000   80.000000       4       4   480            16   \n",
              "\n",
              "                ticks_per_bin  ms_per_bin  \n",
              "style                                      \n",
              "funk/groove1              120    0.108696  \n",
              "hiphop/groove6            120    0.172414  \n",
              "rock/groove8              120    0.230769  \n",
              "soul/groove3              120    0.174419  \n",
              "soul/groove4              120    0.187500  "
            ]
          },
          "metadata": {
            "tags": []
          }
        }
      ]
    },
    {
      "cell_type": "code",
      "metadata": {
        "id": "ChJbKTegk-aj"
      },
      "source": [
        "# new method of loading data..\r\n",
        "master_df = all_drummer_data['master_df']"
      ],
      "execution_count": 14,
      "outputs": []
    },
    {
      "cell_type": "code",
      "metadata": {
        "id": "_Afass1ShSKh"
      },
      "source": [
        "# example file specific file_df\r\n",
        "#file_bundle = all_drummer_data['/content/drive/My Drive/groove-v1.0.0-midionly/groove/drummer1/eval_session/1_funk-groove1_138_beat_4-4.mid']\r\n",
        "#file_bundle.tight_df\r\n"
      ],
      "execution_count": 15,
      "outputs": []
    },
    {
      "cell_type": "markdown",
      "metadata": {
        "id": "u9yXJCSEa7bO"
      },
      "source": [
        "## Filter songs..."
      ]
    },
    {
      "cell_type": "markdown",
      "metadata": {
        "id": "qjcKzDPgR1sK"
      },
      "source": [
        "Take a look at all file names in the complete data set..."
      ]
    },
    {
      "cell_type": "code",
      "metadata": {
        "colab": {
          "base_uri": "https://localhost:8080/"
        },
        "id": "TX8d6C3cRUv1",
        "outputId": "47d0840f-051a-4910-fc6b-b82202b6b632"
      },
      "source": [
        "list(all_drummer_data.keys())"
      ],
      "execution_count": 16,
      "outputs": [
        {
          "output_type": "execute_result",
          "data": {
            "text/plain": [
              "['/content/drive/My Drive/groove-v1.0.0-midionly/groove/drummer1/eval_session/1_funk-groove1_138_beat_4-4.mid',\n",
              " '/content/drive/My Drive/groove-v1.0.0-midionly/groove/drummer1/eval_session/3_soul-groove3_86_beat_4-4.mid',\n",
              " '/content/drive/My Drive/groove-v1.0.0-midionly/groove/drummer1/eval_session/4_soul-groove4_80_beat_4-4.mid',\n",
              " '/content/drive/My Drive/groove-v1.0.0-midionly/groove/drummer1/eval_session/6_hiphop-groove6_87_beat_4-4.mid',\n",
              " '/content/drive/My Drive/groove-v1.0.0-midionly/groove/drummer1/eval_session/8_rock-groove8_65_beat_4-4.mid',\n",
              " '/content/drive/My Drive/groove-v1.0.0-midionly/groove/drummer5/eval_session/1_funk-groove1_138_beat_4-4.mid',\n",
              " '/content/drive/My Drive/groove-v1.0.0-midionly/groove/drummer5/eval_session/3_soul-groove3_86_beat_4-4.mid',\n",
              " '/content/drive/My Drive/groove-v1.0.0-midionly/groove/drummer5/eval_session/4_soul-groove4_80_beat_4-4.mid',\n",
              " '/content/drive/My Drive/groove-v1.0.0-midionly/groove/drummer5/eval_session/6_hiphop-groove6_87_beat_4-4.mid',\n",
              " '/content/drive/My Drive/groove-v1.0.0-midionly/groove/drummer5/eval_session/8_rock-groove8_65_beat_4-4.mid',\n",
              " '/content/drive/My Drive/groove-v1.0.0-midionly/groove/drummer7/eval_session/1_funk-groove1_138_beat_4-4.mid',\n",
              " '/content/drive/My Drive/groove-v1.0.0-midionly/groove/drummer7/eval_session/3_soul-groove3_86_beat_4-4.mid',\n",
              " '/content/drive/My Drive/groove-v1.0.0-midionly/groove/drummer7/eval_session/4_soul-groove4_80_beat_4-4.mid',\n",
              " '/content/drive/My Drive/groove-v1.0.0-midionly/groove/drummer7/eval_session/6_hiphop-groove6_87_beat_4-4.mid',\n",
              " '/content/drive/My Drive/groove-v1.0.0-midionly/groove/drummer7/eval_session/8_rock-groove8_65_beat_4-4.mid',\n",
              " '/content/drive/My Drive/groove-v1.0.0-midionly/groove/drummer8/eval_session/1_funk-groove1_138_beat_4-4.mid',\n",
              " '/content/drive/My Drive/groove-v1.0.0-midionly/groove/drummer8/eval_session/3_soul-groove3_86_beat_4-4.mid',\n",
              " '/content/drive/My Drive/groove-v1.0.0-midionly/groove/drummer8/eval_session/4_soul-groove4_80_beat_4-4.mid',\n",
              " '/content/drive/My Drive/groove-v1.0.0-midionly/groove/drummer8/eval_session/6_hiphop-groove6_87_beat_4-4.mid',\n",
              " '/content/drive/My Drive/groove-v1.0.0-midionly/groove/drummer8/eval_session/8_rock-groove8_65_beat_4-4.mid',\n",
              " 'master_df']"
            ]
          },
          "metadata": {
            "tags": []
          },
          "execution_count": 16
        }
      ]
    },
    {
      "cell_type": "code",
      "metadata": {
        "colab": {
          "base_uri": "https://localhost:8080/",
          "height": 359
        },
        "id": "JN_ilShok0GU",
        "outputId": "5b6cc794-b2fc-4e35-8f9d-f9a05ca4850b"
      },
      "source": [
        "# compare to new method of loading data..\r\n",
        "master_df.head(10)"
      ],
      "execution_count": 17,
      "outputs": [
        {
          "output_type": "execute_result",
          "data": {
            "text/html": [
              "<div>\n",
              "<style scoped>\n",
              "    .dataframe tbody tr th:only-of-type {\n",
              "        vertical-align: middle;\n",
              "    }\n",
              "\n",
              "    .dataframe tbody tr th {\n",
              "        vertical-align: top;\n",
              "    }\n",
              "\n",
              "    .dataframe thead th {\n",
              "        text-align: right;\n",
              "    }\n",
              "</style>\n",
              "<table border=\"1\" class=\"dataframe\">\n",
              "  <thead>\n",
              "    <tr style=\"text-align: right;\">\n",
              "      <th></th>\n",
              "      <th>drummer_ID</th>\n",
              "      <th>note</th>\n",
              "      <th>velocity</th>\n",
              "      <th>beat_offset</th>\n",
              "      <th>beat_offset_ms</th>\n",
              "      <th>bar_beat_number</th>\n",
              "      <th>style</th>\n",
              "    </tr>\n",
              "  </thead>\n",
              "  <tbody>\n",
              "    <tr>\n",
              "      <th>0</th>\n",
              "      <td>drummer1</td>\n",
              "      <td>hh</td>\n",
              "      <td>55</td>\n",
              "      <td>7</td>\n",
              "      <td>0.006341</td>\n",
              "      <td>1</td>\n",
              "      <td>funk/groove1</td>\n",
              "    </tr>\n",
              "    <tr>\n",
              "      <th>1</th>\n",
              "      <td>drummer1</td>\n",
              "      <td>kick</td>\n",
              "      <td>64</td>\n",
              "      <td>10</td>\n",
              "      <td>0.009058</td>\n",
              "      <td>1</td>\n",
              "      <td>funk/groove1</td>\n",
              "    </tr>\n",
              "    <tr>\n",
              "      <th>2</th>\n",
              "      <td>drummer1</td>\n",
              "      <td>kick</td>\n",
              "      <td>57</td>\n",
              "      <td>-29</td>\n",
              "      <td>-0.026268</td>\n",
              "      <td>3</td>\n",
              "      <td>funk/groove1</td>\n",
              "    </tr>\n",
              "    <tr>\n",
              "      <th>3</th>\n",
              "      <td>drummer1</td>\n",
              "      <td>hh</td>\n",
              "      <td>31</td>\n",
              "      <td>-2</td>\n",
              "      <td>-0.001812</td>\n",
              "      <td>3</td>\n",
              "      <td>funk/groove1</td>\n",
              "    </tr>\n",
              "    <tr>\n",
              "      <th>4</th>\n",
              "      <td>drummer1</td>\n",
              "      <td>hh</td>\n",
              "      <td>54</td>\n",
              "      <td>-13</td>\n",
              "      <td>-0.011775</td>\n",
              "      <td>5</td>\n",
              "      <td>funk/groove1</td>\n",
              "    </tr>\n",
              "    <tr>\n",
              "      <th>5</th>\n",
              "      <td>drummer1</td>\n",
              "      <td>snare</td>\n",
              "      <td>93</td>\n",
              "      <td>-5</td>\n",
              "      <td>-0.004529</td>\n",
              "      <td>5</td>\n",
              "      <td>funk/groove1</td>\n",
              "    </tr>\n",
              "    <tr>\n",
              "      <th>6</th>\n",
              "      <td>drummer1</td>\n",
              "      <td>hh</td>\n",
              "      <td>42</td>\n",
              "      <td>-16</td>\n",
              "      <td>-0.014493</td>\n",
              "      <td>7</td>\n",
              "      <td>funk/groove1</td>\n",
              "    </tr>\n",
              "    <tr>\n",
              "      <th>7</th>\n",
              "      <td>drummer1</td>\n",
              "      <td>snare</td>\n",
              "      <td>33</td>\n",
              "      <td>-12</td>\n",
              "      <td>-0.010870</td>\n",
              "      <td>8</td>\n",
              "      <td>funk/groove1</td>\n",
              "    </tr>\n",
              "    <tr>\n",
              "      <th>8</th>\n",
              "      <td>drummer1</td>\n",
              "      <td>snare</td>\n",
              "      <td>33</td>\n",
              "      <td>-14</td>\n",
              "      <td>-0.012681</td>\n",
              "      <td>10</td>\n",
              "      <td>funk/groove1</td>\n",
              "    </tr>\n",
              "    <tr>\n",
              "      <th>9</th>\n",
              "      <td>drummer1</td>\n",
              "      <td>kick</td>\n",
              "      <td>59</td>\n",
              "      <td>-37</td>\n",
              "      <td>-0.033515</td>\n",
              "      <td>11</td>\n",
              "      <td>funk/groove1</td>\n",
              "    </tr>\n",
              "  </tbody>\n",
              "</table>\n",
              "</div>"
            ],
            "text/plain": [
              "  drummer_ID   note  velocity  beat_offset  beat_offset_ms  bar_beat_number  \\\n",
              "0   drummer1     hh        55            7        0.006341                1   \n",
              "1   drummer1   kick        64           10        0.009058                1   \n",
              "2   drummer1   kick        57          -29       -0.026268                3   \n",
              "3   drummer1     hh        31           -2       -0.001812                3   \n",
              "4   drummer1     hh        54          -13       -0.011775                5   \n",
              "5   drummer1  snare        93           -5       -0.004529                5   \n",
              "6   drummer1     hh        42          -16       -0.014493                7   \n",
              "7   drummer1  snare        33          -12       -0.010870                8   \n",
              "8   drummer1  snare        33          -14       -0.012681               10   \n",
              "9   drummer1   kick        59          -37       -0.033515               11   \n",
              "\n",
              "          style  \n",
              "0  funk/groove1  \n",
              "1  funk/groove1  \n",
              "2  funk/groove1  \n",
              "3  funk/groove1  \n",
              "4  funk/groove1  \n",
              "5  funk/groove1  \n",
              "6  funk/groove1  \n",
              "7  funk/groove1  \n",
              "8  funk/groove1  \n",
              "9  funk/groove1  "
            ]
          },
          "metadata": {
            "tags": []
          },
          "execution_count": 17
        }
      ]
    },
    {
      "cell_type": "markdown",
      "metadata": {
        "id": "sr481U8XvdIX"
      },
      "source": [
        "# Setup & select data to use"
      ]
    },
    {
      "cell_type": "markdown",
      "metadata": {
        "id": "oyahmlE3tctb"
      },
      "source": [
        "**NOTE: v1 data format reqd for modelling**\r\n",
        "\r\n",
        "Specifically, these models initially setup to use DFs with the following features...\r\n",
        "1. drummer_ID\r\n",
        "2. note\r\n",
        "3. velocity\r\n",
        "4. beat_offset\t\r\n",
        "5. bar_beat_number\r\n",
        "\r\n",
        "In v2 of the dataframes from the loading code includes additional cols for ..\r\n",
        "6. beat_offset_ms\r\n",
        "7. style\r\n",
        "\r\n",
        "When doing further work on models using v2 versions of data, need to ensure to drop cols for  'beat_offset_ms' and 'style' to duplicate previous results."
      ]
    },
    {
      "cell_type": "markdown",
      "metadata": {
        "id": "x70Jo6g1ckm3"
      },
      "source": [
        "**v2 example...**"
      ]
    },
    {
      "cell_type": "code",
      "metadata": {
        "colab": {
          "base_uri": "https://localhost:8080/",
          "height": 255
        },
        "id": "uCmCjz-DyU9z",
        "outputId": "c852bb24-fa81-425f-ecc0-0b9b6a2e5093"
      },
      "source": [
        "master_df.head()\r\n",
        "print('\\n > list of styles in dataset: {}'.format(master_df['style'].unique()))"
      ],
      "execution_count": 18,
      "outputs": [
        {
          "output_type": "execute_result",
          "data": {
            "text/html": [
              "<div>\n",
              "<style scoped>\n",
              "    .dataframe tbody tr th:only-of-type {\n",
              "        vertical-align: middle;\n",
              "    }\n",
              "\n",
              "    .dataframe tbody tr th {\n",
              "        vertical-align: top;\n",
              "    }\n",
              "\n",
              "    .dataframe thead th {\n",
              "        text-align: right;\n",
              "    }\n",
              "</style>\n",
              "<table border=\"1\" class=\"dataframe\">\n",
              "  <thead>\n",
              "    <tr style=\"text-align: right;\">\n",
              "      <th></th>\n",
              "      <th>drummer_ID</th>\n",
              "      <th>note</th>\n",
              "      <th>velocity</th>\n",
              "      <th>beat_offset</th>\n",
              "      <th>beat_offset_ms</th>\n",
              "      <th>bar_beat_number</th>\n",
              "      <th>style</th>\n",
              "    </tr>\n",
              "  </thead>\n",
              "  <tbody>\n",
              "    <tr>\n",
              "      <th>0</th>\n",
              "      <td>drummer1</td>\n",
              "      <td>hh</td>\n",
              "      <td>55</td>\n",
              "      <td>7</td>\n",
              "      <td>0.006341</td>\n",
              "      <td>1</td>\n",
              "      <td>funk/groove1</td>\n",
              "    </tr>\n",
              "    <tr>\n",
              "      <th>1</th>\n",
              "      <td>drummer1</td>\n",
              "      <td>kick</td>\n",
              "      <td>64</td>\n",
              "      <td>10</td>\n",
              "      <td>0.009058</td>\n",
              "      <td>1</td>\n",
              "      <td>funk/groove1</td>\n",
              "    </tr>\n",
              "    <tr>\n",
              "      <th>2</th>\n",
              "      <td>drummer1</td>\n",
              "      <td>kick</td>\n",
              "      <td>57</td>\n",
              "      <td>-29</td>\n",
              "      <td>-0.026268</td>\n",
              "      <td>3</td>\n",
              "      <td>funk/groove1</td>\n",
              "    </tr>\n",
              "    <tr>\n",
              "      <th>3</th>\n",
              "      <td>drummer1</td>\n",
              "      <td>hh</td>\n",
              "      <td>31</td>\n",
              "      <td>-2</td>\n",
              "      <td>-0.001812</td>\n",
              "      <td>3</td>\n",
              "      <td>funk/groove1</td>\n",
              "    </tr>\n",
              "    <tr>\n",
              "      <th>4</th>\n",
              "      <td>drummer1</td>\n",
              "      <td>hh</td>\n",
              "      <td>54</td>\n",
              "      <td>-13</td>\n",
              "      <td>-0.011775</td>\n",
              "      <td>5</td>\n",
              "      <td>funk/groove1</td>\n",
              "    </tr>\n",
              "  </tbody>\n",
              "</table>\n",
              "</div>"
            ],
            "text/plain": [
              "  drummer_ID  note  velocity  beat_offset  beat_offset_ms  bar_beat_number  \\\n",
              "0   drummer1    hh        55            7        0.006341                1   \n",
              "1   drummer1  kick        64           10        0.009058                1   \n",
              "2   drummer1  kick        57          -29       -0.026268                3   \n",
              "3   drummer1    hh        31           -2       -0.001812                3   \n",
              "4   drummer1    hh        54          -13       -0.011775                5   \n",
              "\n",
              "          style  \n",
              "0  funk/groove1  \n",
              "1  funk/groove1  \n",
              "2  funk/groove1  \n",
              "3  funk/groove1  \n",
              "4  funk/groove1  "
            ]
          },
          "metadata": {
            "tags": []
          },
          "execution_count": 18
        },
        {
          "output_type": "stream",
          "text": [
            "\n",
            " > list of styles in dataset: ['funk/groove1' 'soul/groove3' 'soul/groove4' 'hiphop/groove6'\n",
            " 'rock/groove8']\n"
          ],
          "name": "stdout"
        }
      ]
    },
    {
      "cell_type": "markdown",
      "metadata": {
        "id": "AZTeyasfc0mH"
      },
      "source": [
        "**v1 example, drop cols steps reqd...**"
      ]
    },
    {
      "cell_type": "code",
      "metadata": {
        "colab": {
          "base_uri": "https://localhost:8080/",
          "height": 204
        },
        "id": "Cm2-6N03dCQk",
        "outputId": "afe720f0-5012-46fb-dbc4-6324e2d8449d"
      },
      "source": [
        "# drop cols to exclude from modelling\r\n",
        "master_df.drop(columns=['beat_offset_ms', 'style']).head()"
      ],
      "execution_count": 19,
      "outputs": [
        {
          "output_type": "execute_result",
          "data": {
            "text/html": [
              "<div>\n",
              "<style scoped>\n",
              "    .dataframe tbody tr th:only-of-type {\n",
              "        vertical-align: middle;\n",
              "    }\n",
              "\n",
              "    .dataframe tbody tr th {\n",
              "        vertical-align: top;\n",
              "    }\n",
              "\n",
              "    .dataframe thead th {\n",
              "        text-align: right;\n",
              "    }\n",
              "</style>\n",
              "<table border=\"1\" class=\"dataframe\">\n",
              "  <thead>\n",
              "    <tr style=\"text-align: right;\">\n",
              "      <th></th>\n",
              "      <th>drummer_ID</th>\n",
              "      <th>note</th>\n",
              "      <th>velocity</th>\n",
              "      <th>beat_offset</th>\n",
              "      <th>bar_beat_number</th>\n",
              "    </tr>\n",
              "  </thead>\n",
              "  <tbody>\n",
              "    <tr>\n",
              "      <th>0</th>\n",
              "      <td>drummer1</td>\n",
              "      <td>hh</td>\n",
              "      <td>55</td>\n",
              "      <td>7</td>\n",
              "      <td>1</td>\n",
              "    </tr>\n",
              "    <tr>\n",
              "      <th>1</th>\n",
              "      <td>drummer1</td>\n",
              "      <td>kick</td>\n",
              "      <td>64</td>\n",
              "      <td>10</td>\n",
              "      <td>1</td>\n",
              "    </tr>\n",
              "    <tr>\n",
              "      <th>2</th>\n",
              "      <td>drummer1</td>\n",
              "      <td>kick</td>\n",
              "      <td>57</td>\n",
              "      <td>-29</td>\n",
              "      <td>3</td>\n",
              "    </tr>\n",
              "    <tr>\n",
              "      <th>3</th>\n",
              "      <td>drummer1</td>\n",
              "      <td>hh</td>\n",
              "      <td>31</td>\n",
              "      <td>-2</td>\n",
              "      <td>3</td>\n",
              "    </tr>\n",
              "    <tr>\n",
              "      <th>4</th>\n",
              "      <td>drummer1</td>\n",
              "      <td>hh</td>\n",
              "      <td>54</td>\n",
              "      <td>-13</td>\n",
              "      <td>5</td>\n",
              "    </tr>\n",
              "  </tbody>\n",
              "</table>\n",
              "</div>"
            ],
            "text/plain": [
              "  drummer_ID  note  velocity  beat_offset  bar_beat_number\n",
              "0   drummer1    hh        55            7                1\n",
              "1   drummer1  kick        64           10                1\n",
              "2   drummer1  kick        57          -29                3\n",
              "3   drummer1    hh        31           -2                3\n",
              "4   drummer1    hh        54          -13                5"
            ]
          },
          "metadata": {
            "tags": []
          },
          "execution_count": 19
        }
      ]
    },
    {
      "cell_type": "markdown",
      "metadata": {
        "id": "Sx-WWZXGWgrR"
      },
      "source": [
        "## Song style selection"
      ]
    },
    {
      "cell_type": "code",
      "metadata": {
        "id": "ZcEXMOryvRxZ"
      },
      "source": [
        "# make a copy\r\n",
        "working_data = master_df.copy() \r\n",
        "\r\n",
        "# drop redundant cols to exclude from modelling\r\n",
        "working_data.drop(columns=['beat_offset_ms'], inplace=True)\r\n",
        "\r\n",
        "\r\n",
        "# select/ filter to subset of styles if required.\r\n",
        "# skip this step by leaving 'working_data' as is, comment out \r\n",
        "# remaining code in this box ...\r\n",
        "\r\n",
        "# list of all styles\r\n",
        "#selected_styles = ['funk/groove1','soul/groove3','soul/groove4','hiphop/groove6','rock/groove8']\r\n",
        "\r\n",
        "# pick out single style\r\n",
        "#selected_styles = ['funk/groove1']\r\n",
        "\r\n",
        "# filter to train on one style, test on others to \r\n",
        "# see if what's learned on one is generic enough to\r\n",
        "# map to completely unseen data...\r\n",
        "#selected_styles = ['hiphop/groove6']\r\n",
        "selected_styles = ['funk/groove1','soul/groove3','soul/groove4','rock/groove8']\r\n",
        "\r\n",
        "# apply the filter...\r\n",
        "working_data = working_data[working_data['style'].isin(selected_styles)]\r\n"
      ],
      "execution_count": 70,
      "outputs": []
    },
    {
      "cell_type": "code",
      "metadata": {
        "colab": {
          "base_uri": "https://localhost:8080/",
          "height": 329
        },
        "id": "aEavXjNev2IT",
        "outputId": "00f989ce-df2d-4dec-fe8a-5a1819341784"
      },
      "source": [
        "working_data.head(3)\r\n",
        "working_data.describe(include='all').head()"
      ],
      "execution_count": 71,
      "outputs": [
        {
          "output_type": "execute_result",
          "data": {
            "text/html": [
              "<div>\n",
              "<style scoped>\n",
              "    .dataframe tbody tr th:only-of-type {\n",
              "        vertical-align: middle;\n",
              "    }\n",
              "\n",
              "    .dataframe tbody tr th {\n",
              "        vertical-align: top;\n",
              "    }\n",
              "\n",
              "    .dataframe thead th {\n",
              "        text-align: right;\n",
              "    }\n",
              "</style>\n",
              "<table border=\"1\" class=\"dataframe\">\n",
              "  <thead>\n",
              "    <tr style=\"text-align: right;\">\n",
              "      <th></th>\n",
              "      <th>drummer_ID</th>\n",
              "      <th>note</th>\n",
              "      <th>velocity</th>\n",
              "      <th>beat_offset</th>\n",
              "      <th>bar_beat_number</th>\n",
              "      <th>style</th>\n",
              "    </tr>\n",
              "  </thead>\n",
              "  <tbody>\n",
              "    <tr>\n",
              "      <th>0</th>\n",
              "      <td>drummer1</td>\n",
              "      <td>hh</td>\n",
              "      <td>55</td>\n",
              "      <td>7</td>\n",
              "      <td>1</td>\n",
              "      <td>funk/groove1</td>\n",
              "    </tr>\n",
              "    <tr>\n",
              "      <th>1</th>\n",
              "      <td>drummer1</td>\n",
              "      <td>kick</td>\n",
              "      <td>64</td>\n",
              "      <td>10</td>\n",
              "      <td>1</td>\n",
              "      <td>funk/groove1</td>\n",
              "    </tr>\n",
              "    <tr>\n",
              "      <th>2</th>\n",
              "      <td>drummer1</td>\n",
              "      <td>kick</td>\n",
              "      <td>57</td>\n",
              "      <td>-29</td>\n",
              "      <td>3</td>\n",
              "      <td>funk/groove1</td>\n",
              "    </tr>\n",
              "  </tbody>\n",
              "</table>\n",
              "</div>"
            ],
            "text/plain": [
              "  drummer_ID  note  velocity  beat_offset  bar_beat_number         style\n",
              "0   drummer1    hh        55            7                1  funk/groove1\n",
              "1   drummer1  kick        64           10                1  funk/groove1\n",
              "2   drummer1  kick        57          -29                3  funk/groove1"
            ]
          },
          "metadata": {
            "tags": []
          },
          "execution_count": 71
        },
        {
          "output_type": "execute_result",
          "data": {
            "text/html": [
              "<div>\n",
              "<style scoped>\n",
              "    .dataframe tbody tr th:only-of-type {\n",
              "        vertical-align: middle;\n",
              "    }\n",
              "\n",
              "    .dataframe tbody tr th {\n",
              "        vertical-align: top;\n",
              "    }\n",
              "\n",
              "    .dataframe thead th {\n",
              "        text-align: right;\n",
              "    }\n",
              "</style>\n",
              "<table border=\"1\" class=\"dataframe\">\n",
              "  <thead>\n",
              "    <tr style=\"text-align: right;\">\n",
              "      <th></th>\n",
              "      <th>drummer_ID</th>\n",
              "      <th>note</th>\n",
              "      <th>velocity</th>\n",
              "      <th>beat_offset</th>\n",
              "      <th>bar_beat_number</th>\n",
              "      <th>style</th>\n",
              "    </tr>\n",
              "  </thead>\n",
              "  <tbody>\n",
              "    <tr>\n",
              "      <th>count</th>\n",
              "      <td>4410</td>\n",
              "      <td>4410</td>\n",
              "      <td>4410.000000</td>\n",
              "      <td>4410.00000</td>\n",
              "      <td>4410.0000</td>\n",
              "      <td>4410</td>\n",
              "    </tr>\n",
              "    <tr>\n",
              "      <th>unique</th>\n",
              "      <td>4</td>\n",
              "      <td>3</td>\n",
              "      <td>NaN</td>\n",
              "      <td>NaN</td>\n",
              "      <td>NaN</td>\n",
              "      <td>4</td>\n",
              "    </tr>\n",
              "    <tr>\n",
              "      <th>top</th>\n",
              "      <td>drummer1</td>\n",
              "      <td>hh</td>\n",
              "      <td>NaN</td>\n",
              "      <td>NaN</td>\n",
              "      <td>NaN</td>\n",
              "      <td>soul/groove3</td>\n",
              "    </tr>\n",
              "    <tr>\n",
              "      <th>freq</th>\n",
              "      <td>1138</td>\n",
              "      <td>2537</td>\n",
              "      <td>NaN</td>\n",
              "      <td>NaN</td>\n",
              "      <td>NaN</td>\n",
              "      <td>1677</td>\n",
              "    </tr>\n",
              "    <tr>\n",
              "      <th>mean</th>\n",
              "      <td>NaN</td>\n",
              "      <td>NaN</td>\n",
              "      <td>67.824036</td>\n",
              "      <td>-4.88322</td>\n",
              "      <td>8.2322</td>\n",
              "      <td>NaN</td>\n",
              "    </tr>\n",
              "  </tbody>\n",
              "</table>\n",
              "</div>"
            ],
            "text/plain": [
              "       drummer_ID  note     velocity  beat_offset  bar_beat_number  \\\n",
              "count        4410  4410  4410.000000   4410.00000        4410.0000   \n",
              "unique          4     3          NaN          NaN              NaN   \n",
              "top      drummer1    hh          NaN          NaN              NaN   \n",
              "freq         1138  2537          NaN          NaN              NaN   \n",
              "mean          NaN   NaN    67.824036     -4.88322           8.2322   \n",
              "\n",
              "               style  \n",
              "count           4410  \n",
              "unique             4  \n",
              "top     soul/groove3  \n",
              "freq            1677  \n",
              "mean             NaN  "
            ]
          },
          "metadata": {
            "tags": []
          },
          "execution_count": 71
        }
      ]
    },
    {
      "cell_type": "markdown",
      "metadata": {
        "id": "0PsIAz0QYtbk"
      },
      "source": [
        "## X, y split"
      ]
    },
    {
      "cell_type": "markdown",
      "metadata": {
        "id": "ArftiVcD-2fe"
      },
      "source": [
        "Break into X, y before continuing ..."
      ]
    },
    {
      "cell_type": "code",
      "metadata": {
        "id": "7_dNfV_NxVRu"
      },
      "source": [
        "# BREAK INTO X, y\n",
        "y = working_data['drummer_ID'].to_numpy()\n",
        "X = working_data.drop(['drummer_ID' ], axis=1) #.to_numpy()"
      ],
      "execution_count": 72,
      "outputs": []
    },
    {
      "cell_type": "code",
      "metadata": {
        "colab": {
          "base_uri": "https://localhost:8080/",
          "height": 453
        },
        "id": "-RIQWb1YFZrm",
        "outputId": "9f1c26ce-ce98-4515-a40e-9be68fdbbaaa"
      },
      "source": [
        "pd.DataFrame(y).describe()\r\n",
        "X.describe()"
      ],
      "execution_count": 78,
      "outputs": [
        {
          "output_type": "execute_result",
          "data": {
            "text/html": [
              "<div>\n",
              "<style scoped>\n",
              "    .dataframe tbody tr th:only-of-type {\n",
              "        vertical-align: middle;\n",
              "    }\n",
              "\n",
              "    .dataframe tbody tr th {\n",
              "        vertical-align: top;\n",
              "    }\n",
              "\n",
              "    .dataframe thead th {\n",
              "        text-align: right;\n",
              "    }\n",
              "</style>\n",
              "<table border=\"1\" class=\"dataframe\">\n",
              "  <thead>\n",
              "    <tr style=\"text-align: right;\">\n",
              "      <th></th>\n",
              "      <th>0</th>\n",
              "    </tr>\n",
              "  </thead>\n",
              "  <tbody>\n",
              "    <tr>\n",
              "      <th>count</th>\n",
              "      <td>4410</td>\n",
              "    </tr>\n",
              "    <tr>\n",
              "      <th>unique</th>\n",
              "      <td>4</td>\n",
              "    </tr>\n",
              "    <tr>\n",
              "      <th>top</th>\n",
              "      <td>drummer1</td>\n",
              "    </tr>\n",
              "    <tr>\n",
              "      <th>freq</th>\n",
              "      <td>1138</td>\n",
              "    </tr>\n",
              "  </tbody>\n",
              "</table>\n",
              "</div>"
            ],
            "text/plain": [
              "               0\n",
              "count       4410\n",
              "unique         4\n",
              "top     drummer1\n",
              "freq        1138"
            ]
          },
          "metadata": {
            "tags": []
          },
          "execution_count": 78
        },
        {
          "output_type": "execute_result",
          "data": {
            "text/html": [
              "<div>\n",
              "<style scoped>\n",
              "    .dataframe tbody tr th:only-of-type {\n",
              "        vertical-align: middle;\n",
              "    }\n",
              "\n",
              "    .dataframe tbody tr th {\n",
              "        vertical-align: top;\n",
              "    }\n",
              "\n",
              "    .dataframe thead th {\n",
              "        text-align: right;\n",
              "    }\n",
              "</style>\n",
              "<table border=\"1\" class=\"dataframe\">\n",
              "  <thead>\n",
              "    <tr style=\"text-align: right;\">\n",
              "      <th></th>\n",
              "      <th>velocity</th>\n",
              "      <th>beat_offset</th>\n",
              "      <th>bar_beat_number</th>\n",
              "    </tr>\n",
              "  </thead>\n",
              "  <tbody>\n",
              "    <tr>\n",
              "      <th>count</th>\n",
              "      <td>4410.000000</td>\n",
              "      <td>4410.000000</td>\n",
              "      <td>4410.000000</td>\n",
              "    </tr>\n",
              "    <tr>\n",
              "      <th>mean</th>\n",
              "      <td>67.824036</td>\n",
              "      <td>-4.883220</td>\n",
              "      <td>8.232200</td>\n",
              "    </tr>\n",
              "    <tr>\n",
              "      <th>std</th>\n",
              "      <td>33.647855</td>\n",
              "      <td>14.303619</td>\n",
              "      <td>4.610879</td>\n",
              "    </tr>\n",
              "    <tr>\n",
              "      <th>min</th>\n",
              "      <td>4.000000</td>\n",
              "      <td>-60.000000</td>\n",
              "      <td>1.000000</td>\n",
              "    </tr>\n",
              "    <tr>\n",
              "      <th>25%</th>\n",
              "      <td>41.000000</td>\n",
              "      <td>-13.000000</td>\n",
              "      <td>5.000000</td>\n",
              "    </tr>\n",
              "    <tr>\n",
              "      <th>50%</th>\n",
              "      <td>61.000000</td>\n",
              "      <td>-5.000000</td>\n",
              "      <td>8.000000</td>\n",
              "    </tr>\n",
              "    <tr>\n",
              "      <th>75%</th>\n",
              "      <td>96.000000</td>\n",
              "      <td>3.000000</td>\n",
              "      <td>12.000000</td>\n",
              "    </tr>\n",
              "    <tr>\n",
              "      <th>max</th>\n",
              "      <td>127.000000</td>\n",
              "      <td>59.000000</td>\n",
              "      <td>16.000000</td>\n",
              "    </tr>\n",
              "  </tbody>\n",
              "</table>\n",
              "</div>"
            ],
            "text/plain": [
              "          velocity  beat_offset  bar_beat_number\n",
              "count  4410.000000  4410.000000      4410.000000\n",
              "mean     67.824036    -4.883220         8.232200\n",
              "std      33.647855    14.303619         4.610879\n",
              "min       4.000000   -60.000000         1.000000\n",
              "25%      41.000000   -13.000000         5.000000\n",
              "50%      61.000000    -5.000000         8.000000\n",
              "75%      96.000000     3.000000        12.000000\n",
              "max     127.000000    59.000000        16.000000"
            ]
          },
          "metadata": {
            "tags": []
          },
          "execution_count": 78
        }
      ]
    },
    {
      "cell_type": "markdown",
      "metadata": {
        "id": "59UQ-svnbFhm"
      },
      "source": [
        "## Train/ test split..."
      ]
    },
    {
      "cell_type": "markdown",
      "metadata": {
        "id": "06ih4DDmx_jU"
      },
      "source": [
        "Note use of stratify parameter...\r\n",
        "\r\n",
        "* https://scikit-learn.org/stable/modules/generated/sklearn.model_selection.train_test_split.html"
      ]
    },
    {
      "cell_type": "code",
      "metadata": {
        "id": "MH7XbxUEbHtI"
      },
      "source": [
        "# TEST/ TRAIN SPLIT\n",
        "X_train, X_test, y_train, y_test = train_test_split(X, y, test_size=0.20, random_state=27, stratify=y)"
      ],
      "execution_count": 79,
      "outputs": []
    },
    {
      "cell_type": "code",
      "metadata": {
        "colab": {
          "base_uri": "https://localhost:8080/",
          "height": 391
        },
        "id": "YZWV7Mhc6qll",
        "outputId": "61587e5f-e60f-4f3d-8cff-e442cfe246dd"
      },
      "source": [
        "X_train.describe(include='all').head()\n",
        "X_test.describe(include='all').head()"
      ],
      "execution_count": 80,
      "outputs": [
        {
          "output_type": "execute_result",
          "data": {
            "text/html": [
              "<div>\n",
              "<style scoped>\n",
              "    .dataframe tbody tr th:only-of-type {\n",
              "        vertical-align: middle;\n",
              "    }\n",
              "\n",
              "    .dataframe tbody tr th {\n",
              "        vertical-align: top;\n",
              "    }\n",
              "\n",
              "    .dataframe thead th {\n",
              "        text-align: right;\n",
              "    }\n",
              "</style>\n",
              "<table border=\"1\" class=\"dataframe\">\n",
              "  <thead>\n",
              "    <tr style=\"text-align: right;\">\n",
              "      <th></th>\n",
              "      <th>note</th>\n",
              "      <th>velocity</th>\n",
              "      <th>beat_offset</th>\n",
              "      <th>bar_beat_number</th>\n",
              "      <th>style</th>\n",
              "    </tr>\n",
              "  </thead>\n",
              "  <tbody>\n",
              "    <tr>\n",
              "      <th>count</th>\n",
              "      <td>3528</td>\n",
              "      <td>3528.000000</td>\n",
              "      <td>3528.000000</td>\n",
              "      <td>3528.000000</td>\n",
              "      <td>3528</td>\n",
              "    </tr>\n",
              "    <tr>\n",
              "      <th>unique</th>\n",
              "      <td>3</td>\n",
              "      <td>NaN</td>\n",
              "      <td>NaN</td>\n",
              "      <td>NaN</td>\n",
              "      <td>4</td>\n",
              "    </tr>\n",
              "    <tr>\n",
              "      <th>top</th>\n",
              "      <td>hh</td>\n",
              "      <td>NaN</td>\n",
              "      <td>NaN</td>\n",
              "      <td>NaN</td>\n",
              "      <td>soul/groove3</td>\n",
              "    </tr>\n",
              "    <tr>\n",
              "      <th>freq</th>\n",
              "      <td>2042</td>\n",
              "      <td>NaN</td>\n",
              "      <td>NaN</td>\n",
              "      <td>NaN</td>\n",
              "      <td>1346</td>\n",
              "    </tr>\n",
              "    <tr>\n",
              "      <th>mean</th>\n",
              "      <td>NaN</td>\n",
              "      <td>68.028912</td>\n",
              "      <td>-5.075113</td>\n",
              "      <td>8.181973</td>\n",
              "      <td>NaN</td>\n",
              "    </tr>\n",
              "  </tbody>\n",
              "</table>\n",
              "</div>"
            ],
            "text/plain": [
              "        note     velocity  beat_offset  bar_beat_number         style\n",
              "count   3528  3528.000000  3528.000000      3528.000000          3528\n",
              "unique     3          NaN          NaN              NaN             4\n",
              "top       hh          NaN          NaN              NaN  soul/groove3\n",
              "freq    2042          NaN          NaN              NaN          1346\n",
              "mean     NaN    68.028912    -5.075113         8.181973           NaN"
            ]
          },
          "metadata": {
            "tags": []
          },
          "execution_count": 80
        },
        {
          "output_type": "execute_result",
          "data": {
            "text/html": [
              "<div>\n",
              "<style scoped>\n",
              "    .dataframe tbody tr th:only-of-type {\n",
              "        vertical-align: middle;\n",
              "    }\n",
              "\n",
              "    .dataframe tbody tr th {\n",
              "        vertical-align: top;\n",
              "    }\n",
              "\n",
              "    .dataframe thead th {\n",
              "        text-align: right;\n",
              "    }\n",
              "</style>\n",
              "<table border=\"1\" class=\"dataframe\">\n",
              "  <thead>\n",
              "    <tr style=\"text-align: right;\">\n",
              "      <th></th>\n",
              "      <th>note</th>\n",
              "      <th>velocity</th>\n",
              "      <th>beat_offset</th>\n",
              "      <th>bar_beat_number</th>\n",
              "      <th>style</th>\n",
              "    </tr>\n",
              "  </thead>\n",
              "  <tbody>\n",
              "    <tr>\n",
              "      <th>count</th>\n",
              "      <td>882</td>\n",
              "      <td>882.000000</td>\n",
              "      <td>882.000000</td>\n",
              "      <td>882.000000</td>\n",
              "      <td>882</td>\n",
              "    </tr>\n",
              "    <tr>\n",
              "      <th>unique</th>\n",
              "      <td>3</td>\n",
              "      <td>NaN</td>\n",
              "      <td>NaN</td>\n",
              "      <td>NaN</td>\n",
              "      <td>4</td>\n",
              "    </tr>\n",
              "    <tr>\n",
              "      <th>top</th>\n",
              "      <td>hh</td>\n",
              "      <td>NaN</td>\n",
              "      <td>NaN</td>\n",
              "      <td>NaN</td>\n",
              "      <td>soul/groove3</td>\n",
              "    </tr>\n",
              "    <tr>\n",
              "      <th>freq</th>\n",
              "      <td>495</td>\n",
              "      <td>NaN</td>\n",
              "      <td>NaN</td>\n",
              "      <td>NaN</td>\n",
              "      <td>331</td>\n",
              "    </tr>\n",
              "    <tr>\n",
              "      <th>mean</th>\n",
              "      <td>NaN</td>\n",
              "      <td>67.004535</td>\n",
              "      <td>-4.115646</td>\n",
              "      <td>8.433107</td>\n",
              "      <td>NaN</td>\n",
              "    </tr>\n",
              "  </tbody>\n",
              "</table>\n",
              "</div>"
            ],
            "text/plain": [
              "       note    velocity  beat_offset  bar_beat_number         style\n",
              "count   882  882.000000   882.000000       882.000000           882\n",
              "unique    3         NaN          NaN              NaN             4\n",
              "top      hh         NaN          NaN              NaN  soul/groove3\n",
              "freq    495         NaN          NaN              NaN           331\n",
              "mean    NaN   67.004535    -4.115646         8.433107           NaN"
            ]
          },
          "metadata": {
            "tags": []
          },
          "execution_count": 80
        }
      ]
    },
    {
      "cell_type": "markdown",
      "metadata": {
        "id": "5bC-Ly7h_9LV"
      },
      "source": [
        "# Setup pipelines"
      ]
    },
    {
      "cell_type": "code",
      "metadata": {
        "colab": {
          "base_uri": "https://localhost:8080/",
          "height": 142
        },
        "id": "Y0_jcqjobJAS",
        "outputId": "7a7d9f6e-057e-4454-9c94-9a8addde2cbb"
      },
      "source": [
        "working_data.corr()"
      ],
      "execution_count": 26,
      "outputs": [
        {
          "output_type": "execute_result",
          "data": {
            "text/html": [
              "<div>\n",
              "<style scoped>\n",
              "    .dataframe tbody tr th:only-of-type {\n",
              "        vertical-align: middle;\n",
              "    }\n",
              "\n",
              "    .dataframe tbody tr th {\n",
              "        vertical-align: top;\n",
              "    }\n",
              "\n",
              "    .dataframe thead th {\n",
              "        text-align: right;\n",
              "    }\n",
              "</style>\n",
              "<table border=\"1\" class=\"dataframe\">\n",
              "  <thead>\n",
              "    <tr style=\"text-align: right;\">\n",
              "      <th></th>\n",
              "      <th>velocity</th>\n",
              "      <th>beat_offset</th>\n",
              "      <th>bar_beat_number</th>\n",
              "    </tr>\n",
              "  </thead>\n",
              "  <tbody>\n",
              "    <tr>\n",
              "      <th>velocity</th>\n",
              "      <td>1.000000</td>\n",
              "      <td>0.155667</td>\n",
              "      <td>0.050825</td>\n",
              "    </tr>\n",
              "    <tr>\n",
              "      <th>beat_offset</th>\n",
              "      <td>0.155667</td>\n",
              "      <td>1.000000</td>\n",
              "      <td>0.059324</td>\n",
              "    </tr>\n",
              "    <tr>\n",
              "      <th>bar_beat_number</th>\n",
              "      <td>0.050825</td>\n",
              "      <td>0.059324</td>\n",
              "      <td>1.000000</td>\n",
              "    </tr>\n",
              "  </tbody>\n",
              "</table>\n",
              "</div>"
            ],
            "text/plain": [
              "                 velocity  beat_offset  bar_beat_number\n",
              "velocity         1.000000     0.155667         0.050825\n",
              "beat_offset      0.155667     1.000000         0.059324\n",
              "bar_beat_number  0.050825     0.059324         1.000000"
            ]
          },
          "metadata": {
            "tags": []
          },
          "execution_count": 26
        }
      ]
    },
    {
      "cell_type": "markdown",
      "metadata": {
        "id": "NIrOPnQiXfxb"
      },
      "source": [
        "## Create transformers"
      ]
    },
    {
      "cell_type": "code",
      "metadata": {
        "colab": {
          "base_uri": "https://localhost:8080/"
        },
        "id": "mS70FTMeXfxm",
        "outputId": "582b6ba1-0b13-4c81-d2e6-fb4cfb1f2ec5"
      },
      "source": [
        "beat_pos_cats = list(np.arange(1, 17))\n",
        "print('list of beat positions: {}'.format(beat_pos_cats))\n",
        "\n",
        "styles_list = ['funk/groove1','soul/groove3','soul/groove4','hiphop/groove6','rock/groove8']\n",
        "print('list of styles in working data: {}'.format(styles_list))"
      ],
      "execution_count": 34,
      "outputs": [
        {
          "output_type": "stream",
          "text": [
            "list of beat positions: [1, 2, 3, 4, 5, 6, 7, 8, 9, 10, 11, 12, 13, 14, 15, 16]\n",
            "list of styles in working data: ['funk/groove1', 'soul/groove3', 'soul/groove4', 'hiphop/groove6', 'rock/groove8']\n"
          ],
          "name": "stdout"
        }
      ]
    },
    {
      "cell_type": "code",
      "metadata": {
        "id": "SgP9VyCrXfxn"
      },
      "source": [
        "t_one_hot_beat_pos = OneHotEncoder(drop='first', categories=[beat_pos_cats])  # lists all beat_pos\n",
        "t_one_hot_styles = OneHotEncoder(drop='first', categories=[styles_list])      # list all styles\n",
        "\n",
        "t_scaler_std = StandardScaler(with_mean=True, with_std=True) # defaults made explict, velocity, beat_offset\n",
        "\n",
        "t_one_hot = OneHotEncoder(drop='first')    # instrument\n",
        "t_scaler_robust = RobustScaler(quantile_range=(25, 75))  # try with: velocity, beat_offset\n",
        "t_scaler_mm_1 = MinMaxScaler(feature_range=(0, 1))       # velocity\n",
        "t_scaler_mm_2 = MinMaxScaler(feature_range=(-0.5, 0.5))  # beat_offset\n",
        "\n",
        "# robust scaling for numerical, dummies for categorical\n",
        "t_v0_robust = [('t_scaler_robust', t_scaler_robust, ['velocity', 'beat_offset']), \n",
        "               ('t_one_hot', t_one_hot, ['note']),\n",
        "               ('t_one_hot_styles', t_one_hot_styles, ['style']),\n",
        "               ('t_one_hot_beat_pos', t_one_hot_beat_pos, ['bar_beat_number'])]\n",
        "ct_v0 = ColumnTransformer(transformers=t_v0_robust, remainder='passthrough', sparse_threshold=0)\n",
        " \n",
        "# MinMax scaling for numerical, dummies for categorical\n",
        "t_v1_mm = [('t_scaler_mm_1', t_scaler_mm_1, ['velocity']),\n",
        "               ('t_scaler_mm_2', t_scaler_mm_2, ['beat_offset']),\n",
        "               ('t_one_hot', t_one_hot, ['note']),\n",
        "               ('t_one_hot_styles', t_one_hot_styles, ['style']),\n",
        "               ('t_one_hot_beat_pos', t_one_hot_beat_pos, ['bar_beat_number'])] \n",
        "ct_v1 = ColumnTransformer(transformers=t_v1_mm, remainder='passthrough', sparse_threshold=0)\n",
        "\n",
        "# MinMax scaling for numerical, dummies for categorical\n",
        "t_v2_mm = [('t_scaler_mm_1', t_scaler_mm_1, ['velocity']),\n",
        "               ('t_scaler_mm_2', t_scaler_mm_2, ['beat_offset']), \n",
        "               ('t_one_hot', t_one_hot, ['note']),\n",
        "               ('t_one_hot_styles', t_one_hot_styles, ['style']),\n",
        "               ('t_one_hot_beat_pos', t_one_hot_beat_pos, ['bar_beat_number'])]\n",
        "ct_v2 = ColumnTransformer(transformers=t_v2_mm, remainder='passthrough', sparse_threshold=0)\n",
        "\n",
        "# MinMax scaling for numerical, dummies for categorical\n",
        "t_v3_mm = [('t_scaler_mm_1', t_scaler_mm_1, ['velocity', 'beat_offset']), \n",
        "           ('t_one_hot', t_one_hot, ['note']),\n",
        "           ('t_one_hot_styles', t_one_hot_styles, ['style']),\n",
        "           ('t_one_hot_beat_pos', t_one_hot_beat_pos, ['bar_beat_number'])]\n",
        "ct_v3 = ColumnTransformer(transformers=t_v3_mm, remainder='passthrough', sparse_threshold=0)\n",
        "\n",
        "# Std scaling for numerical, dummies for categorical\n",
        "# NB: this is the least 'custom'\n",
        "t_v4_std = [('t_scaler_std', t_scaler_std, ['velocity', 'beat_offset']),\n",
        "           ('t_one_hot', t_one_hot, ['note']),\n",
        "           ('t_one_hot_styles', t_one_hot_styles, ['style']),\n",
        "           ('t_one_hot_beat_pos', t_one_hot_beat_pos, ['bar_beat_number'])]\n",
        "ct_v4 = ColumnTransformer(transformers=t_v4_std, remainder='passthrough', sparse_threshold=0)\n",
        "\n",
        "# dummy encode categories, leave everything else untouched, e.g. for DT\n",
        "t_ord_enc = [('t_label_enc', OrdinalEncoder(), ['note']),\n",
        "             ('t_label_enc', OrdinalEncoder(categories=[styles_list]), ['style'])]\n",
        "ct_ord_enc  = ColumnTransformer(transformers=t_ord_enc, remainder='passthrough', sparse_threshold=0)\n"
      ],
      "execution_count": 35,
      "outputs": []
    },
    {
      "cell_type": "code",
      "metadata": {
        "id": "Skr8PeAxXfxo"
      },
      "source": [
        "from sklearn import set_config\n",
        "set_config(display='diagram')   \n",
        "# diplays HTML representation in a jupyter context\n"
      ],
      "execution_count": 36,
      "outputs": []
    },
    {
      "cell_type": "code",
      "metadata": {
        "colab": {
          "base_uri": "https://localhost:8080/",
          "height": 526
        },
        "id": "nLuwNDpcXfxo",
        "outputId": "fa637a7e-db6c-4546-ca48-b905fd2da3b2"
      },
      "source": [
        "ct_v0\n",
        "ct_v1\n",
        "ct_v2\n",
        "ct_v3\n",
        "ct_v4\n",
        "ct_ord_enc "
      ],
      "execution_count": 37,
      "outputs": [
        {
          "output_type": "execute_result",
          "data": {
            "text/html": [
              "<style>div.sk-top-container {color: black;background-color: white;}div.sk-toggleable {background-color: white;}label.sk-toggleable__label {cursor: pointer;display: block;width: 100%;margin-bottom: 0;padding: 0.2em 0.3em;box-sizing: border-box;text-align: center;}div.sk-toggleable__content {max-height: 0;max-width: 0;overflow: hidden;text-align: left;background-color: #f0f8ff;}div.sk-toggleable__content pre {margin: 0.2em;color: black;border-radius: 0.25em;background-color: #f0f8ff;}input.sk-toggleable__control:checked~div.sk-toggleable__content {max-height: 200px;max-width: 100%;overflow: auto;}div.sk-estimator input.sk-toggleable__control:checked~label.sk-toggleable__label {background-color: #d4ebff;}div.sk-label input.sk-toggleable__control:checked~label.sk-toggleable__label {background-color: #d4ebff;}input.sk-hidden--visually {border: 0;clip: rect(1px 1px 1px 1px);clip: rect(1px, 1px, 1px, 1px);height: 1px;margin: -1px;overflow: hidden;padding: 0;position: absolute;width: 1px;}div.sk-estimator {font-family: monospace;background-color: #f0f8ff;margin: 0.25em 0.25em;border: 1px dotted black;border-radius: 0.25em;box-sizing: border-box;}div.sk-estimator:hover {background-color: #d4ebff;}div.sk-parallel-item::after {content: \"\";width: 100%;border-bottom: 1px solid gray;flex-grow: 1;}div.sk-label:hover label.sk-toggleable__label {background-color: #d4ebff;}div.sk-serial::before {content: \"\";position: absolute;border-left: 1px solid gray;box-sizing: border-box;top: 2em;bottom: 0;left: 50%;}div.sk-serial {display: flex;flex-direction: column;align-items: center;background-color: white;}div.sk-item {z-index: 1;}div.sk-parallel {display: flex;align-items: stretch;justify-content: center;background-color: white;}div.sk-parallel-item {display: flex;flex-direction: column;position: relative;background-color: white;}div.sk-parallel-item:first-child::after {align-self: flex-end;width: 50%;}div.sk-parallel-item:last-child::after {align-self: flex-start;width: 50%;}div.sk-parallel-item:only-child::after {width: 0;}div.sk-dashed-wrapped {border: 1px dashed gray;margin: 0.2em;box-sizing: border-box;padding-bottom: 0.1em;background-color: white;position: relative;}div.sk-label label {font-family: monospace;font-weight: bold;background-color: white;display: inline-block;line-height: 1.2em;}div.sk-label-container {position: relative;z-index: 2;text-align: center;}div.sk-container {display: inline-block;position: relative;}</style><div class=\"sk-top-container\"><div class=\"sk-container\"><div class=\"sk-item sk-dashed-wrapped\"><div class=\"sk-label-container\"><div class=\"sk-label sk-toggleable\"><input class=\"sk-toggleable__control sk-hidden--visually\" id=\"27bc6c36-5ff3-4d47-876a-702f31120760\" type=\"checkbox\" ><label class=\"sk-toggleable__label\" for=\"27bc6c36-5ff3-4d47-876a-702f31120760\">ColumnTransformer</label><div class=\"sk-toggleable__content\"><pre>ColumnTransformer(remainder='passthrough', sparse_threshold=0,\n",
              "                  transformers=[('t_scaler_robust',\n",
              "                                 RobustScaler(quantile_range=(25, 75)),\n",
              "                                 ['velocity', 'beat_offset']),\n",
              "                                ('t_one_hot', OneHotEncoder(drop='first'),\n",
              "                                 ['note']),\n",
              "                                ('t_one_hot_styles',\n",
              "                                 OneHotEncoder(categories=[['funk/groove1',\n",
              "                                                            'soul/groove3',\n",
              "                                                            'soul/groove4',\n",
              "                                                            'hiphop/groove6',\n",
              "                                                            'rock/groove8']],\n",
              "                                               drop='first'),\n",
              "                                 ['style']),\n",
              "                                ('t_one_hot_beat_pos',\n",
              "                                 OneHotEncoder(categories=[[1, 2, 3, 4, 5, 6, 7,\n",
              "                                                            8, 9, 10, 11, 12,\n",
              "                                                            13, 14, 15, 16]],\n",
              "                                               drop='first'),\n",
              "                                 ['bar_beat_number'])])</pre></div></div></div><div class=\"sk-parallel\"><div class=\"sk-parallel-item\"><div class=\"sk-item\"><div class=\"sk-label-container\"><div class=\"sk-label sk-toggleable\"><input class=\"sk-toggleable__control sk-hidden--visually\" id=\"1d6e234a-21de-4340-899c-906c9f997ff1\" type=\"checkbox\" ><label class=\"sk-toggleable__label\" for=\"1d6e234a-21de-4340-899c-906c9f997ff1\">t_scaler_robust</label><div class=\"sk-toggleable__content\"><pre>['velocity', 'beat_offset']</pre></div></div></div><div class=\"sk-serial\"><div class=\"sk-item\"><div class=\"sk-estimator sk-toggleable\"><input class=\"sk-toggleable__control sk-hidden--visually\" id=\"ec167d8c-2cb2-423d-baea-3839d9d98c07\" type=\"checkbox\" ><label class=\"sk-toggleable__label\" for=\"ec167d8c-2cb2-423d-baea-3839d9d98c07\">RobustScaler</label><div class=\"sk-toggleable__content\"><pre>RobustScaler(quantile_range=(25, 75))</pre></div></div></div></div></div></div><div class=\"sk-parallel-item\"><div class=\"sk-item\"><div class=\"sk-label-container\"><div class=\"sk-label sk-toggleable\"><input class=\"sk-toggleable__control sk-hidden--visually\" id=\"c347b6c4-1d53-40f0-9970-2cb3864496d0\" type=\"checkbox\" ><label class=\"sk-toggleable__label\" for=\"c347b6c4-1d53-40f0-9970-2cb3864496d0\">t_one_hot</label><div class=\"sk-toggleable__content\"><pre>['note']</pre></div></div></div><div class=\"sk-serial\"><div class=\"sk-item\"><div class=\"sk-estimator sk-toggleable\"><input class=\"sk-toggleable__control sk-hidden--visually\" id=\"f3a97afc-ffcd-4d73-8aca-190f3bed4990\" type=\"checkbox\" ><label class=\"sk-toggleable__label\" for=\"f3a97afc-ffcd-4d73-8aca-190f3bed4990\">OneHotEncoder</label><div class=\"sk-toggleable__content\"><pre>OneHotEncoder(drop='first')</pre></div></div></div></div></div></div><div class=\"sk-parallel-item\"><div class=\"sk-item\"><div class=\"sk-label-container\"><div class=\"sk-label sk-toggleable\"><input class=\"sk-toggleable__control sk-hidden--visually\" id=\"d7b1ac0d-809d-41a0-b80e-062cc2315cd3\" type=\"checkbox\" ><label class=\"sk-toggleable__label\" for=\"d7b1ac0d-809d-41a0-b80e-062cc2315cd3\">t_one_hot_styles</label><div class=\"sk-toggleable__content\"><pre>['style']</pre></div></div></div><div class=\"sk-serial\"><div class=\"sk-item\"><div class=\"sk-estimator sk-toggleable\"><input class=\"sk-toggleable__control sk-hidden--visually\" id=\"d1e05e1b-2082-40fc-aa97-48a62875a598\" type=\"checkbox\" ><label class=\"sk-toggleable__label\" for=\"d1e05e1b-2082-40fc-aa97-48a62875a598\">OneHotEncoder</label><div class=\"sk-toggleable__content\"><pre>OneHotEncoder(categories=[['funk/groove1', 'soul/groove3', 'soul/groove4',\n",
              "                           'hiphop/groove6', 'rock/groove8']],\n",
              "              drop='first')</pre></div></div></div></div></div></div><div class=\"sk-parallel-item\"><div class=\"sk-item\"><div class=\"sk-label-container\"><div class=\"sk-label sk-toggleable\"><input class=\"sk-toggleable__control sk-hidden--visually\" id=\"eabba598-98d1-4713-a518-0077f6b583c5\" type=\"checkbox\" ><label class=\"sk-toggleable__label\" for=\"eabba598-98d1-4713-a518-0077f6b583c5\">t_one_hot_beat_pos</label><div class=\"sk-toggleable__content\"><pre>['bar_beat_number']</pre></div></div></div><div class=\"sk-serial\"><div class=\"sk-item\"><div class=\"sk-estimator sk-toggleable\"><input class=\"sk-toggleable__control sk-hidden--visually\" id=\"9759d1ea-389f-4924-a54b-5d40dac053e5\" type=\"checkbox\" ><label class=\"sk-toggleable__label\" for=\"9759d1ea-389f-4924-a54b-5d40dac053e5\">OneHotEncoder</label><div class=\"sk-toggleable__content\"><pre>OneHotEncoder(categories=[[1, 2, 3, 4, 5, 6, 7, 8, 9, 10, 11, 12, 13, 14, 15,\n",
              "                           16]],\n",
              "              drop='first')</pre></div></div></div></div></div></div><div class=\"sk-parallel-item\"><div class=\"sk-item\"><div class=\"sk-label-container\"><div class=\"sk-label sk-toggleable\"><input class=\"sk-toggleable__control sk-hidden--visually\" id=\"06c26778-9a8d-4e4a-a360-1252a5dc34a5\" type=\"checkbox\" ><label class=\"sk-toggleable__label\" for=\"06c26778-9a8d-4e4a-a360-1252a5dc34a5\">remainder</label><div class=\"sk-toggleable__content\"><pre></pre></div></div></div><div class=\"sk-serial\"><div class=\"sk-item\"><div class=\"sk-estimator sk-toggleable\"><input class=\"sk-toggleable__control sk-hidden--visually\" id=\"6dfdd455-53af-461e-901c-0e9f93b1ebf1\" type=\"checkbox\" ><label class=\"sk-toggleable__label\" for=\"6dfdd455-53af-461e-901c-0e9f93b1ebf1\">passthrough</label><div class=\"sk-toggleable__content\"><pre>passthrough</pre></div></div></div></div></div></div></div></div></div></div>"
            ],
            "text/plain": [
              "ColumnTransformer(remainder='passthrough', sparse_threshold=0,\n",
              "                  transformers=[('t_scaler_robust',\n",
              "                                 RobustScaler(quantile_range=(25, 75)),\n",
              "                                 ['velocity', 'beat_offset']),\n",
              "                                ('t_one_hot', OneHotEncoder(drop='first'),\n",
              "                                 ['note']),\n",
              "                                ('t_one_hot_styles',\n",
              "                                 OneHotEncoder(categories=[['funk/groove1',\n",
              "                                                            'soul/groove3',\n",
              "                                                            'soul/groove4',\n",
              "                                                            'hiphop/groove6',\n",
              "                                                            'rock/groove8']],\n",
              "                                               drop='first'),\n",
              "                                 ['style']),\n",
              "                                ('t_one_hot_beat_pos',\n",
              "                                 OneHotEncoder(categories=[[1, 2, 3, 4, 5, 6, 7,\n",
              "                                                            8, 9, 10, 11, 12,\n",
              "                                                            13, 14, 15, 16]],\n",
              "                                               drop='first'),\n",
              "                                 ['bar_beat_number'])])"
            ]
          },
          "metadata": {
            "tags": []
          },
          "execution_count": 37
        },
        {
          "output_type": "execute_result",
          "data": {
            "text/html": [
              "<style>div.sk-top-container {color: black;background-color: white;}div.sk-toggleable {background-color: white;}label.sk-toggleable__label {cursor: pointer;display: block;width: 100%;margin-bottom: 0;padding: 0.2em 0.3em;box-sizing: border-box;text-align: center;}div.sk-toggleable__content {max-height: 0;max-width: 0;overflow: hidden;text-align: left;background-color: #f0f8ff;}div.sk-toggleable__content pre {margin: 0.2em;color: black;border-radius: 0.25em;background-color: #f0f8ff;}input.sk-toggleable__control:checked~div.sk-toggleable__content {max-height: 200px;max-width: 100%;overflow: auto;}div.sk-estimator input.sk-toggleable__control:checked~label.sk-toggleable__label {background-color: #d4ebff;}div.sk-label input.sk-toggleable__control:checked~label.sk-toggleable__label {background-color: #d4ebff;}input.sk-hidden--visually {border: 0;clip: rect(1px 1px 1px 1px);clip: rect(1px, 1px, 1px, 1px);height: 1px;margin: -1px;overflow: hidden;padding: 0;position: absolute;width: 1px;}div.sk-estimator {font-family: monospace;background-color: #f0f8ff;margin: 0.25em 0.25em;border: 1px dotted black;border-radius: 0.25em;box-sizing: border-box;}div.sk-estimator:hover {background-color: #d4ebff;}div.sk-parallel-item::after {content: \"\";width: 100%;border-bottom: 1px solid gray;flex-grow: 1;}div.sk-label:hover label.sk-toggleable__label {background-color: #d4ebff;}div.sk-serial::before {content: \"\";position: absolute;border-left: 1px solid gray;box-sizing: border-box;top: 2em;bottom: 0;left: 50%;}div.sk-serial {display: flex;flex-direction: column;align-items: center;background-color: white;}div.sk-item {z-index: 1;}div.sk-parallel {display: flex;align-items: stretch;justify-content: center;background-color: white;}div.sk-parallel-item {display: flex;flex-direction: column;position: relative;background-color: white;}div.sk-parallel-item:first-child::after {align-self: flex-end;width: 50%;}div.sk-parallel-item:last-child::after {align-self: flex-start;width: 50%;}div.sk-parallel-item:only-child::after {width: 0;}div.sk-dashed-wrapped {border: 1px dashed gray;margin: 0.2em;box-sizing: border-box;padding-bottom: 0.1em;background-color: white;position: relative;}div.sk-label label {font-family: monospace;font-weight: bold;background-color: white;display: inline-block;line-height: 1.2em;}div.sk-label-container {position: relative;z-index: 2;text-align: center;}div.sk-container {display: inline-block;position: relative;}</style><div class=\"sk-top-container\"><div class=\"sk-container\"><div class=\"sk-item sk-dashed-wrapped\"><div class=\"sk-label-container\"><div class=\"sk-label sk-toggleable\"><input class=\"sk-toggleable__control sk-hidden--visually\" id=\"3b736539-1703-470e-86e0-95dfc3e77919\" type=\"checkbox\" ><label class=\"sk-toggleable__label\" for=\"3b736539-1703-470e-86e0-95dfc3e77919\">ColumnTransformer</label><div class=\"sk-toggleable__content\"><pre>ColumnTransformer(remainder='passthrough', sparse_threshold=0,\n",
              "                  transformers=[('t_scaler_mm_1', MinMaxScaler(), ['velocity']),\n",
              "                                ('t_scaler_mm_2',\n",
              "                                 MinMaxScaler(feature_range=(-0.5, 0.5)),\n",
              "                                 ['beat_offset']),\n",
              "                                ('t_one_hot', OneHotEncoder(drop='first'),\n",
              "                                 ['note']),\n",
              "                                ('t_one_hot_styles',\n",
              "                                 OneHotEncoder(categories=[['funk/groove1',\n",
              "                                                            'soul/groove3',\n",
              "                                                            'soul/groove4',\n",
              "                                                            'hiphop/groove6',\n",
              "                                                            'rock/groove8']],\n",
              "                                               drop='first'),\n",
              "                                 ['style']),\n",
              "                                ('t_one_hot_beat_pos',\n",
              "                                 OneHotEncoder(categories=[[1, 2, 3, 4, 5, 6, 7,\n",
              "                                                            8, 9, 10, 11, 12,\n",
              "                                                            13, 14, 15, 16]],\n",
              "                                               drop='first'),\n",
              "                                 ['bar_beat_number'])])</pre></div></div></div><div class=\"sk-parallel\"><div class=\"sk-parallel-item\"><div class=\"sk-item\"><div class=\"sk-label-container\"><div class=\"sk-label sk-toggleable\"><input class=\"sk-toggleable__control sk-hidden--visually\" id=\"845f5251-51a1-45a0-9529-6b9d8c46050e\" type=\"checkbox\" ><label class=\"sk-toggleable__label\" for=\"845f5251-51a1-45a0-9529-6b9d8c46050e\">t_scaler_mm_1</label><div class=\"sk-toggleable__content\"><pre>['velocity']</pre></div></div></div><div class=\"sk-serial\"><div class=\"sk-item\"><div class=\"sk-estimator sk-toggleable\"><input class=\"sk-toggleable__control sk-hidden--visually\" id=\"085ab848-4aea-449e-b34c-e389d06545bb\" type=\"checkbox\" ><label class=\"sk-toggleable__label\" for=\"085ab848-4aea-449e-b34c-e389d06545bb\">MinMaxScaler</label><div class=\"sk-toggleable__content\"><pre>MinMaxScaler()</pre></div></div></div></div></div></div><div class=\"sk-parallel-item\"><div class=\"sk-item\"><div class=\"sk-label-container\"><div class=\"sk-label sk-toggleable\"><input class=\"sk-toggleable__control sk-hidden--visually\" id=\"05b5276e-ae97-4148-8911-a854794058f8\" type=\"checkbox\" ><label class=\"sk-toggleable__label\" for=\"05b5276e-ae97-4148-8911-a854794058f8\">t_scaler_mm_2</label><div class=\"sk-toggleable__content\"><pre>['beat_offset']</pre></div></div></div><div class=\"sk-serial\"><div class=\"sk-item\"><div class=\"sk-estimator sk-toggleable\"><input class=\"sk-toggleable__control sk-hidden--visually\" id=\"19c5281a-a78d-4fb3-a9a4-ae9cd959a724\" type=\"checkbox\" ><label class=\"sk-toggleable__label\" for=\"19c5281a-a78d-4fb3-a9a4-ae9cd959a724\">MinMaxScaler</label><div class=\"sk-toggleable__content\"><pre>MinMaxScaler(feature_range=(-0.5, 0.5))</pre></div></div></div></div></div></div><div class=\"sk-parallel-item\"><div class=\"sk-item\"><div class=\"sk-label-container\"><div class=\"sk-label sk-toggleable\"><input class=\"sk-toggleable__control sk-hidden--visually\" id=\"308693d7-d55f-48f2-bd04-3151efc42213\" type=\"checkbox\" ><label class=\"sk-toggleable__label\" for=\"308693d7-d55f-48f2-bd04-3151efc42213\">t_one_hot</label><div class=\"sk-toggleable__content\"><pre>['note']</pre></div></div></div><div class=\"sk-serial\"><div class=\"sk-item\"><div class=\"sk-estimator sk-toggleable\"><input class=\"sk-toggleable__control sk-hidden--visually\" id=\"24ac381c-909b-416b-8268-45b25c819916\" type=\"checkbox\" ><label class=\"sk-toggleable__label\" for=\"24ac381c-909b-416b-8268-45b25c819916\">OneHotEncoder</label><div class=\"sk-toggleable__content\"><pre>OneHotEncoder(drop='first')</pre></div></div></div></div></div></div><div class=\"sk-parallel-item\"><div class=\"sk-item\"><div class=\"sk-label-container\"><div class=\"sk-label sk-toggleable\"><input class=\"sk-toggleable__control sk-hidden--visually\" id=\"976327bf-904c-43de-8fdb-36914fdddd69\" type=\"checkbox\" ><label class=\"sk-toggleable__label\" for=\"976327bf-904c-43de-8fdb-36914fdddd69\">t_one_hot_styles</label><div class=\"sk-toggleable__content\"><pre>['style']</pre></div></div></div><div class=\"sk-serial\"><div class=\"sk-item\"><div class=\"sk-estimator sk-toggleable\"><input class=\"sk-toggleable__control sk-hidden--visually\" id=\"77ad68b0-b1df-40c9-9c46-e2e9aa1e4e7c\" type=\"checkbox\" ><label class=\"sk-toggleable__label\" for=\"77ad68b0-b1df-40c9-9c46-e2e9aa1e4e7c\">OneHotEncoder</label><div class=\"sk-toggleable__content\"><pre>OneHotEncoder(categories=[['funk/groove1', 'soul/groove3', 'soul/groove4',\n",
              "                           'hiphop/groove6', 'rock/groove8']],\n",
              "              drop='first')</pre></div></div></div></div></div></div><div class=\"sk-parallel-item\"><div class=\"sk-item\"><div class=\"sk-label-container\"><div class=\"sk-label sk-toggleable\"><input class=\"sk-toggleable__control sk-hidden--visually\" id=\"5c62a275-5fd1-435c-b3ff-01db88b7321e\" type=\"checkbox\" ><label class=\"sk-toggleable__label\" for=\"5c62a275-5fd1-435c-b3ff-01db88b7321e\">t_one_hot_beat_pos</label><div class=\"sk-toggleable__content\"><pre>['bar_beat_number']</pre></div></div></div><div class=\"sk-serial\"><div class=\"sk-item\"><div class=\"sk-estimator sk-toggleable\"><input class=\"sk-toggleable__control sk-hidden--visually\" id=\"a01490c2-5f58-4b6d-8b2f-233b92ee0d9e\" type=\"checkbox\" ><label class=\"sk-toggleable__label\" for=\"a01490c2-5f58-4b6d-8b2f-233b92ee0d9e\">OneHotEncoder</label><div class=\"sk-toggleable__content\"><pre>OneHotEncoder(categories=[[1, 2, 3, 4, 5, 6, 7, 8, 9, 10, 11, 12, 13, 14, 15,\n",
              "                           16]],\n",
              "              drop='first')</pre></div></div></div></div></div></div><div class=\"sk-parallel-item\"><div class=\"sk-item\"><div class=\"sk-label-container\"><div class=\"sk-label sk-toggleable\"><input class=\"sk-toggleable__control sk-hidden--visually\" id=\"bd7c2356-dc1e-43ee-ad12-7a6e21e9f0e0\" type=\"checkbox\" ><label class=\"sk-toggleable__label\" for=\"bd7c2356-dc1e-43ee-ad12-7a6e21e9f0e0\">remainder</label><div class=\"sk-toggleable__content\"><pre></pre></div></div></div><div class=\"sk-serial\"><div class=\"sk-item\"><div class=\"sk-estimator sk-toggleable\"><input class=\"sk-toggleable__control sk-hidden--visually\" id=\"88b6defb-547c-4c5e-9f3d-1404906fd42c\" type=\"checkbox\" ><label class=\"sk-toggleable__label\" for=\"88b6defb-547c-4c5e-9f3d-1404906fd42c\">passthrough</label><div class=\"sk-toggleable__content\"><pre>passthrough</pre></div></div></div></div></div></div></div></div></div></div>"
            ],
            "text/plain": [
              "ColumnTransformer(remainder='passthrough', sparse_threshold=0,\n",
              "                  transformers=[('t_scaler_mm_1', MinMaxScaler(), ['velocity']),\n",
              "                                ('t_scaler_mm_2',\n",
              "                                 MinMaxScaler(feature_range=(-0.5, 0.5)),\n",
              "                                 ['beat_offset']),\n",
              "                                ('t_one_hot', OneHotEncoder(drop='first'),\n",
              "                                 ['note']),\n",
              "                                ('t_one_hot_styles',\n",
              "                                 OneHotEncoder(categories=[['funk/groove1',\n",
              "                                                            'soul/groove3',\n",
              "                                                            'soul/groove4',\n",
              "                                                            'hiphop/groove6',\n",
              "                                                            'rock/groove8']],\n",
              "                                               drop='first'),\n",
              "                                 ['style']),\n",
              "                                ('t_one_hot_beat_pos',\n",
              "                                 OneHotEncoder(categories=[[1, 2, 3, 4, 5, 6, 7,\n",
              "                                                            8, 9, 10, 11, 12,\n",
              "                                                            13, 14, 15, 16]],\n",
              "                                               drop='first'),\n",
              "                                 ['bar_beat_number'])])"
            ]
          },
          "metadata": {
            "tags": []
          },
          "execution_count": 37
        },
        {
          "output_type": "execute_result",
          "data": {
            "text/html": [
              "<style>div.sk-top-container {color: black;background-color: white;}div.sk-toggleable {background-color: white;}label.sk-toggleable__label {cursor: pointer;display: block;width: 100%;margin-bottom: 0;padding: 0.2em 0.3em;box-sizing: border-box;text-align: center;}div.sk-toggleable__content {max-height: 0;max-width: 0;overflow: hidden;text-align: left;background-color: #f0f8ff;}div.sk-toggleable__content pre {margin: 0.2em;color: black;border-radius: 0.25em;background-color: #f0f8ff;}input.sk-toggleable__control:checked~div.sk-toggleable__content {max-height: 200px;max-width: 100%;overflow: auto;}div.sk-estimator input.sk-toggleable__control:checked~label.sk-toggleable__label {background-color: #d4ebff;}div.sk-label input.sk-toggleable__control:checked~label.sk-toggleable__label {background-color: #d4ebff;}input.sk-hidden--visually {border: 0;clip: rect(1px 1px 1px 1px);clip: rect(1px, 1px, 1px, 1px);height: 1px;margin: -1px;overflow: hidden;padding: 0;position: absolute;width: 1px;}div.sk-estimator {font-family: monospace;background-color: #f0f8ff;margin: 0.25em 0.25em;border: 1px dotted black;border-radius: 0.25em;box-sizing: border-box;}div.sk-estimator:hover {background-color: #d4ebff;}div.sk-parallel-item::after {content: \"\";width: 100%;border-bottom: 1px solid gray;flex-grow: 1;}div.sk-label:hover label.sk-toggleable__label {background-color: #d4ebff;}div.sk-serial::before {content: \"\";position: absolute;border-left: 1px solid gray;box-sizing: border-box;top: 2em;bottom: 0;left: 50%;}div.sk-serial {display: flex;flex-direction: column;align-items: center;background-color: white;}div.sk-item {z-index: 1;}div.sk-parallel {display: flex;align-items: stretch;justify-content: center;background-color: white;}div.sk-parallel-item {display: flex;flex-direction: column;position: relative;background-color: white;}div.sk-parallel-item:first-child::after {align-self: flex-end;width: 50%;}div.sk-parallel-item:last-child::after {align-self: flex-start;width: 50%;}div.sk-parallel-item:only-child::after {width: 0;}div.sk-dashed-wrapped {border: 1px dashed gray;margin: 0.2em;box-sizing: border-box;padding-bottom: 0.1em;background-color: white;position: relative;}div.sk-label label {font-family: monospace;font-weight: bold;background-color: white;display: inline-block;line-height: 1.2em;}div.sk-label-container {position: relative;z-index: 2;text-align: center;}div.sk-container {display: inline-block;position: relative;}</style><div class=\"sk-top-container\"><div class=\"sk-container\"><div class=\"sk-item sk-dashed-wrapped\"><div class=\"sk-label-container\"><div class=\"sk-label sk-toggleable\"><input class=\"sk-toggleable__control sk-hidden--visually\" id=\"06dfa448-6067-4dae-a17d-38c7a609fdd0\" type=\"checkbox\" ><label class=\"sk-toggleable__label\" for=\"06dfa448-6067-4dae-a17d-38c7a609fdd0\">ColumnTransformer</label><div class=\"sk-toggleable__content\"><pre>ColumnTransformer(remainder='passthrough', sparse_threshold=0,\n",
              "                  transformers=[('t_scaler_mm_1', MinMaxScaler(), ['velocity']),\n",
              "                                ('t_scaler_mm_2',\n",
              "                                 MinMaxScaler(feature_range=(-0.5, 0.5)),\n",
              "                                 ['beat_offset']),\n",
              "                                ('t_one_hot', OneHotEncoder(drop='first'),\n",
              "                                 ['note']),\n",
              "                                ('t_one_hot_styles',\n",
              "                                 OneHotEncoder(categories=[['funk/groove1',\n",
              "                                                            'soul/groove3',\n",
              "                                                            'soul/groove4',\n",
              "                                                            'hiphop/groove6',\n",
              "                                                            'rock/groove8']],\n",
              "                                               drop='first'),\n",
              "                                 ['style']),\n",
              "                                ('t_one_hot_beat_pos',\n",
              "                                 OneHotEncoder(categories=[[1, 2, 3, 4, 5, 6, 7,\n",
              "                                                            8, 9, 10, 11, 12,\n",
              "                                                            13, 14, 15, 16]],\n",
              "                                               drop='first'),\n",
              "                                 ['bar_beat_number'])])</pre></div></div></div><div class=\"sk-parallel\"><div class=\"sk-parallel-item\"><div class=\"sk-item\"><div class=\"sk-label-container\"><div class=\"sk-label sk-toggleable\"><input class=\"sk-toggleable__control sk-hidden--visually\" id=\"c867dc34-5849-4b03-b2fe-a35922d8bf6e\" type=\"checkbox\" ><label class=\"sk-toggleable__label\" for=\"c867dc34-5849-4b03-b2fe-a35922d8bf6e\">t_scaler_mm_1</label><div class=\"sk-toggleable__content\"><pre>['velocity']</pre></div></div></div><div class=\"sk-serial\"><div class=\"sk-item\"><div class=\"sk-estimator sk-toggleable\"><input class=\"sk-toggleable__control sk-hidden--visually\" id=\"186edd7f-858a-4610-a94e-dba4f1c4c851\" type=\"checkbox\" ><label class=\"sk-toggleable__label\" for=\"186edd7f-858a-4610-a94e-dba4f1c4c851\">MinMaxScaler</label><div class=\"sk-toggleable__content\"><pre>MinMaxScaler()</pre></div></div></div></div></div></div><div class=\"sk-parallel-item\"><div class=\"sk-item\"><div class=\"sk-label-container\"><div class=\"sk-label sk-toggleable\"><input class=\"sk-toggleable__control sk-hidden--visually\" id=\"4061d7b2-bdeb-488c-9c6f-5249b9c134de\" type=\"checkbox\" ><label class=\"sk-toggleable__label\" for=\"4061d7b2-bdeb-488c-9c6f-5249b9c134de\">t_scaler_mm_2</label><div class=\"sk-toggleable__content\"><pre>['beat_offset']</pre></div></div></div><div class=\"sk-serial\"><div class=\"sk-item\"><div class=\"sk-estimator sk-toggleable\"><input class=\"sk-toggleable__control sk-hidden--visually\" id=\"ef141dfd-de76-41a3-b4d6-9718152b8a6a\" type=\"checkbox\" ><label class=\"sk-toggleable__label\" for=\"ef141dfd-de76-41a3-b4d6-9718152b8a6a\">MinMaxScaler</label><div class=\"sk-toggleable__content\"><pre>MinMaxScaler(feature_range=(-0.5, 0.5))</pre></div></div></div></div></div></div><div class=\"sk-parallel-item\"><div class=\"sk-item\"><div class=\"sk-label-container\"><div class=\"sk-label sk-toggleable\"><input class=\"sk-toggleable__control sk-hidden--visually\" id=\"e9b9cce4-47bb-412d-bed4-da765476b8c2\" type=\"checkbox\" ><label class=\"sk-toggleable__label\" for=\"e9b9cce4-47bb-412d-bed4-da765476b8c2\">t_one_hot</label><div class=\"sk-toggleable__content\"><pre>['note']</pre></div></div></div><div class=\"sk-serial\"><div class=\"sk-item\"><div class=\"sk-estimator sk-toggleable\"><input class=\"sk-toggleable__control sk-hidden--visually\" id=\"a84d8c1b-a9c9-4ae4-a79b-9f4720732195\" type=\"checkbox\" ><label class=\"sk-toggleable__label\" for=\"a84d8c1b-a9c9-4ae4-a79b-9f4720732195\">OneHotEncoder</label><div class=\"sk-toggleable__content\"><pre>OneHotEncoder(drop='first')</pre></div></div></div></div></div></div><div class=\"sk-parallel-item\"><div class=\"sk-item\"><div class=\"sk-label-container\"><div class=\"sk-label sk-toggleable\"><input class=\"sk-toggleable__control sk-hidden--visually\" id=\"7a975778-c555-4ae0-8f32-3e6fb0715ea2\" type=\"checkbox\" ><label class=\"sk-toggleable__label\" for=\"7a975778-c555-4ae0-8f32-3e6fb0715ea2\">t_one_hot_styles</label><div class=\"sk-toggleable__content\"><pre>['style']</pre></div></div></div><div class=\"sk-serial\"><div class=\"sk-item\"><div class=\"sk-estimator sk-toggleable\"><input class=\"sk-toggleable__control sk-hidden--visually\" id=\"54c4372d-cf44-4df3-bcfe-814d7cd5f350\" type=\"checkbox\" ><label class=\"sk-toggleable__label\" for=\"54c4372d-cf44-4df3-bcfe-814d7cd5f350\">OneHotEncoder</label><div class=\"sk-toggleable__content\"><pre>OneHotEncoder(categories=[['funk/groove1', 'soul/groove3', 'soul/groove4',\n",
              "                           'hiphop/groove6', 'rock/groove8']],\n",
              "              drop='first')</pre></div></div></div></div></div></div><div class=\"sk-parallel-item\"><div class=\"sk-item\"><div class=\"sk-label-container\"><div class=\"sk-label sk-toggleable\"><input class=\"sk-toggleable__control sk-hidden--visually\" id=\"d643da9b-c33c-4570-99e3-2fd867626340\" type=\"checkbox\" ><label class=\"sk-toggleable__label\" for=\"d643da9b-c33c-4570-99e3-2fd867626340\">t_one_hot_beat_pos</label><div class=\"sk-toggleable__content\"><pre>['bar_beat_number']</pre></div></div></div><div class=\"sk-serial\"><div class=\"sk-item\"><div class=\"sk-estimator sk-toggleable\"><input class=\"sk-toggleable__control sk-hidden--visually\" id=\"b3c65158-665f-47c6-a3dd-c413f4659219\" type=\"checkbox\" ><label class=\"sk-toggleable__label\" for=\"b3c65158-665f-47c6-a3dd-c413f4659219\">OneHotEncoder</label><div class=\"sk-toggleable__content\"><pre>OneHotEncoder(categories=[[1, 2, 3, 4, 5, 6, 7, 8, 9, 10, 11, 12, 13, 14, 15,\n",
              "                           16]],\n",
              "              drop='first')</pre></div></div></div></div></div></div><div class=\"sk-parallel-item\"><div class=\"sk-item\"><div class=\"sk-label-container\"><div class=\"sk-label sk-toggleable\"><input class=\"sk-toggleable__control sk-hidden--visually\" id=\"f308c406-2cfd-42a9-83d3-8d2aa896c704\" type=\"checkbox\" ><label class=\"sk-toggleable__label\" for=\"f308c406-2cfd-42a9-83d3-8d2aa896c704\">remainder</label><div class=\"sk-toggleable__content\"><pre></pre></div></div></div><div class=\"sk-serial\"><div class=\"sk-item\"><div class=\"sk-estimator sk-toggleable\"><input class=\"sk-toggleable__control sk-hidden--visually\" id=\"20e21fc6-2e4e-4fe5-8606-51956c4f5e72\" type=\"checkbox\" ><label class=\"sk-toggleable__label\" for=\"20e21fc6-2e4e-4fe5-8606-51956c4f5e72\">passthrough</label><div class=\"sk-toggleable__content\"><pre>passthrough</pre></div></div></div></div></div></div></div></div></div></div>"
            ],
            "text/plain": [
              "ColumnTransformer(remainder='passthrough', sparse_threshold=0,\n",
              "                  transformers=[('t_scaler_mm_1', MinMaxScaler(), ['velocity']),\n",
              "                                ('t_scaler_mm_2',\n",
              "                                 MinMaxScaler(feature_range=(-0.5, 0.5)),\n",
              "                                 ['beat_offset']),\n",
              "                                ('t_one_hot', OneHotEncoder(drop='first'),\n",
              "                                 ['note']),\n",
              "                                ('t_one_hot_styles',\n",
              "                                 OneHotEncoder(categories=[['funk/groove1',\n",
              "                                                            'soul/groove3',\n",
              "                                                            'soul/groove4',\n",
              "                                                            'hiphop/groove6',\n",
              "                                                            'rock/groove8']],\n",
              "                                               drop='first'),\n",
              "                                 ['style']),\n",
              "                                ('t_one_hot_beat_pos',\n",
              "                                 OneHotEncoder(categories=[[1, 2, 3, 4, 5, 6, 7,\n",
              "                                                            8, 9, 10, 11, 12,\n",
              "                                                            13, 14, 15, 16]],\n",
              "                                               drop='first'),\n",
              "                                 ['bar_beat_number'])])"
            ]
          },
          "metadata": {
            "tags": []
          },
          "execution_count": 37
        },
        {
          "output_type": "execute_result",
          "data": {
            "text/html": [
              "<style>div.sk-top-container {color: black;background-color: white;}div.sk-toggleable {background-color: white;}label.sk-toggleable__label {cursor: pointer;display: block;width: 100%;margin-bottom: 0;padding: 0.2em 0.3em;box-sizing: border-box;text-align: center;}div.sk-toggleable__content {max-height: 0;max-width: 0;overflow: hidden;text-align: left;background-color: #f0f8ff;}div.sk-toggleable__content pre {margin: 0.2em;color: black;border-radius: 0.25em;background-color: #f0f8ff;}input.sk-toggleable__control:checked~div.sk-toggleable__content {max-height: 200px;max-width: 100%;overflow: auto;}div.sk-estimator input.sk-toggleable__control:checked~label.sk-toggleable__label {background-color: #d4ebff;}div.sk-label input.sk-toggleable__control:checked~label.sk-toggleable__label {background-color: #d4ebff;}input.sk-hidden--visually {border: 0;clip: rect(1px 1px 1px 1px);clip: rect(1px, 1px, 1px, 1px);height: 1px;margin: -1px;overflow: hidden;padding: 0;position: absolute;width: 1px;}div.sk-estimator {font-family: monospace;background-color: #f0f8ff;margin: 0.25em 0.25em;border: 1px dotted black;border-radius: 0.25em;box-sizing: border-box;}div.sk-estimator:hover {background-color: #d4ebff;}div.sk-parallel-item::after {content: \"\";width: 100%;border-bottom: 1px solid gray;flex-grow: 1;}div.sk-label:hover label.sk-toggleable__label {background-color: #d4ebff;}div.sk-serial::before {content: \"\";position: absolute;border-left: 1px solid gray;box-sizing: border-box;top: 2em;bottom: 0;left: 50%;}div.sk-serial {display: flex;flex-direction: column;align-items: center;background-color: white;}div.sk-item {z-index: 1;}div.sk-parallel {display: flex;align-items: stretch;justify-content: center;background-color: white;}div.sk-parallel-item {display: flex;flex-direction: column;position: relative;background-color: white;}div.sk-parallel-item:first-child::after {align-self: flex-end;width: 50%;}div.sk-parallel-item:last-child::after {align-self: flex-start;width: 50%;}div.sk-parallel-item:only-child::after {width: 0;}div.sk-dashed-wrapped {border: 1px dashed gray;margin: 0.2em;box-sizing: border-box;padding-bottom: 0.1em;background-color: white;position: relative;}div.sk-label label {font-family: monospace;font-weight: bold;background-color: white;display: inline-block;line-height: 1.2em;}div.sk-label-container {position: relative;z-index: 2;text-align: center;}div.sk-container {display: inline-block;position: relative;}</style><div class=\"sk-top-container\"><div class=\"sk-container\"><div class=\"sk-item sk-dashed-wrapped\"><div class=\"sk-label-container\"><div class=\"sk-label sk-toggleable\"><input class=\"sk-toggleable__control sk-hidden--visually\" id=\"75960d04-ffb6-4973-9e27-0eda44d0718a\" type=\"checkbox\" ><label class=\"sk-toggleable__label\" for=\"75960d04-ffb6-4973-9e27-0eda44d0718a\">ColumnTransformer</label><div class=\"sk-toggleable__content\"><pre>ColumnTransformer(remainder='passthrough', sparse_threshold=0,\n",
              "                  transformers=[('t_scaler_mm_1', MinMaxScaler(),\n",
              "                                 ['velocity', 'beat_offset']),\n",
              "                                ('t_one_hot', OneHotEncoder(drop='first'),\n",
              "                                 ['note']),\n",
              "                                ('t_one_hot_styles',\n",
              "                                 OneHotEncoder(categories=[['funk/groove1',\n",
              "                                                            'soul/groove3',\n",
              "                                                            'soul/groove4',\n",
              "                                                            'hiphop/groove6',\n",
              "                                                            'rock/groove8']],\n",
              "                                               drop='first'),\n",
              "                                 ['style']),\n",
              "                                ('t_one_hot_beat_pos',\n",
              "                                 OneHotEncoder(categories=[[1, 2, 3, 4, 5, 6, 7,\n",
              "                                                            8, 9, 10, 11, 12,\n",
              "                                                            13, 14, 15, 16]],\n",
              "                                               drop='first'),\n",
              "                                 ['bar_beat_number'])])</pre></div></div></div><div class=\"sk-parallel\"><div class=\"sk-parallel-item\"><div class=\"sk-item\"><div class=\"sk-label-container\"><div class=\"sk-label sk-toggleable\"><input class=\"sk-toggleable__control sk-hidden--visually\" id=\"bb70602b-fc4e-45ed-b7e0-84ff58c063af\" type=\"checkbox\" ><label class=\"sk-toggleable__label\" for=\"bb70602b-fc4e-45ed-b7e0-84ff58c063af\">t_scaler_mm_1</label><div class=\"sk-toggleable__content\"><pre>['velocity', 'beat_offset']</pre></div></div></div><div class=\"sk-serial\"><div class=\"sk-item\"><div class=\"sk-estimator sk-toggleable\"><input class=\"sk-toggleable__control sk-hidden--visually\" id=\"77cbc504-60be-4d82-b27c-15e1c0890e7a\" type=\"checkbox\" ><label class=\"sk-toggleable__label\" for=\"77cbc504-60be-4d82-b27c-15e1c0890e7a\">MinMaxScaler</label><div class=\"sk-toggleable__content\"><pre>MinMaxScaler()</pre></div></div></div></div></div></div><div class=\"sk-parallel-item\"><div class=\"sk-item\"><div class=\"sk-label-container\"><div class=\"sk-label sk-toggleable\"><input class=\"sk-toggleable__control sk-hidden--visually\" id=\"83c70ff4-7585-43b1-b842-d04576aebc8c\" type=\"checkbox\" ><label class=\"sk-toggleable__label\" for=\"83c70ff4-7585-43b1-b842-d04576aebc8c\">t_one_hot</label><div class=\"sk-toggleable__content\"><pre>['note']</pre></div></div></div><div class=\"sk-serial\"><div class=\"sk-item\"><div class=\"sk-estimator sk-toggleable\"><input class=\"sk-toggleable__control sk-hidden--visually\" id=\"f2260e55-57ab-4f3f-8388-e45fea855d47\" type=\"checkbox\" ><label class=\"sk-toggleable__label\" for=\"f2260e55-57ab-4f3f-8388-e45fea855d47\">OneHotEncoder</label><div class=\"sk-toggleable__content\"><pre>OneHotEncoder(drop='first')</pre></div></div></div></div></div></div><div class=\"sk-parallel-item\"><div class=\"sk-item\"><div class=\"sk-label-container\"><div class=\"sk-label sk-toggleable\"><input class=\"sk-toggleable__control sk-hidden--visually\" id=\"11e6df8c-5fe3-4299-8115-a1138b3d9032\" type=\"checkbox\" ><label class=\"sk-toggleable__label\" for=\"11e6df8c-5fe3-4299-8115-a1138b3d9032\">t_one_hot_styles</label><div class=\"sk-toggleable__content\"><pre>['style']</pre></div></div></div><div class=\"sk-serial\"><div class=\"sk-item\"><div class=\"sk-estimator sk-toggleable\"><input class=\"sk-toggleable__control sk-hidden--visually\" id=\"76194baf-fec3-47d2-af67-f79b34c59073\" type=\"checkbox\" ><label class=\"sk-toggleable__label\" for=\"76194baf-fec3-47d2-af67-f79b34c59073\">OneHotEncoder</label><div class=\"sk-toggleable__content\"><pre>OneHotEncoder(categories=[['funk/groove1', 'soul/groove3', 'soul/groove4',\n",
              "                           'hiphop/groove6', 'rock/groove8']],\n",
              "              drop='first')</pre></div></div></div></div></div></div><div class=\"sk-parallel-item\"><div class=\"sk-item\"><div class=\"sk-label-container\"><div class=\"sk-label sk-toggleable\"><input class=\"sk-toggleable__control sk-hidden--visually\" id=\"9ad7ae9f-263f-4c5e-a8d9-2bdde34a928c\" type=\"checkbox\" ><label class=\"sk-toggleable__label\" for=\"9ad7ae9f-263f-4c5e-a8d9-2bdde34a928c\">t_one_hot_beat_pos</label><div class=\"sk-toggleable__content\"><pre>['bar_beat_number']</pre></div></div></div><div class=\"sk-serial\"><div class=\"sk-item\"><div class=\"sk-estimator sk-toggleable\"><input class=\"sk-toggleable__control sk-hidden--visually\" id=\"e519d429-d756-42d7-9c64-6d7a18993a93\" type=\"checkbox\" ><label class=\"sk-toggleable__label\" for=\"e519d429-d756-42d7-9c64-6d7a18993a93\">OneHotEncoder</label><div class=\"sk-toggleable__content\"><pre>OneHotEncoder(categories=[[1, 2, 3, 4, 5, 6, 7, 8, 9, 10, 11, 12, 13, 14, 15,\n",
              "                           16]],\n",
              "              drop='first')</pre></div></div></div></div></div></div><div class=\"sk-parallel-item\"><div class=\"sk-item\"><div class=\"sk-label-container\"><div class=\"sk-label sk-toggleable\"><input class=\"sk-toggleable__control sk-hidden--visually\" id=\"bebd311e-bc27-4733-a6e2-defd46c15a87\" type=\"checkbox\" ><label class=\"sk-toggleable__label\" for=\"bebd311e-bc27-4733-a6e2-defd46c15a87\">remainder</label><div class=\"sk-toggleable__content\"><pre></pre></div></div></div><div class=\"sk-serial\"><div class=\"sk-item\"><div class=\"sk-estimator sk-toggleable\"><input class=\"sk-toggleable__control sk-hidden--visually\" id=\"a0979a6f-b146-435d-bedf-cae43bf73486\" type=\"checkbox\" ><label class=\"sk-toggleable__label\" for=\"a0979a6f-b146-435d-bedf-cae43bf73486\">passthrough</label><div class=\"sk-toggleable__content\"><pre>passthrough</pre></div></div></div></div></div></div></div></div></div></div>"
            ],
            "text/plain": [
              "ColumnTransformer(remainder='passthrough', sparse_threshold=0,\n",
              "                  transformers=[('t_scaler_mm_1', MinMaxScaler(),\n",
              "                                 ['velocity', 'beat_offset']),\n",
              "                                ('t_one_hot', OneHotEncoder(drop='first'),\n",
              "                                 ['note']),\n",
              "                                ('t_one_hot_styles',\n",
              "                                 OneHotEncoder(categories=[['funk/groove1',\n",
              "                                                            'soul/groove3',\n",
              "                                                            'soul/groove4',\n",
              "                                                            'hiphop/groove6',\n",
              "                                                            'rock/groove8']],\n",
              "                                               drop='first'),\n",
              "                                 ['style']),\n",
              "                                ('t_one_hot_beat_pos',\n",
              "                                 OneHotEncoder(categories=[[1, 2, 3, 4, 5, 6, 7,\n",
              "                                                            8, 9, 10, 11, 12,\n",
              "                                                            13, 14, 15, 16]],\n",
              "                                               drop='first'),\n",
              "                                 ['bar_beat_number'])])"
            ]
          },
          "metadata": {
            "tags": []
          },
          "execution_count": 37
        },
        {
          "output_type": "execute_result",
          "data": {
            "text/html": [
              "<style>div.sk-top-container {color: black;background-color: white;}div.sk-toggleable {background-color: white;}label.sk-toggleable__label {cursor: pointer;display: block;width: 100%;margin-bottom: 0;padding: 0.2em 0.3em;box-sizing: border-box;text-align: center;}div.sk-toggleable__content {max-height: 0;max-width: 0;overflow: hidden;text-align: left;background-color: #f0f8ff;}div.sk-toggleable__content pre {margin: 0.2em;color: black;border-radius: 0.25em;background-color: #f0f8ff;}input.sk-toggleable__control:checked~div.sk-toggleable__content {max-height: 200px;max-width: 100%;overflow: auto;}div.sk-estimator input.sk-toggleable__control:checked~label.sk-toggleable__label {background-color: #d4ebff;}div.sk-label input.sk-toggleable__control:checked~label.sk-toggleable__label {background-color: #d4ebff;}input.sk-hidden--visually {border: 0;clip: rect(1px 1px 1px 1px);clip: rect(1px, 1px, 1px, 1px);height: 1px;margin: -1px;overflow: hidden;padding: 0;position: absolute;width: 1px;}div.sk-estimator {font-family: monospace;background-color: #f0f8ff;margin: 0.25em 0.25em;border: 1px dotted black;border-radius: 0.25em;box-sizing: border-box;}div.sk-estimator:hover {background-color: #d4ebff;}div.sk-parallel-item::after {content: \"\";width: 100%;border-bottom: 1px solid gray;flex-grow: 1;}div.sk-label:hover label.sk-toggleable__label {background-color: #d4ebff;}div.sk-serial::before {content: \"\";position: absolute;border-left: 1px solid gray;box-sizing: border-box;top: 2em;bottom: 0;left: 50%;}div.sk-serial {display: flex;flex-direction: column;align-items: center;background-color: white;}div.sk-item {z-index: 1;}div.sk-parallel {display: flex;align-items: stretch;justify-content: center;background-color: white;}div.sk-parallel-item {display: flex;flex-direction: column;position: relative;background-color: white;}div.sk-parallel-item:first-child::after {align-self: flex-end;width: 50%;}div.sk-parallel-item:last-child::after {align-self: flex-start;width: 50%;}div.sk-parallel-item:only-child::after {width: 0;}div.sk-dashed-wrapped {border: 1px dashed gray;margin: 0.2em;box-sizing: border-box;padding-bottom: 0.1em;background-color: white;position: relative;}div.sk-label label {font-family: monospace;font-weight: bold;background-color: white;display: inline-block;line-height: 1.2em;}div.sk-label-container {position: relative;z-index: 2;text-align: center;}div.sk-container {display: inline-block;position: relative;}</style><div class=\"sk-top-container\"><div class=\"sk-container\"><div class=\"sk-item sk-dashed-wrapped\"><div class=\"sk-label-container\"><div class=\"sk-label sk-toggleable\"><input class=\"sk-toggleable__control sk-hidden--visually\" id=\"f75e2573-8f4a-4ab8-8079-d2a9dfa7878a\" type=\"checkbox\" ><label class=\"sk-toggleable__label\" for=\"f75e2573-8f4a-4ab8-8079-d2a9dfa7878a\">ColumnTransformer</label><div class=\"sk-toggleable__content\"><pre>ColumnTransformer(remainder='passthrough', sparse_threshold=0,\n",
              "                  transformers=[('t_scaler_std', StandardScaler(),\n",
              "                                 ['velocity', 'beat_offset']),\n",
              "                                ('t_one_hot', OneHotEncoder(drop='first'),\n",
              "                                 ['note']),\n",
              "                                ('t_one_hot_styles',\n",
              "                                 OneHotEncoder(categories=[['funk/groove1',\n",
              "                                                            'soul/groove3',\n",
              "                                                            'soul/groove4',\n",
              "                                                            'hiphop/groove6',\n",
              "                                                            'rock/groove8']],\n",
              "                                               drop='first'),\n",
              "                                 ['style']),\n",
              "                                ('t_one_hot_beat_pos',\n",
              "                                 OneHotEncoder(categories=[[1, 2, 3, 4, 5, 6, 7,\n",
              "                                                            8, 9, 10, 11, 12,\n",
              "                                                            13, 14, 15, 16]],\n",
              "                                               drop='first'),\n",
              "                                 ['bar_beat_number'])])</pre></div></div></div><div class=\"sk-parallel\"><div class=\"sk-parallel-item\"><div class=\"sk-item\"><div class=\"sk-label-container\"><div class=\"sk-label sk-toggleable\"><input class=\"sk-toggleable__control sk-hidden--visually\" id=\"5e378154-421b-484d-9141-b1cf0425b28f\" type=\"checkbox\" ><label class=\"sk-toggleable__label\" for=\"5e378154-421b-484d-9141-b1cf0425b28f\">t_scaler_std</label><div class=\"sk-toggleable__content\"><pre>['velocity', 'beat_offset']</pre></div></div></div><div class=\"sk-serial\"><div class=\"sk-item\"><div class=\"sk-estimator sk-toggleable\"><input class=\"sk-toggleable__control sk-hidden--visually\" id=\"be7b76a1-3d12-4398-bc13-eb8d0616f013\" type=\"checkbox\" ><label class=\"sk-toggleable__label\" for=\"be7b76a1-3d12-4398-bc13-eb8d0616f013\">StandardScaler</label><div class=\"sk-toggleable__content\"><pre>StandardScaler()</pre></div></div></div></div></div></div><div class=\"sk-parallel-item\"><div class=\"sk-item\"><div class=\"sk-label-container\"><div class=\"sk-label sk-toggleable\"><input class=\"sk-toggleable__control sk-hidden--visually\" id=\"251e69cf-229c-47e7-a7f3-35eee5ed42b2\" type=\"checkbox\" ><label class=\"sk-toggleable__label\" for=\"251e69cf-229c-47e7-a7f3-35eee5ed42b2\">t_one_hot</label><div class=\"sk-toggleable__content\"><pre>['note']</pre></div></div></div><div class=\"sk-serial\"><div class=\"sk-item\"><div class=\"sk-estimator sk-toggleable\"><input class=\"sk-toggleable__control sk-hidden--visually\" id=\"fb0808cc-0877-479f-8b44-4c6c28d74e99\" type=\"checkbox\" ><label class=\"sk-toggleable__label\" for=\"fb0808cc-0877-479f-8b44-4c6c28d74e99\">OneHotEncoder</label><div class=\"sk-toggleable__content\"><pre>OneHotEncoder(drop='first')</pre></div></div></div></div></div></div><div class=\"sk-parallel-item\"><div class=\"sk-item\"><div class=\"sk-label-container\"><div class=\"sk-label sk-toggleable\"><input class=\"sk-toggleable__control sk-hidden--visually\" id=\"57e6d292-dfa4-461c-91b6-9f580e919805\" type=\"checkbox\" ><label class=\"sk-toggleable__label\" for=\"57e6d292-dfa4-461c-91b6-9f580e919805\">t_one_hot_styles</label><div class=\"sk-toggleable__content\"><pre>['style']</pre></div></div></div><div class=\"sk-serial\"><div class=\"sk-item\"><div class=\"sk-estimator sk-toggleable\"><input class=\"sk-toggleable__control sk-hidden--visually\" id=\"804a3309-43a9-4ce3-984e-8db723f09889\" type=\"checkbox\" ><label class=\"sk-toggleable__label\" for=\"804a3309-43a9-4ce3-984e-8db723f09889\">OneHotEncoder</label><div class=\"sk-toggleable__content\"><pre>OneHotEncoder(categories=[['funk/groove1', 'soul/groove3', 'soul/groove4',\n",
              "                           'hiphop/groove6', 'rock/groove8']],\n",
              "              drop='first')</pre></div></div></div></div></div></div><div class=\"sk-parallel-item\"><div class=\"sk-item\"><div class=\"sk-label-container\"><div class=\"sk-label sk-toggleable\"><input class=\"sk-toggleable__control sk-hidden--visually\" id=\"b629f68e-542a-46ca-a899-2e578a1e11da\" type=\"checkbox\" ><label class=\"sk-toggleable__label\" for=\"b629f68e-542a-46ca-a899-2e578a1e11da\">t_one_hot_beat_pos</label><div class=\"sk-toggleable__content\"><pre>['bar_beat_number']</pre></div></div></div><div class=\"sk-serial\"><div class=\"sk-item\"><div class=\"sk-estimator sk-toggleable\"><input class=\"sk-toggleable__control sk-hidden--visually\" id=\"e1a7d415-8acc-45c3-90c0-be623b64c339\" type=\"checkbox\" ><label class=\"sk-toggleable__label\" for=\"e1a7d415-8acc-45c3-90c0-be623b64c339\">OneHotEncoder</label><div class=\"sk-toggleable__content\"><pre>OneHotEncoder(categories=[[1, 2, 3, 4, 5, 6, 7, 8, 9, 10, 11, 12, 13, 14, 15,\n",
              "                           16]],\n",
              "              drop='first')</pre></div></div></div></div></div></div><div class=\"sk-parallel-item\"><div class=\"sk-item\"><div class=\"sk-label-container\"><div class=\"sk-label sk-toggleable\"><input class=\"sk-toggleable__control sk-hidden--visually\" id=\"8fe813aa-311a-48c1-9089-4a5842c8b248\" type=\"checkbox\" ><label class=\"sk-toggleable__label\" for=\"8fe813aa-311a-48c1-9089-4a5842c8b248\">remainder</label><div class=\"sk-toggleable__content\"><pre></pre></div></div></div><div class=\"sk-serial\"><div class=\"sk-item\"><div class=\"sk-estimator sk-toggleable\"><input class=\"sk-toggleable__control sk-hidden--visually\" id=\"b5a55fc8-3567-419b-8203-eb90c6b998de\" type=\"checkbox\" ><label class=\"sk-toggleable__label\" for=\"b5a55fc8-3567-419b-8203-eb90c6b998de\">passthrough</label><div class=\"sk-toggleable__content\"><pre>passthrough</pre></div></div></div></div></div></div></div></div></div></div>"
            ],
            "text/plain": [
              "ColumnTransformer(remainder='passthrough', sparse_threshold=0,\n",
              "                  transformers=[('t_scaler_std', StandardScaler(),\n",
              "                                 ['velocity', 'beat_offset']),\n",
              "                                ('t_one_hot', OneHotEncoder(drop='first'),\n",
              "                                 ['note']),\n",
              "                                ('t_one_hot_styles',\n",
              "                                 OneHotEncoder(categories=[['funk/groove1',\n",
              "                                                            'soul/groove3',\n",
              "                                                            'soul/groove4',\n",
              "                                                            'hiphop/groove6',\n",
              "                                                            'rock/groove8']],\n",
              "                                               drop='first'),\n",
              "                                 ['style']),\n",
              "                                ('t_one_hot_beat_pos',\n",
              "                                 OneHotEncoder(categories=[[1, 2, 3, 4, 5, 6, 7,\n",
              "                                                            8, 9, 10, 11, 12,\n",
              "                                                            13, 14, 15, 16]],\n",
              "                                               drop='first'),\n",
              "                                 ['bar_beat_number'])])"
            ]
          },
          "metadata": {
            "tags": []
          },
          "execution_count": 37
        },
        {
          "output_type": "execute_result",
          "data": {
            "text/html": [
              "<style>div.sk-top-container {color: black;background-color: white;}div.sk-toggleable {background-color: white;}label.sk-toggleable__label {cursor: pointer;display: block;width: 100%;margin-bottom: 0;padding: 0.2em 0.3em;box-sizing: border-box;text-align: center;}div.sk-toggleable__content {max-height: 0;max-width: 0;overflow: hidden;text-align: left;background-color: #f0f8ff;}div.sk-toggleable__content pre {margin: 0.2em;color: black;border-radius: 0.25em;background-color: #f0f8ff;}input.sk-toggleable__control:checked~div.sk-toggleable__content {max-height: 200px;max-width: 100%;overflow: auto;}div.sk-estimator input.sk-toggleable__control:checked~label.sk-toggleable__label {background-color: #d4ebff;}div.sk-label input.sk-toggleable__control:checked~label.sk-toggleable__label {background-color: #d4ebff;}input.sk-hidden--visually {border: 0;clip: rect(1px 1px 1px 1px);clip: rect(1px, 1px, 1px, 1px);height: 1px;margin: -1px;overflow: hidden;padding: 0;position: absolute;width: 1px;}div.sk-estimator {font-family: monospace;background-color: #f0f8ff;margin: 0.25em 0.25em;border: 1px dotted black;border-radius: 0.25em;box-sizing: border-box;}div.sk-estimator:hover {background-color: #d4ebff;}div.sk-parallel-item::after {content: \"\";width: 100%;border-bottom: 1px solid gray;flex-grow: 1;}div.sk-label:hover label.sk-toggleable__label {background-color: #d4ebff;}div.sk-serial::before {content: \"\";position: absolute;border-left: 1px solid gray;box-sizing: border-box;top: 2em;bottom: 0;left: 50%;}div.sk-serial {display: flex;flex-direction: column;align-items: center;background-color: white;}div.sk-item {z-index: 1;}div.sk-parallel {display: flex;align-items: stretch;justify-content: center;background-color: white;}div.sk-parallel-item {display: flex;flex-direction: column;position: relative;background-color: white;}div.sk-parallel-item:first-child::after {align-self: flex-end;width: 50%;}div.sk-parallel-item:last-child::after {align-self: flex-start;width: 50%;}div.sk-parallel-item:only-child::after {width: 0;}div.sk-dashed-wrapped {border: 1px dashed gray;margin: 0.2em;box-sizing: border-box;padding-bottom: 0.1em;background-color: white;position: relative;}div.sk-label label {font-family: monospace;font-weight: bold;background-color: white;display: inline-block;line-height: 1.2em;}div.sk-label-container {position: relative;z-index: 2;text-align: center;}div.sk-container {display: inline-block;position: relative;}</style><div class=\"sk-top-container\"><div class=\"sk-container\"><div class=\"sk-item sk-dashed-wrapped\"><div class=\"sk-label-container\"><div class=\"sk-label sk-toggleable\"><input class=\"sk-toggleable__control sk-hidden--visually\" id=\"ecdbc4a3-60f2-4c55-bb26-a2950a0432fb\" type=\"checkbox\" ><label class=\"sk-toggleable__label\" for=\"ecdbc4a3-60f2-4c55-bb26-a2950a0432fb\">ColumnTransformer</label><div class=\"sk-toggleable__content\"><pre>ColumnTransformer(remainder='passthrough', sparse_threshold=0,\n",
              "                  transformers=[('t_label_enc', OrdinalEncoder(), ['note']),\n",
              "                                ('t_label_enc',\n",
              "                                 OrdinalEncoder(categories=[['funk/groove1',\n",
              "                                                             'soul/groove3',\n",
              "                                                             'soul/groove4',\n",
              "                                                             'hiphop/groove6',\n",
              "                                                             'rock/groove8']]),\n",
              "                                 ['style'])])</pre></div></div></div><div class=\"sk-parallel\"><div class=\"sk-parallel-item\"><div class=\"sk-item\"><div class=\"sk-label-container\"><div class=\"sk-label sk-toggleable\"><input class=\"sk-toggleable__control sk-hidden--visually\" id=\"e4236fb0-02e8-43c3-9fff-041cf65dd561\" type=\"checkbox\" ><label class=\"sk-toggleable__label\" for=\"e4236fb0-02e8-43c3-9fff-041cf65dd561\">t_label_enc</label><div class=\"sk-toggleable__content\"><pre>['note']</pre></div></div></div><div class=\"sk-serial\"><div class=\"sk-item\"><div class=\"sk-estimator sk-toggleable\"><input class=\"sk-toggleable__control sk-hidden--visually\" id=\"6e078c73-c538-4b7e-ab3f-8d205974a80e\" type=\"checkbox\" ><label class=\"sk-toggleable__label\" for=\"6e078c73-c538-4b7e-ab3f-8d205974a80e\">OrdinalEncoder</label><div class=\"sk-toggleable__content\"><pre>OrdinalEncoder()</pre></div></div></div></div></div></div><div class=\"sk-parallel-item\"><div class=\"sk-item\"><div class=\"sk-label-container\"><div class=\"sk-label sk-toggleable\"><input class=\"sk-toggleable__control sk-hidden--visually\" id=\"16b78ba5-c49d-45d1-91e0-cfb57b9a281c\" type=\"checkbox\" ><label class=\"sk-toggleable__label\" for=\"16b78ba5-c49d-45d1-91e0-cfb57b9a281c\">t_label_enc</label><div class=\"sk-toggleable__content\"><pre>['style']</pre></div></div></div><div class=\"sk-serial\"><div class=\"sk-item\"><div class=\"sk-estimator sk-toggleable\"><input class=\"sk-toggleable__control sk-hidden--visually\" id=\"a731aabb-d1ba-4699-b086-b0fc3ca11d72\" type=\"checkbox\" ><label class=\"sk-toggleable__label\" for=\"a731aabb-d1ba-4699-b086-b0fc3ca11d72\">OrdinalEncoder</label><div class=\"sk-toggleable__content\"><pre>OrdinalEncoder(categories=[['funk/groove1', 'soul/groove3', 'soul/groove4',\n",
              "                            'hiphop/groove6', 'rock/groove8']])</pre></div></div></div></div></div></div><div class=\"sk-parallel-item\"><div class=\"sk-item\"><div class=\"sk-label-container\"><div class=\"sk-label sk-toggleable\"><input class=\"sk-toggleable__control sk-hidden--visually\" id=\"decc6a03-06bd-4ab0-a6c4-9bf99d1c3690\" type=\"checkbox\" ><label class=\"sk-toggleable__label\" for=\"decc6a03-06bd-4ab0-a6c4-9bf99d1c3690\">remainder</label><div class=\"sk-toggleable__content\"><pre></pre></div></div></div><div class=\"sk-serial\"><div class=\"sk-item\"><div class=\"sk-estimator sk-toggleable\"><input class=\"sk-toggleable__control sk-hidden--visually\" id=\"fc039a4f-a110-46cc-8560-7a879dbf5e9d\" type=\"checkbox\" ><label class=\"sk-toggleable__label\" for=\"fc039a4f-a110-46cc-8560-7a879dbf5e9d\">passthrough</label><div class=\"sk-toggleable__content\"><pre>passthrough</pre></div></div></div></div></div></div></div></div></div></div>"
            ],
            "text/plain": [
              "ColumnTransformer(remainder='passthrough', sparse_threshold=0,\n",
              "                  transformers=[('t_label_enc', OrdinalEncoder(), ['note']),\n",
              "                                ('t_label_enc',\n",
              "                                 OrdinalEncoder(categories=[['funk/groove1',\n",
              "                                                             'soul/groove3',\n",
              "                                                             'soul/groove4',\n",
              "                                                             'hiphop/groove6',\n",
              "                                                             'rock/groove8']]),\n",
              "                                 ['style'])])"
            ]
          },
          "metadata": {
            "tags": []
          },
          "execution_count": 37
        }
      ]
    },
    {
      "cell_type": "markdown",
      "metadata": {
        "id": "K3JlPpTjIlYg"
      },
      "source": [
        "## Sanity checking ..\n"
      ]
    },
    {
      "cell_type": "markdown",
      "metadata": {
        "id": "AMt3mRRkItZw"
      },
      "source": [
        "Try a transformer, peek at the outputs..."
      ]
    },
    {
      "cell_type": "code",
      "metadata": {
        "id": "Sm2Kwbjx-PU0"
      },
      "source": [
        "output1 = ct_v1.fit_transform(X)\n",
        "output2 = ct_v2.fit_transform(X)\n",
        "output3 = ct_v3.fit_transform(X)\n",
        "output4 = ct_v4.fit_transform(X)"
      ],
      "execution_count": null,
      "outputs": []
    },
    {
      "cell_type": "code",
      "metadata": {
        "id": "Bay0kX4dzAX4"
      },
      "source": [
        "output1.shape\n",
        "pd.DataFrame(output1).head()"
      ],
      "execution_count": null,
      "outputs": []
    },
    {
      "cell_type": "code",
      "metadata": {
        "id": "YgwkxqUzNRr5"
      },
      "source": [
        "output2.shape\n",
        "tmp_df = pd.DataFrame(output2)\n",
        "tmp_df.head()\n",
        "#tmp_df.corr()\n"
      ],
      "execution_count": null,
      "outputs": []
    },
    {
      "cell_type": "code",
      "metadata": {
        "id": "W_pV4i3aQjKw"
      },
      "source": [
        "output3.shape\n",
        "tmp_df = pd.DataFrame(output3)\n",
        "tmp_df.head()\n",
        "#tmp_df.corr()"
      ],
      "execution_count": null,
      "outputs": []
    },
    {
      "cell_type": "code",
      "metadata": {
        "id": "ODfveKMn-JvY"
      },
      "source": [
        "output4.shape\n",
        "tmp_df = pd.DataFrame(output4)\n",
        "tmp_df.head()\n",
        "#tmp_df.corr()"
      ],
      "execution_count": null,
      "outputs": []
    },
    {
      "cell_type": "markdown",
      "metadata": {
        "id": "8XFdCcrwOzST"
      },
      "source": [
        "## Some pipelines"
      ]
    },
    {
      "cell_type": "code",
      "metadata": {
        "id": "9WN7AkGUJD_Q"
      },
      "source": [
        "# setup our pre-processing and modelling pipeline\n",
        "pipe_v0 = Pipeline(steps=[('prep',ct_v0), ('knn', KNeighborsClassifier(7))])\n",
        "pipe_v1 = Pipeline(steps=[('prep',ct_v1), ('knn', KNeighborsClassifier(7))])\n",
        "pipe_v2 = Pipeline(steps=[('prep',ct_v2), ('knn', KNeighborsClassifier(7))])\n",
        "pipe_v3 = Pipeline(steps=[('prep',ct_v3), ('knn', KNeighborsClassifier(7))])\n",
        "pipe_v4 = Pipeline(steps=[('prep',ct_v4), ('knn', KNeighborsClassifier(7))])\n"
      ],
      "execution_count": null,
      "outputs": []
    },
    {
      "cell_type": "markdown",
      "metadata": {
        "id": "2nEqru7CZGvV"
      },
      "source": [
        "# Util functions\n"
      ]
    },
    {
      "cell_type": "code",
      "metadata": {
        "id": "Ygf_kwUR2MwK"
      },
      "source": [
        "def display_classify_results(y_true, y_pred, labels):\n",
        "\n",
        "  print('\\nAccuracy score {}'.format(accuracy_score(y_true=y_true, y_pred=y_pred)))\n",
        "\n",
        "  print('\\nClassification report...')\n",
        "  print(classification_report(y_true=y_true, y_pred=y_pred, labels=labels))\n",
        "\n",
        "  print('\\nConfusion matrix...')\n",
        "  matrix2 = confusion_matrix(y_true=y_true, y_pred=y_pred, labels=labels)\n",
        "  m_df = pd.DataFrame(matrix2, index=labels, columns=labels)\n",
        "  _ = plt.figure(figsize=(5, 5))\n",
        "  sns.heatmap(m_df, annot=True, cbar=None, cmap=\"Blues\", fmt='d')\n",
        "  plt.title(\"Confusion Matrix\")\n",
        "  plt.tight_layout()\n",
        "  plt.ylabel(\"Actual\")\n",
        "  plt.xlabel(\"Predicted\")\n",
        "  plt.show()\n",
        "\n",
        "  # return results struct\n",
        "  report = classification_report(y_true=y_true, y_pred=y_pred, output_dict=True)\n",
        "  results_1 = pd.DataFrame(report).transpose()\n",
        "  return results_1\n",
        "\n",
        "# util to print list of song styles in dataset\n",
        "def show_selected_styles():\n",
        "  print('\\n ====>>>> Working with data for style(s)... \\n   {}'\n",
        "    .format(working_data['style'].unique()))\n"
      ],
      "execution_count": 96,
      "outputs": []
    },
    {
      "cell_type": "code",
      "metadata": {
        "id": "hzR5z4g8uVZT"
      },
      "source": [
        "stop here"
      ],
      "execution_count": null,
      "outputs": []
    },
    {
      "cell_type": "markdown",
      "metadata": {
        "id": "ZGGQCT7ruXhK"
      },
      "source": [
        ""
      ]
    },
    {
      "cell_type": "markdown",
      "metadata": {
        "id": "DLHxPVtEHxVX"
      },
      "source": [
        "# Manual KNN to test pipelines (OLD)"
      ]
    },
    {
      "cell_type": "markdown",
      "metadata": {
        "id": "oPUP9jL7KSGM"
      },
      "source": [
        "## Manual fit model, do predictions"
      ]
    },
    {
      "cell_type": "markdown",
      "metadata": {
        "id": "KHuvjM3BaprE"
      },
      "source": [
        "Testing single model by hand"
      ]
    },
    {
      "cell_type": "code",
      "metadata": {
        "id": "AisUCAVmPjP4"
      },
      "source": [
        "print('fitting the pipeline ...')\n",
        "pipe_v3.fit(X_train, y_train)\n",
        "#pipe_v0.fit(X_train, y_train)\n",
        "\n",
        "\n",
        "print('predicting ...')\n",
        "predictions_1 = pipe_v3.predict(X_test)\n",
        "#predictions_1 = pipe_v0.predict(X_test)"
      ],
      "execution_count": null,
      "outputs": []
    },
    {
      "cell_type": "markdown",
      "metadata": {
        "id": "GFxhC5v1KWi0"
      },
      "source": [
        "## Evaluate model results"
      ]
    },
    {
      "cell_type": "code",
      "metadata": {
        "id": "5wC7EHjBP1BY"
      },
      "source": [
        "# y = list of all y values from dataset\n",
        "classes = np.unique(y)\n",
        "display_classify_results(y_test, predictions_1, classes)"
      ],
      "execution_count": null,
      "outputs": []
    },
    {
      "cell_type": "code",
      "metadata": {
        "id": "N632ydS7S0Lx"
      },
      "source": [
        ""
      ],
      "execution_count": null,
      "outputs": []
    },
    {
      "cell_type": "markdown",
      "metadata": {
        "id": "sAZ2-vadTLah"
      },
      "source": [
        "# DummyClassifier\n",
        "See...\n",
        "* https://scikit-learn.org/stable/modules/generated/sklearn.dummy.DummyClassifier.html#sklearn.dummy.DummyClassifier"
      ]
    },
    {
      "cell_type": "code",
      "metadata": {
        "id": "9qiJipgiAlhj"
      },
      "source": [
        "# uniform, stratified, most_frequent, prior, constant\r\n",
        "dummy_clf = DummyClassifier(strategy='stratified', random_state=0)"
      ],
      "execution_count": 39,
      "outputs": []
    },
    {
      "cell_type": "code",
      "metadata": {
        "colab": {
          "base_uri": "https://localhost:8080/",
          "height": 71
        },
        "id": "d5mtsrTmBWU2",
        "outputId": "6337f7b3-6aea-4938-d201-0759ddf22038"
      },
      "source": [
        "dummy_clf.fit(X_train, y_train)"
      ],
      "execution_count": 40,
      "outputs": [
        {
          "output_type": "execute_result",
          "data": {
            "text/html": [
              "<style>div.sk-top-container {color: black;background-color: white;}div.sk-toggleable {background-color: white;}label.sk-toggleable__label {cursor: pointer;display: block;width: 100%;margin-bottom: 0;padding: 0.2em 0.3em;box-sizing: border-box;text-align: center;}div.sk-toggleable__content {max-height: 0;max-width: 0;overflow: hidden;text-align: left;background-color: #f0f8ff;}div.sk-toggleable__content pre {margin: 0.2em;color: black;border-radius: 0.25em;background-color: #f0f8ff;}input.sk-toggleable__control:checked~div.sk-toggleable__content {max-height: 200px;max-width: 100%;overflow: auto;}div.sk-estimator input.sk-toggleable__control:checked~label.sk-toggleable__label {background-color: #d4ebff;}div.sk-label input.sk-toggleable__control:checked~label.sk-toggleable__label {background-color: #d4ebff;}input.sk-hidden--visually {border: 0;clip: rect(1px 1px 1px 1px);clip: rect(1px, 1px, 1px, 1px);height: 1px;margin: -1px;overflow: hidden;padding: 0;position: absolute;width: 1px;}div.sk-estimator {font-family: monospace;background-color: #f0f8ff;margin: 0.25em 0.25em;border: 1px dotted black;border-radius: 0.25em;box-sizing: border-box;}div.sk-estimator:hover {background-color: #d4ebff;}div.sk-parallel-item::after {content: \"\";width: 100%;border-bottom: 1px solid gray;flex-grow: 1;}div.sk-label:hover label.sk-toggleable__label {background-color: #d4ebff;}div.sk-serial::before {content: \"\";position: absolute;border-left: 1px solid gray;box-sizing: border-box;top: 2em;bottom: 0;left: 50%;}div.sk-serial {display: flex;flex-direction: column;align-items: center;background-color: white;}div.sk-item {z-index: 1;}div.sk-parallel {display: flex;align-items: stretch;justify-content: center;background-color: white;}div.sk-parallel-item {display: flex;flex-direction: column;position: relative;background-color: white;}div.sk-parallel-item:first-child::after {align-self: flex-end;width: 50%;}div.sk-parallel-item:last-child::after {align-self: flex-start;width: 50%;}div.sk-parallel-item:only-child::after {width: 0;}div.sk-dashed-wrapped {border: 1px dashed gray;margin: 0.2em;box-sizing: border-box;padding-bottom: 0.1em;background-color: white;position: relative;}div.sk-label label {font-family: monospace;font-weight: bold;background-color: white;display: inline-block;line-height: 1.2em;}div.sk-label-container {position: relative;z-index: 2;text-align: center;}div.sk-container {display: inline-block;position: relative;}</style><div class=\"sk-top-container\"><div class=\"sk-container\"><div class=\"sk-item\"><div class=\"sk-estimator sk-toggleable\"><input class=\"sk-toggleable__control sk-hidden--visually\" id=\"129768a2-866a-4e8a-acc6-935990f81798\" type=\"checkbox\" checked><label class=\"sk-toggleable__label\" for=\"129768a2-866a-4e8a-acc6-935990f81798\">DummyClassifier</label><div class=\"sk-toggleable__content\"><pre>DummyClassifier(random_state=0, strategy='stratified')</pre></div></div></div></div></div>"
            ],
            "text/plain": [
              "DummyClassifier(random_state=0, strategy='stratified')"
            ]
          },
          "metadata": {
            "tags": []
          },
          "execution_count": 40
        }
      ]
    },
    {
      "cell_type": "code",
      "metadata": {
        "id": "vlxoWk9HTOSA"
      },
      "source": [
        "y_pred = dummy_clf.predict(X_test)"
      ],
      "execution_count": 41,
      "outputs": []
    },
    {
      "cell_type": "code",
      "metadata": {
        "colab": {
          "base_uri": "https://localhost:8080/",
          "height": 723
        },
        "id": "cm3cwqY1SJdS",
        "outputId": "ba8f01b4-9594-4f34-d092-f602e0767e2d"
      },
      "source": [
        "show_selected_styles()\r\n",
        "dummy_res_1 = display_classify_results(y_test, y_pred, labels = np.unique(y))"
      ],
      "execution_count": 42,
      "outputs": [
        {
          "output_type": "stream",
          "text": [
            "\n",
            " ====>>>> Working with data for style(s)... \n",
            "   ['funk/groove1']\n",
            "\n",
            "Accuracy score 0.24311926605504589\n",
            "\n",
            "Classification report...\n",
            "              precision    recall  f1-score   support\n",
            "\n",
            "    drummer1       0.18      0.17      0.18        52\n",
            "    drummer5       0.26      0.27      0.26        60\n",
            "    drummer7       0.26      0.26      0.26        50\n",
            "    drummer8       0.26      0.27      0.27        56\n",
            "\n",
            "    accuracy                           0.24       218\n",
            "   macro avg       0.24      0.24      0.24       218\n",
            "weighted avg       0.24      0.24      0.24       218\n",
            "\n",
            "\n",
            "Confusion matrix...\n"
          ],
          "name": "stdout"
        },
        {
          "output_type": "display_data",
          "data": {
            "image/png": "[encoded data removed]",
            "text/plain": [
              "<Figure size 360x360 with 1 Axes>"
            ]
          },
          "metadata": {
            "tags": [],
            "needs_background": "light"
          }
        }
      ]
    },
    {
      "cell_type": "code",
      "metadata": {
        "id": "mZy-36D3AFXg"
      },
      "source": [
        "# write results to csv\r\n",
        "dummy_res_1.to_csv('{}/_Results_Dummy_trainTestOnWholeDataset.csv'.format(home_dir))"
      ],
      "execution_count": null,
      "outputs": []
    },
    {
      "cell_type": "markdown",
      "metadata": {
        "id": "lWH12kcMSoRC"
      },
      "source": [
        "# K-fold CV, manual loop thru pipes (OLD)\n",
        "\n",
        "Compares..\n",
        "* k=1-20\n",
        "* 4 different pre-processing pipes\n",
        "\n",
        "::TODO:: try different cv values."
      ]
    },
    {
      "cell_type": "code",
      "metadata": {
        "id": "6exPok9QIIAu"
      },
      "source": [
        "pca = PCA()\n",
        "\n",
        "# list of ColumnTransformers setup earlier ..\n",
        "cts = [ct_v0, ct_v1, ct_v2, ct_v3, ct_v4]\n",
        "\n",
        "results = []\n",
        "best_score = 0\n",
        "best_info = ''\n",
        "best_pipe = None\n",
        "best_k = 0\n",
        "\n",
        "kf = StratifiedKFold(n_splits=10, shuffle=True, random_state=27)\n",
        "\n",
        "for idx, ct in enumerate(cts):\n",
        "  print(\"\\n_______________________________________________________\")\n",
        "  print(\"\\n>>>> pipe #{}.. \\n\".format(idx))\n",
        "  \n",
        "  # Calculating error for K values between 1 and 20\n",
        "  for next_k in range(1, 20):\n",
        "    next_pipe = Pipeline(steps=[('prep',ct), ('pca', pca), ('knn', KNeighborsClassifier(next_k))])\n",
        "    cv_results = cross_val_score(next_pipe, X_train, y_train, cv=kf, scoring=\"accuracy\", n_jobs=-1 )\n",
        "    results.append(cv_results)\n",
        "\n",
        "    # print out put of this run.\n",
        "    this_mean = cv_results.mean()\n",
        "    this_run = \"pipe #{}, k={}, mean:{}\".format(idx, next_k, this_mean)\n",
        "    print('\\n\\n ___ '+this_run)\n",
        "    cv_results\n",
        "\n",
        "    # check for best\n",
        "    if this_mean > best_score:\n",
        "      best_score = this_mean\n",
        "      best_info = this_run\n",
        "      best_pipe = next_pipe\n",
        "      best_k = next_k\n",
        "    \n",
        "print(\"\\n\\nBest score was > {}\".format(best_score))\n",
        "print(best_info)\n",
        "\n"
      ],
      "execution_count": null,
      "outputs": []
    },
    {
      "cell_type": "markdown",
      "metadata": {
        "id": "39wunDtQMsKJ"
      },
      "source": [
        "## Training scores"
      ]
    },
    {
      "cell_type": "code",
      "metadata": {
        "id": "bnng2cEYC874"
      },
      "source": [
        "print('Best classifier k: {}, score: {}'.format(best_k, best_score))\n",
        "print(best_info)\n",
        "print('Best classifier pipe..')\n",
        "best_pipe"
      ],
      "execution_count": null,
      "outputs": []
    },
    {
      "cell_type": "markdown",
      "metadata": {
        "id": "H5zSPf_CMvKw"
      },
      "source": [
        "## Testing scores"
      ]
    },
    {
      "cell_type": "code",
      "metadata": {
        "id": "GtN_wiBb_Qar"
      },
      "source": [
        "#test_pipe = Pipeline(steps=[('prep',ct_v1), ('knn', KNeighborsClassifier(7))])\n",
        "#test_pipe\n",
        "_ = best_pipe.fit(X_train, y_train)\n",
        "y_pred = best_pipe.predict(X_test)"
      ],
      "execution_count": null,
      "outputs": []
    },
    {
      "cell_type": "code",
      "metadata": {
        "id": "1wcjMETpAOuI"
      },
      "source": [
        "display_classify_results(y_test, y_pred, labels=np.unique(y))"
      ],
      "execution_count": null,
      "outputs": []
    },
    {
      "cell_type": "markdown",
      "metadata": {
        "id": "JCyQK62SWfpr"
      },
      "source": [
        "Quick review of stats of the data we're about to use in the model search..."
      ]
    },
    {
      "cell_type": "code",
      "metadata": {
        "id": "B0AONZGHU02Y"
      },
      "source": [
        "X.describe()\n",
        "pd.DataFrame(y).describe()\n",
        "print('Drummers: {}'.format(np.unique(y)))\n",
        "print('Beat positions: {}'.format(np.unique(X.bar_beat_number)))"
      ],
      "execution_count": null,
      "outputs": []
    },
    {
      "cell_type": "markdown",
      "metadata": {
        "id": "UjW5HVrYtnVq"
      },
      "source": [
        "# GridSearch, kNN"
      ]
    },
    {
      "cell_type": "markdown",
      "metadata": {
        "id": "UiMIcvv6tvyG"
      },
      "source": [
        "Good links!\n",
        "* https://www.featureranking.com/tutorials/machine-learning-tutorials/sk-part-3-cross-validation-and-hyperparameter-tuning/ \n",
        "* https://scikit-learn.org/stable/modules/generated/sklearn.model_selection.GridSearchCV.html\n",
        "* https://scikit-learn.org/stable/modules/compose.html \n",
        "* https://scikit-learn.org/stable/modules/generated/sklearn.neighbors.NearestNeighbors.html#sklearn.neighbors.NearestNeighbors"
      ]
    },
    {
      "cell_type": "code",
      "metadata": {
        "id": "Pykn52VJtqlN",
        "colab": {
          "base_uri": "https://localhost:8080/",
          "height": 35
        },
        "outputId": "a8cf622a-c225-4614-865a-76e91416e563"
      },
      "source": [
        "import sklearn\n",
        "sklearn.__version__  # should be 0.23.2"
      ],
      "execution_count": 46,
      "outputs": [
        {
          "output_type": "execute_result",
          "data": {
            "application/vnd.google.colaboratory.intrinsic+json": {
              "type": "string"
            },
            "text/plain": [
              "'0.24.0'"
            ]
          },
          "metadata": {
            "tags": []
          },
          "execution_count": 46
        }
      ]
    },
    {
      "cell_type": "markdown",
      "metadata": {
        "id": "hQ_fpJS5CCX0"
      },
      "source": [
        "Set data being used in 'Setup & select data...' > 'Song style selection''\r\n"
      ]
    },
    {
      "cell_type": "code",
      "metadata": {
        "id": "l56csAzvfkhv",
        "colab": {
          "base_uri": "https://localhost:8080/",
          "height": 1000
        },
        "outputId": "82ba29ca-1d13-4d55-d499-e1c02ee9197f"
      },
      "source": [
        "# debug, show the data being worked on\n",
        "show_selected_styles()\n",
        "\n",
        "# collect our ColumnTransformers setup earlier ..\n",
        "grid_cts = [ct_v0, ct_v1, ct_v2, ct_v3, ct_v4]\n",
        "#grid_cts = [ct_v4]\n",
        "\n",
        "param_grid_pca_yes = dict(knn__n_neighbors=np.arange(1, 20), # knn neighbours\n",
        "                     knn__p=[1, 2, 5], # knn distance functions to test\n",
        "                     knn__weights=['uniform', 'distance'],\n",
        "                     pca__n_components=[0.95, 2,3,4, None],\n",
        "                     pca=[PCA()],\n",
        "                     prep=grid_cts # list of ColTransformers to search\n",
        ")\n",
        "\n",
        "#param_grid_pca_no = dict(knn__n_neighbors=np.arange(1, 20), # knn neighbours\n",
        "#                     knn__p=[1, 2, 5], # knn distance functions to test\n",
        "#                     knn__weights=['uniform', 'distance'],\n",
        "#                     prep=grid_cts # list of ColTransformers to search\n",
        "#)\n",
        "\n",
        "# TMP next params setup only for efficiency, to reproduce clf with\n",
        "# previously best found params.\n",
        "# !!DELETE WHEN DONE!!\n",
        "param_grid_pca_no = dict(knn__n_neighbors=np.arange(3, 5), # knn neighbours\n",
        "                     knn__p=[2 ], # knn distance functions to test\n",
        "                     knn__weights=['distance'],\n",
        "                     prep=grid_cts # list of ColTransformers to search\n",
        ")\n",
        "\n",
        "\n",
        "\n",
        "#stratified for proportional class representation\n",
        "skf = StratifiedKFold(n_splits=10)\n",
        "\n",
        "my_pipe = Pipeline(steps=[('prep',None ), ('pca', None), ('knn', KNeighborsClassifier())])\n",
        "#grid_search = GridSearchCV(my_pipe, param_grid=param_grid_pca_yes, cv=skf, verbose=2)\n",
        "grid_search = GridSearchCV(my_pipe, param_grid=param_grid_pca_no, cv=skf, verbose=1)\n",
        "\n",
        "print('\\n___FITTING ....\\n')\n",
        "grid_search.fit(X_train,y_train)\n",
        "\n",
        "print('\\n___BEST ESTIMATOR\\n')\n",
        "display(grid_search.best_estimator_)\n",
        "\n",
        "print('\\n___BEST SCORE\\n')\n",
        "display(grid_search.best_score_)\n",
        "\n",
        "print('\\n___BEST PARAMS\\n')\n",
        "display(grid_search.best_params_)\n"
      ],
      "execution_count": 47,
      "outputs": [
        {
          "output_type": "stream",
          "text": [
            "\n",
            " ====>>>> Working with data for style(s)... \n",
            "   ['hiphop/groove6']\n",
            "\n",
            "___FITTING ....\n",
            "\n",
            "Fitting 10 folds for each of 10 candidates, totalling 100 fits\n"
          ],
          "name": "stdout"
        },
        {
          "output_type": "execute_result",
          "data": {
            "text/html": [
              "<style>div.sk-top-container {color: black;background-color: white;}div.sk-toggleable {background-color: white;}label.sk-toggleable__label {cursor: pointer;display: block;width: 100%;margin-bottom: 0;padding: 0.2em 0.3em;box-sizing: border-box;text-align: center;}div.sk-toggleable__content {max-height: 0;max-width: 0;overflow: hidden;text-align: left;background-color: #f0f8ff;}div.sk-toggleable__content pre {margin: 0.2em;color: black;border-radius: 0.25em;background-color: #f0f8ff;}input.sk-toggleable__control:checked~div.sk-toggleable__content {max-height: 200px;max-width: 100%;overflow: auto;}div.sk-estimator input.sk-toggleable__control:checked~label.sk-toggleable__label {background-color: #d4ebff;}div.sk-label input.sk-toggleable__control:checked~label.sk-toggleable__label {background-color: #d4ebff;}input.sk-hidden--visually {border: 0;clip: rect(1px 1px 1px 1px);clip: rect(1px, 1px, 1px, 1px);height: 1px;margin: -1px;overflow: hidden;padding: 0;position: absolute;width: 1px;}div.sk-estimator {font-family: monospace;background-color: #f0f8ff;margin: 0.25em 0.25em;border: 1px dotted black;border-radius: 0.25em;box-sizing: border-box;}div.sk-estimator:hover {background-color: #d4ebff;}div.sk-parallel-item::after {content: \"\";width: 100%;border-bottom: 1px solid gray;flex-grow: 1;}div.sk-label:hover label.sk-toggleable__label {background-color: #d4ebff;}div.sk-serial::before {content: \"\";position: absolute;border-left: 1px solid gray;box-sizing: border-box;top: 2em;bottom: 0;left: 50%;}div.sk-serial {display: flex;flex-direction: column;align-items: center;background-color: white;}div.sk-item {z-index: 1;}div.sk-parallel {display: flex;align-items: stretch;justify-content: center;background-color: white;}div.sk-parallel-item {display: flex;flex-direction: column;position: relative;background-color: white;}div.sk-parallel-item:first-child::after {align-self: flex-end;width: 50%;}div.sk-parallel-item:last-child::after {align-self: flex-start;width: 50%;}div.sk-parallel-item:only-child::after {width: 0;}div.sk-dashed-wrapped {border: 1px dashed gray;margin: 0.2em;box-sizing: border-box;padding-bottom: 0.1em;background-color: white;position: relative;}div.sk-label label {font-family: monospace;font-weight: bold;background-color: white;display: inline-block;line-height: 1.2em;}div.sk-label-container {position: relative;z-index: 2;text-align: center;}div.sk-container {display: inline-block;position: relative;}</style><div class=\"sk-top-container\"><div class=\"sk-container\"><div class=\"sk-item sk-dashed-wrapped\"><div class=\"sk-label-container\"><div class=\"sk-label sk-toggleable\"><input class=\"sk-toggleable__control sk-hidden--visually\" id=\"7044fa83-0cd3-4021-9ba0-306264d4ceb0\" type=\"checkbox\" ><label class=\"sk-toggleable__label\" for=\"7044fa83-0cd3-4021-9ba0-306264d4ceb0\">GridSearchCV</label><div class=\"sk-toggleable__content\"><pre>GridSearchCV(cv=StratifiedKFold(n_splits=10, random_state=None, shuffle=False),\n",
              "             estimator=Pipeline(steps=[('prep', None), ('pca', None),\n",
              "                                       ('knn', KNeighborsClassifier())]),\n",
              "             param_grid={'knn__n_neighbors': array([3, 4]), 'knn__p': [2],\n",
              "                         'knn__weights': ['distance'],\n",
              "                         'prep': [ColumnTransformer(remainder='passthrough',\n",
              "                                                    sparse_threshold=0,\n",
              "                                                    transformers=[('t_scaler_robust',...\n",
              "                                                                    'beat_offset']),\n",
              "                                                                  ('t_one_hot',\n",
              "                                                                   OneHotEncoder(drop='first'),\n",
              "                                                                   ['note']),\n",
              "                                                                  ('t_one_hot_styles',\n",
              "                                                                   OneHotEncoder(categories=[['funk/groove1',\n",
              "                                                                                              'soul/groove3',\n",
              "                                                                                              'soul/groove4',\n",
              "                                                                                              'hiphop/groove6',\n",
              "                                                                                              'rock/groove8']],\n",
              "                                                                                 drop='first'),\n",
              "                                                                   ['style']),\n",
              "                                                                  ('t_one_hot_beat_pos',\n",
              "                                                                   OneHotEncoder(categories=[[1,\n",
              "                                                                                              2,\n",
              "                                                                                              3,\n",
              "                                                                                              4,\n",
              "                                                                                              5,\n",
              "                                                                                              6,\n",
              "                                                                                              7,\n",
              "                                                                                              8,\n",
              "                                                                                              9,\n",
              "                                                                                              10,\n",
              "                                                                                              11,\n",
              "                                                                                              12,\n",
              "                                                                                              13,\n",
              "                                                                                              14,\n",
              "                                                                                              15,\n",
              "                                                                                              16]],\n",
              "                                                                                 drop='first'),\n",
              "                                                                   ['bar_beat_number'])])]},\n",
              "             verbose=1)</pre></div></div></div><div class=\"sk-parallel\"><div class=\"sk-parallel-item\"><div class=\"sk-item\"><div class=\"sk-serial\"><div class=\"sk-item\"><div class=\"sk-serial\"><div class=\"sk-item\"><div class=\"sk-estimator sk-toggleable\"><input class=\"sk-toggleable__control sk-hidden--visually\" id=\"21cc7131-8157-42f1-b3dc-bf37385a2e19\" type=\"checkbox\" ><label class=\"sk-toggleable__label\" for=\"21cc7131-8157-42f1-b3dc-bf37385a2e19\">None</label><div class=\"sk-toggleable__content\"><pre>None</pre></div></div></div><div class=\"sk-item\"><div class=\"sk-estimator sk-toggleable\"><input class=\"sk-toggleable__control sk-hidden--visually\" id=\"198876fd-c738-4546-a929-63851dd1152e\" type=\"checkbox\" ><label class=\"sk-toggleable__label\" for=\"198876fd-c738-4546-a929-63851dd1152e\">None</label><div class=\"sk-toggleable__content\"><pre>None</pre></div></div></div><div class=\"sk-item\"><div class=\"sk-estimator sk-toggleable\"><input class=\"sk-toggleable__control sk-hidden--visually\" id=\"403921aa-724b-473e-925c-a1d7dc90d55f\" type=\"checkbox\" ><label class=\"sk-toggleable__label\" for=\"403921aa-724b-473e-925c-a1d7dc90d55f\">KNeighborsClassifier</label><div class=\"sk-toggleable__content\"><pre>KNeighborsClassifier()</pre></div></div></div></div></div></div></div></div></div></div></div></div>"
            ],
            "text/plain": [
              "GridSearchCV(cv=StratifiedKFold(n_splits=10, random_state=None, shuffle=False),\n",
              "             estimator=Pipeline(steps=[('prep', None), ('pca', None),\n",
              "                                       ('knn', KNeighborsClassifier())]),\n",
              "             param_grid={'knn__n_neighbors': array([3, 4]), 'knn__p': [2],\n",
              "                         'knn__weights': ['distance'],\n",
              "                         'prep': [ColumnTransformer(remainder='passthrough',\n",
              "                                                    sparse_threshold=0,\n",
              "                                                    transformers=[('t_scaler_robust',...\n",
              "                                                                    'beat_offset']),\n",
              "                                                                  ('t_one_hot',\n",
              "                                                                   OneHotEncoder(drop='first'),\n",
              "                                                                   ['note']),\n",
              "                                                                  ('t_one_hot_styles',\n",
              "                                                                   OneHotEncoder(categories=[['funk/groove1',\n",
              "                                                                                              'soul/groove3',\n",
              "                                                                                              'soul/groove4',\n",
              "                                                                                              'hiphop/groove6',\n",
              "                                                                                              'rock/groove8']],\n",
              "                                                                                 drop='first'),\n",
              "                                                                   ['style']),\n",
              "                                                                  ('t_one_hot_beat_pos',\n",
              "                                                                   OneHotEncoder(categories=[[1,\n",
              "                                                                                              2,\n",
              "                                                                                              3,\n",
              "                                                                                              4,\n",
              "                                                                                              5,\n",
              "                                                                                              6,\n",
              "                                                                                              7,\n",
              "                                                                                              8,\n",
              "                                                                                              9,\n",
              "                                                                                              10,\n",
              "                                                                                              11,\n",
              "                                                                                              12,\n",
              "                                                                                              13,\n",
              "                                                                                              14,\n",
              "                                                                                              15,\n",
              "                                                                                              16]],\n",
              "                                                                                 drop='first'),\n",
              "                                                                   ['bar_beat_number'])])]},\n",
              "             verbose=1)"
            ]
          },
          "metadata": {
            "tags": []
          },
          "execution_count": 47
        },
        {
          "output_type": "stream",
          "text": [
            "\n",
            "___BEST ESTIMATOR\n",
            "\n"
          ],
          "name": "stdout"
        },
        {
          "output_type": "display_data",
          "data": {
            "text/html": [
              "<style>div.sk-top-container {color: black;background-color: white;}div.sk-toggleable {background-color: white;}label.sk-toggleable__label {cursor: pointer;display: block;width: 100%;margin-bottom: 0;padding: 0.2em 0.3em;box-sizing: border-box;text-align: center;}div.sk-toggleable__content {max-height: 0;max-width: 0;overflow: hidden;text-align: left;background-color: #f0f8ff;}div.sk-toggleable__content pre {margin: 0.2em;color: black;border-radius: 0.25em;background-color: #f0f8ff;}input.sk-toggleable__control:checked~div.sk-toggleable__content {max-height: 200px;max-width: 100%;overflow: auto;}div.sk-estimator input.sk-toggleable__control:checked~label.sk-toggleable__label {background-color: #d4ebff;}div.sk-label input.sk-toggleable__control:checked~label.sk-toggleable__label {background-color: #d4ebff;}input.sk-hidden--visually {border: 0;clip: rect(1px 1px 1px 1px);clip: rect(1px, 1px, 1px, 1px);height: 1px;margin: -1px;overflow: hidden;padding: 0;position: absolute;width: 1px;}div.sk-estimator {font-family: monospace;background-color: #f0f8ff;margin: 0.25em 0.25em;border: 1px dotted black;border-radius: 0.25em;box-sizing: border-box;}div.sk-estimator:hover {background-color: #d4ebff;}div.sk-parallel-item::after {content: \"\";width: 100%;border-bottom: 1px solid gray;flex-grow: 1;}div.sk-label:hover label.sk-toggleable__label {background-color: #d4ebff;}div.sk-serial::before {content: \"\";position: absolute;border-left: 1px solid gray;box-sizing: border-box;top: 2em;bottom: 0;left: 50%;}div.sk-serial {display: flex;flex-direction: column;align-items: center;background-color: white;}div.sk-item {z-index: 1;}div.sk-parallel {display: flex;align-items: stretch;justify-content: center;background-color: white;}div.sk-parallel-item {display: flex;flex-direction: column;position: relative;background-color: white;}div.sk-parallel-item:first-child::after {align-self: flex-end;width: 50%;}div.sk-parallel-item:last-child::after {align-self: flex-start;width: 50%;}div.sk-parallel-item:only-child::after {width: 0;}div.sk-dashed-wrapped {border: 1px dashed gray;margin: 0.2em;box-sizing: border-box;padding-bottom: 0.1em;background-color: white;position: relative;}div.sk-label label {font-family: monospace;font-weight: bold;background-color: white;display: inline-block;line-height: 1.2em;}div.sk-label-container {position: relative;z-index: 2;text-align: center;}div.sk-container {display: inline-block;position: relative;}</style><div class=\"sk-top-container\"><div class=\"sk-container\"><div class=\"sk-item sk-dashed-wrapped\"><div class=\"sk-label-container\"><div class=\"sk-label sk-toggleable\"><input class=\"sk-toggleable__control sk-hidden--visually\" id=\"45206ed1-a003-4c4f-972a-22c6d45e6dca\" type=\"checkbox\" ><label class=\"sk-toggleable__label\" for=\"45206ed1-a003-4c4f-972a-22c6d45e6dca\">Pipeline</label><div class=\"sk-toggleable__content\"><pre>Pipeline(steps=[('prep',\n",
              "                 ColumnTransformer(remainder='passthrough', sparse_threshold=0,\n",
              "                                   transformers=[('t_scaler_mm_1',\n",
              "                                                  MinMaxScaler(),\n",
              "                                                  ['velocity']),\n",
              "                                                 ('t_scaler_mm_2',\n",
              "                                                  MinMaxScaler(feature_range=(-0.5,\n",
              "                                                                              0.5)),\n",
              "                                                  ['beat_offset']),\n",
              "                                                 ('t_one_hot',\n",
              "                                                  OneHotEncoder(drop='first'),\n",
              "                                                  ['note']),\n",
              "                                                 ('t_one_hot_styles',\n",
              "                                                  OneHotEncoder(categories=[['funk/groove1',\n",
              "                                                                             'soul/groove3',\n",
              "                                                                             'soul/groove4',\n",
              "                                                                             'hiphop/groove6',\n",
              "                                                                             'rock/groove8']],\n",
              "                                                                drop='first'),\n",
              "                                                  ['style']),\n",
              "                                                 ('t_one_hot_beat_pos',\n",
              "                                                  OneHotEncoder(categories=[[1,\n",
              "                                                                             2,\n",
              "                                                                             3,\n",
              "                                                                             4,\n",
              "                                                                             5,\n",
              "                                                                             6,\n",
              "                                                                             7,\n",
              "                                                                             8,\n",
              "                                                                             9,\n",
              "                                                                             10,\n",
              "                                                                             11,\n",
              "                                                                             12,\n",
              "                                                                             13,\n",
              "                                                                             14,\n",
              "                                                                             15,\n",
              "                                                                             16]],\n",
              "                                                                drop='first'),\n",
              "                                                  ['bar_beat_number'])])),\n",
              "                ('pca', None),\n",
              "                ('knn',\n",
              "                 KNeighborsClassifier(n_neighbors=4, weights='distance'))])</pre></div></div></div><div class=\"sk-serial\"><div class=\"sk-item sk-dashed-wrapped\"><div class=\"sk-label-container\"><div class=\"sk-label sk-toggleable\"><input class=\"sk-toggleable__control sk-hidden--visually\" id=\"3cc6bcfc-5420-4373-b104-b06a70c1f53e\" type=\"checkbox\" ><label class=\"sk-toggleable__label\" for=\"3cc6bcfc-5420-4373-b104-b06a70c1f53e\">prep: ColumnTransformer</label><div class=\"sk-toggleable__content\"><pre>ColumnTransformer(remainder='passthrough', sparse_threshold=0,\n",
              "                  transformers=[('t_scaler_mm_1', MinMaxScaler(), ['velocity']),\n",
              "                                ('t_scaler_mm_2',\n",
              "                                 MinMaxScaler(feature_range=(-0.5, 0.5)),\n",
              "                                 ['beat_offset']),\n",
              "                                ('t_one_hot', OneHotEncoder(drop='first'),\n",
              "                                 ['note']),\n",
              "                                ('t_one_hot_styles',\n",
              "                                 OneHotEncoder(categories=[['funk/groove1',\n",
              "                                                            'soul/groove3',\n",
              "                                                            'soul/groove4',\n",
              "                                                            'hiphop/groove6',\n",
              "                                                            'rock/groove8']],\n",
              "                                               drop='first'),\n",
              "                                 ['style']),\n",
              "                                ('t_one_hot_beat_pos',\n",
              "                                 OneHotEncoder(categories=[[1, 2, 3, 4, 5, 6, 7,\n",
              "                                                            8, 9, 10, 11, 12,\n",
              "                                                            13, 14, 15, 16]],\n",
              "                                               drop='first'),\n",
              "                                 ['bar_beat_number'])])</pre></div></div></div><div class=\"sk-parallel\"><div class=\"sk-parallel-item\"><div class=\"sk-item\"><div class=\"sk-label-container\"><div class=\"sk-label sk-toggleable\"><input class=\"sk-toggleable__control sk-hidden--visually\" id=\"8386d8cf-2b1f-48c1-a616-b6ff5786bd2a\" type=\"checkbox\" ><label class=\"sk-toggleable__label\" for=\"8386d8cf-2b1f-48c1-a616-b6ff5786bd2a\">t_scaler_mm_1</label><div class=\"sk-toggleable__content\"><pre>['velocity']</pre></div></div></div><div class=\"sk-serial\"><div class=\"sk-item\"><div class=\"sk-estimator sk-toggleable\"><input class=\"sk-toggleable__control sk-hidden--visually\" id=\"505c869c-d4fa-4482-befc-388483e4031b\" type=\"checkbox\" ><label class=\"sk-toggleable__label\" for=\"505c869c-d4fa-4482-befc-388483e4031b\">MinMaxScaler</label><div class=\"sk-toggleable__content\"><pre>MinMaxScaler()</pre></div></div></div></div></div></div><div class=\"sk-parallel-item\"><div class=\"sk-item\"><div class=\"sk-label-container\"><div class=\"sk-label sk-toggleable\"><input class=\"sk-toggleable__control sk-hidden--visually\" id=\"d4b90844-d1d2-4000-9179-292ebe4ec18f\" type=\"checkbox\" ><label class=\"sk-toggleable__label\" for=\"d4b90844-d1d2-4000-9179-292ebe4ec18f\">t_scaler_mm_2</label><div class=\"sk-toggleable__content\"><pre>['beat_offset']</pre></div></div></div><div class=\"sk-serial\"><div class=\"sk-item\"><div class=\"sk-estimator sk-toggleable\"><input class=\"sk-toggleable__control sk-hidden--visually\" id=\"67446e4a-8b1e-48c5-b467-42b59c7a4881\" type=\"checkbox\" ><label class=\"sk-toggleable__label\" for=\"67446e4a-8b1e-48c5-b467-42b59c7a4881\">MinMaxScaler</label><div class=\"sk-toggleable__content\"><pre>MinMaxScaler(feature_range=(-0.5, 0.5))</pre></div></div></div></div></div></div><div class=\"sk-parallel-item\"><div class=\"sk-item\"><div class=\"sk-label-container\"><div class=\"sk-label sk-toggleable\"><input class=\"sk-toggleable__control sk-hidden--visually\" id=\"8d7b3de4-a776-4272-be6e-b7434f4af971\" type=\"checkbox\" ><label class=\"sk-toggleable__label\" for=\"8d7b3de4-a776-4272-be6e-b7434f4af971\">t_one_hot</label><div class=\"sk-toggleable__content\"><pre>['note']</pre></div></div></div><div class=\"sk-serial\"><div class=\"sk-item\"><div class=\"sk-estimator sk-toggleable\"><input class=\"sk-toggleable__control sk-hidden--visually\" id=\"a69593a3-4081-40f2-aa1e-e0b6b48b1dba\" type=\"checkbox\" ><label class=\"sk-toggleable__label\" for=\"a69593a3-4081-40f2-aa1e-e0b6b48b1dba\">OneHotEncoder</label><div class=\"sk-toggleable__content\"><pre>OneHotEncoder(drop='first')</pre></div></div></div></div></div></div><div class=\"sk-parallel-item\"><div class=\"sk-item\"><div class=\"sk-label-container\"><div class=\"sk-label sk-toggleable\"><input class=\"sk-toggleable__control sk-hidden--visually\" id=\"f5e1ed1a-5dcd-4f03-9023-0ba451ec1a77\" type=\"checkbox\" ><label class=\"sk-toggleable__label\" for=\"f5e1ed1a-5dcd-4f03-9023-0ba451ec1a77\">t_one_hot_styles</label><div class=\"sk-toggleable__content\"><pre>['style']</pre></div></div></div><div class=\"sk-serial\"><div class=\"sk-item\"><div class=\"sk-estimator sk-toggleable\"><input class=\"sk-toggleable__control sk-hidden--visually\" id=\"eea17872-b5ba-4906-a9df-64af6ff7de6e\" type=\"checkbox\" ><label class=\"sk-toggleable__label\" for=\"eea17872-b5ba-4906-a9df-64af6ff7de6e\">OneHotEncoder</label><div class=\"sk-toggleable__content\"><pre>OneHotEncoder(categories=[['funk/groove1', 'soul/groove3', 'soul/groove4',\n",
              "                           'hiphop/groove6', 'rock/groove8']],\n",
              "              drop='first')</pre></div></div></div></div></div></div><div class=\"sk-parallel-item\"><div class=\"sk-item\"><div class=\"sk-label-container\"><div class=\"sk-label sk-toggleable\"><input class=\"sk-toggleable__control sk-hidden--visually\" id=\"9140be58-daa1-44f6-b9eb-e068b5518fda\" type=\"checkbox\" ><label class=\"sk-toggleable__label\" for=\"9140be58-daa1-44f6-b9eb-e068b5518fda\">t_one_hot_beat_pos</label><div class=\"sk-toggleable__content\"><pre>['bar_beat_number']</pre></div></div></div><div class=\"sk-serial\"><div class=\"sk-item\"><div class=\"sk-estimator sk-toggleable\"><input class=\"sk-toggleable__control sk-hidden--visually\" id=\"673b0581-9fe9-4925-ae33-c6a752917d53\" type=\"checkbox\" ><label class=\"sk-toggleable__label\" for=\"673b0581-9fe9-4925-ae33-c6a752917d53\">OneHotEncoder</label><div class=\"sk-toggleable__content\"><pre>OneHotEncoder(categories=[[1, 2, 3, 4, 5, 6, 7, 8, 9, 10, 11, 12, 13, 14, 15,\n",
              "                           16]],\n",
              "              drop='first')</pre></div></div></div></div></div></div><div class=\"sk-parallel-item\"><div class=\"sk-item\"><div class=\"sk-label-container\"><div class=\"sk-label sk-toggleable\"><input class=\"sk-toggleable__control sk-hidden--visually\" id=\"292e441f-fef8-4373-a270-ff318992513e\" type=\"checkbox\" ><label class=\"sk-toggleable__label\" for=\"292e441f-fef8-4373-a270-ff318992513e\">remainder</label><div class=\"sk-toggleable__content\"><pre>[['note', 'velocity', 'beat_offset', 'bar_beat_number', 'style']]</pre></div></div></div><div class=\"sk-serial\"><div class=\"sk-item\"><div class=\"sk-estimator sk-toggleable\"><input class=\"sk-toggleable__control sk-hidden--visually\" id=\"9319161a-ccbf-4810-a360-ba1ce7c88523\" type=\"checkbox\" ><label class=\"sk-toggleable__label\" for=\"9319161a-ccbf-4810-a360-ba1ce7c88523\">passthrough</label><div class=\"sk-toggleable__content\"><pre>passthrough</pre></div></div></div></div></div></div></div></div><div class=\"sk-item\"><div class=\"sk-estimator sk-toggleable\"><input class=\"sk-toggleable__control sk-hidden--visually\" id=\"9aa21caf-6bb7-456f-b9c9-2003669b0f46\" type=\"checkbox\" ><label class=\"sk-toggleable__label\" for=\"9aa21caf-6bb7-456f-b9c9-2003669b0f46\">None</label><div class=\"sk-toggleable__content\"><pre>None</pre></div></div></div><div class=\"sk-item\"><div class=\"sk-estimator sk-toggleable\"><input class=\"sk-toggleable__control sk-hidden--visually\" id=\"ad6f04bf-ca9a-4c56-bf5b-0cae1598c8ae\" type=\"checkbox\" ><label class=\"sk-toggleable__label\" for=\"ad6f04bf-ca9a-4c56-bf5b-0cae1598c8ae\">KNeighborsClassifier</label><div class=\"sk-toggleable__content\"><pre>KNeighborsClassifier(n_neighbors=4, weights='distance')</pre></div></div></div></div></div></div></div>"
            ],
            "text/plain": [
              "Pipeline(steps=[('prep',\n",
              "                 ColumnTransformer(remainder='passthrough', sparse_threshold=0,\n",
              "                                   transformers=[('t_scaler_mm_1',\n",
              "                                                  MinMaxScaler(),\n",
              "                                                  ['velocity']),\n",
              "                                                 ('t_scaler_mm_2',\n",
              "                                                  MinMaxScaler(feature_range=(-0.5,\n",
              "                                                                              0.5)),\n",
              "                                                  ['beat_offset']),\n",
              "                                                 ('t_one_hot',\n",
              "                                                  OneHotEncoder(drop='first'),\n",
              "                                                  ['note']),\n",
              "                                                 ('t_one_hot_styles',\n",
              "                                                  OneHotEncoder(categories=[['funk/groove1',\n",
              "                                                                             'soul/groove3',\n",
              "                                                                             'soul/groove4',\n",
              "                                                                             'hiphop/groove6',\n",
              "                                                                             'rock/groove8']],\n",
              "                                                                drop='first'),\n",
              "                                                  ['style']),\n",
              "                                                 ('t_one_hot_beat_pos',\n",
              "                                                  OneHotEncoder(categories=[[1,\n",
              "                                                                             2,\n",
              "                                                                             3,\n",
              "                                                                             4,\n",
              "                                                                             5,\n",
              "                                                                             6,\n",
              "                                                                             7,\n",
              "                                                                             8,\n",
              "                                                                             9,\n",
              "                                                                             10,\n",
              "                                                                             11,\n",
              "                                                                             12,\n",
              "                                                                             13,\n",
              "                                                                             14,\n",
              "                                                                             15,\n",
              "                                                                             16]],\n",
              "                                                                drop='first'),\n",
              "                                                  ['bar_beat_number'])])),\n",
              "                ('pca', None),\n",
              "                ('knn',\n",
              "                 KNeighborsClassifier(n_neighbors=4, weights='distance'))])"
            ]
          },
          "metadata": {
            "tags": []
          }
        },
        {
          "output_type": "stream",
          "text": [
            "\n",
            "___BEST SCORE\n",
            "\n"
          ],
          "name": "stdout"
        },
        {
          "output_type": "display_data",
          "data": {
            "text/plain": [
              "0.7611613717652009"
            ]
          },
          "metadata": {
            "tags": []
          }
        },
        {
          "output_type": "stream",
          "text": [
            "\n",
            "___BEST PARAMS\n",
            "\n"
          ],
          "name": "stdout"
        },
        {
          "output_type": "display_data",
          "data": {
            "text/plain": [
              "{'knn__n_neighbors': 4,\n",
              " 'knn__p': 2,\n",
              " 'knn__weights': 'distance',\n",
              " 'prep': ColumnTransformer(remainder='passthrough', sparse_threshold=0,\n",
              "                   transformers=[('t_scaler_mm_1', MinMaxScaler(), ['velocity']),\n",
              "                                 ('t_scaler_mm_2',\n",
              "                                  MinMaxScaler(feature_range=(-0.5, 0.5)),\n",
              "                                  ['beat_offset']),\n",
              "                                 ('t_one_hot', OneHotEncoder(drop='first'),\n",
              "                                  ['note']),\n",
              "                                 ('t_one_hot_styles',\n",
              "                                  OneHotEncoder(categories=[['funk/groove1',\n",
              "                                                             'soul/groove3',\n",
              "                                                             'soul/groove4',\n",
              "                                                             'hiphop/groove6',\n",
              "                                                             'rock/groove8']],\n",
              "                                                drop='first'),\n",
              "                                  ['style']),\n",
              "                                 ('t_one_hot_beat_pos',\n",
              "                                  OneHotEncoder(categories=[[1, 2, 3, 4, 5, 6, 7,\n",
              "                                                             8, 9, 10, 11, 12,\n",
              "                                                             13, 14, 15, 16]],\n",
              "                                                drop='first'),\n",
              "                                  ['bar_beat_number'])])}"
            ]
          },
          "metadata": {
            "tags": []
          }
        }
      ]
    },
    {
      "cell_type": "markdown",
      "metadata": {
        "id": "V4xTPSD3x82I"
      },
      "source": [
        "## Retrain the model\r\n",
        "Notes that GridSearchCV does this by default with 'refit=True', but for our purposes here, it's useful to be able to retrain the best estimator on some different data (e.g. different song style) to see how it copes on a style by style basis.\r\n",
        "\r\n",
        "Specific steps as follows ...\r\n",
        "\r\n",
        "```\r\n",
        "best_clf = grid_search.best_estimator_\r\n",
        "best_clf.fit(X_train, y_train)\r\n",
        "prediction = best_clf.predict(X_new)\r\n",
        "```\r\n"
      ]
    },
    {
      "cell_type": "code",
      "metadata": {
        "colab": {
          "base_uri": "https://localhost:8080/",
          "height": 196
        },
        "id": "52uO5UHYEEPF",
        "outputId": "99d60863-15db-4b64-ef05-5a0b6af3b1b8"
      },
      "source": [
        "# extract best estimator\r\n",
        "best_clf = grid_search.best_estimator_\r\n",
        "best_clf"
      ],
      "execution_count": 89,
      "outputs": [
        {
          "output_type": "execute_result",
          "data": {
            "text/html": [
              "<style>div.sk-top-container {color: black;background-color: white;}div.sk-toggleable {background-color: white;}label.sk-toggleable__label {cursor: pointer;display: block;width: 100%;margin-bottom: 0;padding: 0.2em 0.3em;box-sizing: border-box;text-align: center;}div.sk-toggleable__content {max-height: 0;max-width: 0;overflow: hidden;text-align: left;background-color: #f0f8ff;}div.sk-toggleable__content pre {margin: 0.2em;color: black;border-radius: 0.25em;background-color: #f0f8ff;}input.sk-toggleable__control:checked~div.sk-toggleable__content {max-height: 200px;max-width: 100%;overflow: auto;}div.sk-estimator input.sk-toggleable__control:checked~label.sk-toggleable__label {background-color: #d4ebff;}div.sk-label input.sk-toggleable__control:checked~label.sk-toggleable__label {background-color: #d4ebff;}input.sk-hidden--visually {border: 0;clip: rect(1px 1px 1px 1px);clip: rect(1px, 1px, 1px, 1px);height: 1px;margin: -1px;overflow: hidden;padding: 0;position: absolute;width: 1px;}div.sk-estimator {font-family: monospace;background-color: #f0f8ff;margin: 0.25em 0.25em;border: 1px dotted black;border-radius: 0.25em;box-sizing: border-box;}div.sk-estimator:hover {background-color: #d4ebff;}div.sk-parallel-item::after {content: \"\";width: 100%;border-bottom: 1px solid gray;flex-grow: 1;}div.sk-label:hover label.sk-toggleable__label {background-color: #d4ebff;}div.sk-serial::before {content: \"\";position: absolute;border-left: 1px solid gray;box-sizing: border-box;top: 2em;bottom: 0;left: 50%;}div.sk-serial {display: flex;flex-direction: column;align-items: center;background-color: white;}div.sk-item {z-index: 1;}div.sk-parallel {display: flex;align-items: stretch;justify-content: center;background-color: white;}div.sk-parallel-item {display: flex;flex-direction: column;position: relative;background-color: white;}div.sk-parallel-item:first-child::after {align-self: flex-end;width: 50%;}div.sk-parallel-item:last-child::after {align-self: flex-start;width: 50%;}div.sk-parallel-item:only-child::after {width: 0;}div.sk-dashed-wrapped {border: 1px dashed gray;margin: 0.2em;box-sizing: border-box;padding-bottom: 0.1em;background-color: white;position: relative;}div.sk-label label {font-family: monospace;font-weight: bold;background-color: white;display: inline-block;line-height: 1.2em;}div.sk-label-container {position: relative;z-index: 2;text-align: center;}div.sk-container {display: inline-block;position: relative;}</style><div class=\"sk-top-container\"><div class=\"sk-container\"><div class=\"sk-item sk-dashed-wrapped\"><div class=\"sk-label-container\"><div class=\"sk-label sk-toggleable\"><input class=\"sk-toggleable__control sk-hidden--visually\" id=\"d731d89c-9eaf-4fd7-97b2-a3cd02852c9d\" type=\"checkbox\" ><label class=\"sk-toggleable__label\" for=\"d731d89c-9eaf-4fd7-97b2-a3cd02852c9d\">Pipeline</label><div class=\"sk-toggleable__content\"><pre>Pipeline(steps=[('prep',\n",
              "                 ColumnTransformer(remainder='passthrough', sparse_threshold=0,\n",
              "                                   transformers=[('t_scaler_mm_1',\n",
              "                                                  MinMaxScaler(),\n",
              "                                                  ['velocity']),\n",
              "                                                 ('t_scaler_mm_2',\n",
              "                                                  MinMaxScaler(feature_range=(-0.5,\n",
              "                                                                              0.5)),\n",
              "                                                  ['beat_offset']),\n",
              "                                                 ('t_one_hot',\n",
              "                                                  OneHotEncoder(drop='first'),\n",
              "                                                  ['note']),\n",
              "                                                 ('t_one_hot_styles',\n",
              "                                                  OneHotEncoder(categories=[['funk/groove1',\n",
              "                                                                             'soul/groove3',\n",
              "                                                                             'soul/groove4',\n",
              "                                                                             'hiphop/groove6',\n",
              "                                                                             'rock/groove8']],\n",
              "                                                                drop='first'),\n",
              "                                                  ['style']),\n",
              "                                                 ('t_one_hot_beat_pos',\n",
              "                                                  OneHotEncoder(categories=[[1,\n",
              "                                                                             2,\n",
              "                                                                             3,\n",
              "                                                                             4,\n",
              "                                                                             5,\n",
              "                                                                             6,\n",
              "                                                                             7,\n",
              "                                                                             8,\n",
              "                                                                             9,\n",
              "                                                                             10,\n",
              "                                                                             11,\n",
              "                                                                             12,\n",
              "                                                                             13,\n",
              "                                                                             14,\n",
              "                                                                             15,\n",
              "                                                                             16]],\n",
              "                                                                drop='first'),\n",
              "                                                  ['bar_beat_number'])])),\n",
              "                ('pca', None),\n",
              "                ('knn',\n",
              "                 KNeighborsClassifier(n_neighbors=4, weights='distance'))])</pre></div></div></div><div class=\"sk-serial\"><div class=\"sk-item sk-dashed-wrapped\"><div class=\"sk-label-container\"><div class=\"sk-label sk-toggleable\"><input class=\"sk-toggleable__control sk-hidden--visually\" id=\"800b370d-a212-4cc1-a278-6d26270c299d\" type=\"checkbox\" ><label class=\"sk-toggleable__label\" for=\"800b370d-a212-4cc1-a278-6d26270c299d\">prep: ColumnTransformer</label><div class=\"sk-toggleable__content\"><pre>ColumnTransformer(remainder='passthrough', sparse_threshold=0,\n",
              "                  transformers=[('t_scaler_mm_1', MinMaxScaler(), ['velocity']),\n",
              "                                ('t_scaler_mm_2',\n",
              "                                 MinMaxScaler(feature_range=(-0.5, 0.5)),\n",
              "                                 ['beat_offset']),\n",
              "                                ('t_one_hot', OneHotEncoder(drop='first'),\n",
              "                                 ['note']),\n",
              "                                ('t_one_hot_styles',\n",
              "                                 OneHotEncoder(categories=[['funk/groove1',\n",
              "                                                            'soul/groove3',\n",
              "                                                            'soul/groove4',\n",
              "                                                            'hiphop/groove6',\n",
              "                                                            'rock/groove8']],\n",
              "                                               drop='first'),\n",
              "                                 ['style']),\n",
              "                                ('t_one_hot_beat_pos',\n",
              "                                 OneHotEncoder(categories=[[1, 2, 3, 4, 5, 6, 7,\n",
              "                                                            8, 9, 10, 11, 12,\n",
              "                                                            13, 14, 15, 16]],\n",
              "                                               drop='first'),\n",
              "                                 ['bar_beat_number'])])</pre></div></div></div><div class=\"sk-parallel\"><div class=\"sk-parallel-item\"><div class=\"sk-item\"><div class=\"sk-label-container\"><div class=\"sk-label sk-toggleable\"><input class=\"sk-toggleable__control sk-hidden--visually\" id=\"6a094345-73c3-4ec7-ac31-149ee16f43df\" type=\"checkbox\" ><label class=\"sk-toggleable__label\" for=\"6a094345-73c3-4ec7-ac31-149ee16f43df\">t_scaler_mm_1</label><div class=\"sk-toggleable__content\"><pre>['velocity']</pre></div></div></div><div class=\"sk-serial\"><div class=\"sk-item\"><div class=\"sk-estimator sk-toggleable\"><input class=\"sk-toggleable__control sk-hidden--visually\" id=\"6c0b6df5-ea54-44af-9f68-1ac41ff2c990\" type=\"checkbox\" ><label class=\"sk-toggleable__label\" for=\"6c0b6df5-ea54-44af-9f68-1ac41ff2c990\">MinMaxScaler</label><div class=\"sk-toggleable__content\"><pre>MinMaxScaler()</pre></div></div></div></div></div></div><div class=\"sk-parallel-item\"><div class=\"sk-item\"><div class=\"sk-label-container\"><div class=\"sk-label sk-toggleable\"><input class=\"sk-toggleable__control sk-hidden--visually\" id=\"a6346593-ccb4-4f46-8f68-851c442607c6\" type=\"checkbox\" ><label class=\"sk-toggleable__label\" for=\"a6346593-ccb4-4f46-8f68-851c442607c6\">t_scaler_mm_2</label><div class=\"sk-toggleable__content\"><pre>['beat_offset']</pre></div></div></div><div class=\"sk-serial\"><div class=\"sk-item\"><div class=\"sk-estimator sk-toggleable\"><input class=\"sk-toggleable__control sk-hidden--visually\" id=\"7b3720e4-dd82-4812-b575-aa623268c234\" type=\"checkbox\" ><label class=\"sk-toggleable__label\" for=\"7b3720e4-dd82-4812-b575-aa623268c234\">MinMaxScaler</label><div class=\"sk-toggleable__content\"><pre>MinMaxScaler(feature_range=(-0.5, 0.5))</pre></div></div></div></div></div></div><div class=\"sk-parallel-item\"><div class=\"sk-item\"><div class=\"sk-label-container\"><div class=\"sk-label sk-toggleable\"><input class=\"sk-toggleable__control sk-hidden--visually\" id=\"c8dbc287-8e4b-47fb-bfc4-b03edc631c72\" type=\"checkbox\" ><label class=\"sk-toggleable__label\" for=\"c8dbc287-8e4b-47fb-bfc4-b03edc631c72\">t_one_hot</label><div class=\"sk-toggleable__content\"><pre>['note']</pre></div></div></div><div class=\"sk-serial\"><div class=\"sk-item\"><div class=\"sk-estimator sk-toggleable\"><input class=\"sk-toggleable__control sk-hidden--visually\" id=\"5c963ba5-839a-4aa8-a5e1-540086039879\" type=\"checkbox\" ><label class=\"sk-toggleable__label\" for=\"5c963ba5-839a-4aa8-a5e1-540086039879\">OneHotEncoder</label><div class=\"sk-toggleable__content\"><pre>OneHotEncoder(drop='first')</pre></div></div></div></div></div></div><div class=\"sk-parallel-item\"><div class=\"sk-item\"><div class=\"sk-label-container\"><div class=\"sk-label sk-toggleable\"><input class=\"sk-toggleable__control sk-hidden--visually\" id=\"a50b7746-e6de-4701-a81e-5ec1efba3c78\" type=\"checkbox\" ><label class=\"sk-toggleable__label\" for=\"a50b7746-e6de-4701-a81e-5ec1efba3c78\">t_one_hot_styles</label><div class=\"sk-toggleable__content\"><pre>['style']</pre></div></div></div><div class=\"sk-serial\"><div class=\"sk-item\"><div class=\"sk-estimator sk-toggleable\"><input class=\"sk-toggleable__control sk-hidden--visually\" id=\"f8226ad7-b5b4-47f5-82cc-df0f4bef24e4\" type=\"checkbox\" ><label class=\"sk-toggleable__label\" for=\"f8226ad7-b5b4-47f5-82cc-df0f4bef24e4\">OneHotEncoder</label><div class=\"sk-toggleable__content\"><pre>OneHotEncoder(categories=[['funk/groove1', 'soul/groove3', 'soul/groove4',\n",
              "                           'hiphop/groove6', 'rock/groove8']],\n",
              "              drop='first')</pre></div></div></div></div></div></div><div class=\"sk-parallel-item\"><div class=\"sk-item\"><div class=\"sk-label-container\"><div class=\"sk-label sk-toggleable\"><input class=\"sk-toggleable__control sk-hidden--visually\" id=\"59a5c15f-6a8f-4b27-bcba-c451652ab382\" type=\"checkbox\" ><label class=\"sk-toggleable__label\" for=\"59a5c15f-6a8f-4b27-bcba-c451652ab382\">t_one_hot_beat_pos</label><div class=\"sk-toggleable__content\"><pre>['bar_beat_number']</pre></div></div></div><div class=\"sk-serial\"><div class=\"sk-item\"><div class=\"sk-estimator sk-toggleable\"><input class=\"sk-toggleable__control sk-hidden--visually\" id=\"da5cebfb-7ad2-4798-9cec-c9df20d5f29f\" type=\"checkbox\" ><label class=\"sk-toggleable__label\" for=\"da5cebfb-7ad2-4798-9cec-c9df20d5f29f\">OneHotEncoder</label><div class=\"sk-toggleable__content\"><pre>OneHotEncoder(categories=[[1, 2, 3, 4, 5, 6, 7, 8, 9, 10, 11, 12, 13, 14, 15,\n",
              "                           16]],\n",
              "              drop='first')</pre></div></div></div></div></div></div><div class=\"sk-parallel-item\"><div class=\"sk-item\"><div class=\"sk-label-container\"><div class=\"sk-label sk-toggleable\"><input class=\"sk-toggleable__control sk-hidden--visually\" id=\"fc03f7ae-4e83-4e77-8b32-865736a83164\" type=\"checkbox\" ><label class=\"sk-toggleable__label\" for=\"fc03f7ae-4e83-4e77-8b32-865736a83164\">remainder</label><div class=\"sk-toggleable__content\"><pre>[['note', 'velocity', 'beat_offset', 'bar_beat_number', 'style']]</pre></div></div></div><div class=\"sk-serial\"><div class=\"sk-item\"><div class=\"sk-estimator sk-toggleable\"><input class=\"sk-toggleable__control sk-hidden--visually\" id=\"bdac5d27-2edb-44d4-a077-06aabfc72b20\" type=\"checkbox\" ><label class=\"sk-toggleable__label\" for=\"bdac5d27-2edb-44d4-a077-06aabfc72b20\">passthrough</label><div class=\"sk-toggleable__content\"><pre>passthrough</pre></div></div></div></div></div></div></div></div><div class=\"sk-item\"><div class=\"sk-estimator sk-toggleable\"><input class=\"sk-toggleable__control sk-hidden--visually\" id=\"fe0175b2-2def-4d1b-9db5-1f3addacccb4\" type=\"checkbox\" ><label class=\"sk-toggleable__label\" for=\"fe0175b2-2def-4d1b-9db5-1f3addacccb4\">None</label><div class=\"sk-toggleable__content\"><pre>None</pre></div></div></div><div class=\"sk-item\"><div class=\"sk-estimator sk-toggleable\"><input class=\"sk-toggleable__control sk-hidden--visually\" id=\"58f9f8c8-ce02-41cd-9de1-e2c888edef06\" type=\"checkbox\" ><label class=\"sk-toggleable__label\" for=\"58f9f8c8-ce02-41cd-9de1-e2c888edef06\">KNeighborsClassifier</label><div class=\"sk-toggleable__content\"><pre>KNeighborsClassifier(n_neighbors=4, weights='distance')</pre></div></div></div></div></div></div></div>"
            ],
            "text/plain": [
              "Pipeline(steps=[('prep',\n",
              "                 ColumnTransformer(remainder='passthrough', sparse_threshold=0,\n",
              "                                   transformers=[('t_scaler_mm_1',\n",
              "                                                  MinMaxScaler(),\n",
              "                                                  ['velocity']),\n",
              "                                                 ('t_scaler_mm_2',\n",
              "                                                  MinMaxScaler(feature_range=(-0.5,\n",
              "                                                                              0.5)),\n",
              "                                                  ['beat_offset']),\n",
              "                                                 ('t_one_hot',\n",
              "                                                  OneHotEncoder(drop='first'),\n",
              "                                                  ['note']),\n",
              "                                                 ('t_one_hot_styles',\n",
              "                                                  OneHotEncoder(categories=[['funk/groove1',\n",
              "                                                                             'soul/groove3',\n",
              "                                                                             'soul/groove4',\n",
              "                                                                             'hiphop/groove6',\n",
              "                                                                             'rock/groove8']],\n",
              "                                                                drop='first'),\n",
              "                                                  ['style']),\n",
              "                                                 ('t_one_hot_beat_pos',\n",
              "                                                  OneHotEncoder(categories=[[1,\n",
              "                                                                             2,\n",
              "                                                                             3,\n",
              "                                                                             4,\n",
              "                                                                             5,\n",
              "                                                                             6,\n",
              "                                                                             7,\n",
              "                                                                             8,\n",
              "                                                                             9,\n",
              "                                                                             10,\n",
              "                                                                             11,\n",
              "                                                                             12,\n",
              "                                                                             13,\n",
              "                                                                             14,\n",
              "                                                                             15,\n",
              "                                                                             16]],\n",
              "                                                                drop='first'),\n",
              "                                                  ['bar_beat_number'])])),\n",
              "                ('pca', None),\n",
              "                ('knn',\n",
              "                 KNeighborsClassifier(n_neighbors=4, weights='distance'))])"
            ]
          },
          "metadata": {
            "tags": []
          },
          "execution_count": 89
        }
      ]
    },
    {
      "cell_type": "code",
      "metadata": {
        "id": "Aiejow6Fx7wt"
      },
      "source": [
        "# retrain if required\r\n",
        "best_clf.fit(X_train, y_train)"
      ],
      "execution_count": null,
      "outputs": []
    },
    {
      "cell_type": "markdown",
      "metadata": {
        "id": "Z8ZIYfMVJy_y"
      },
      "source": [
        "## Now run best model with the test data ...\n",
        "\n",
        "From the doc...\n",
        "* GridSearchCV.predict(X_test) - Call predict on the estimator with the best found parameters."
      ]
    },
    {
      "cell_type": "markdown",
      "metadata": {
        "id": "ih0XDj9L9eD4"
      },
      "source": [
        "NOTE: at this point, can use 'predict' to test with unseen data from *unseen styles* - useful test to if there's a fingerprint that transcends style."
      ]
    },
    {
      "cell_type": "code",
      "metadata": {
        "id": "KD5qVudCJ4Ro"
      },
      "source": [
        "# this is for regular train/ test split\r\n",
        "#y_true, y_pred =  y_test, best_clf.predict(X_test)\r\n",
        "\r\n",
        "# this is for train on one style, filter that style\r\n",
        "# from the whole dataset, use what's left for testing\r\n",
        "# (i.e. without doing any train/ test split)\r\n",
        "y_true, y_pred = y, best_clf.predict(X)\r\n"
      ],
      "execution_count": 97,
      "outputs": []
    },
    {
      "cell_type": "code",
      "metadata": {
        "colab": {
          "base_uri": "https://localhost:8080/",
          "height": 723
        },
        "id": "9TrnpA45VCru",
        "outputId": "c2c00acd-6aaa-4e15-a64f-8ff9ede86e70"
      },
      "source": [
        "show_selected_styles()\r\n",
        "knn_res_1 = display_classify_results(y_true=y_true, y_pred=y_pred, labels= np.unique(y_true))"
      ],
      "execution_count": 98,
      "outputs": [
        {
          "output_type": "stream",
          "text": [
            "\n",
            " ====>>>> Working with data for style(s)... \n",
            "   ['funk/groove1' 'soul/groove3' 'soul/groove4' 'rock/groove8']\n",
            "\n",
            "Accuracy score 0.35147392290249435\n",
            "\n",
            "Classification report...\n",
            "              precision    recall  f1-score   support\n",
            "\n",
            "    drummer1       0.31      0.41      0.35      1138\n",
            "    drummer5       0.39      0.41      0.40      1100\n",
            "    drummer7       0.25      0.22      0.24      1055\n",
            "    drummer8       0.47      0.36      0.41      1117\n",
            "\n",
            "    accuracy                           0.35      4410\n",
            "   macro avg       0.36      0.35      0.35      4410\n",
            "weighted avg       0.36      0.35      0.35      4410\n",
            "\n",
            "\n",
            "Confusion matrix...\n"
          ],
          "name": "stdout"
        },
        {
          "output_type": "display_data",
          "data": {
            "image/png": "[encoded data removed]",
            "text/plain": [
              "<Figure size 360x360 with 1 Axes>"
            ]
          },
          "metadata": {
            "tags": [],
            "needs_background": "light"
          }
        }
      ]
    },
    {
      "cell_type": "code",
      "metadata": {
        "colab": {
          "base_uri": "https://localhost:8080/",
          "height": 35
        },
        "id": "XL42P4TU8299",
        "outputId": "686944fb-5286-4f53-f213-337e74a06f07"
      },
      "source": [
        "results_dir = '{}LYIT/Dissertation/data/results/'.format(home_dir)\r\n",
        "results_dir\r\n",
        "\r\n",
        "# write results to csv\r\n",
        "knn_res_1.to_csv('{}/_Results_kNN_trainOneStyleTestOtherStyles.csv'.format(results_dir))"
      ],
      "execution_count": 95,
      "outputs": [
        {
          "output_type": "execute_result",
          "data": {
            "application/vnd.google.colaboratory.intrinsic+json": {
              "type": "string"
            },
            "text/plain": [
              "'/content/drive/My Drive/LYIT/Dissertation/data/results/'"
            ]
          },
          "metadata": {
            "tags": []
          },
          "execution_count": 95
        }
      ]
    },
    {
      "cell_type": "markdown",
      "metadata": {
        "id": "bU2tKob47OQw"
      },
      "source": [
        "## ROC_AUC plots\r\n",
        "\r\n",
        "See...\r\n",
        "* https://stackoverflow.com/a/42392458/9930522\r\n",
        "* https://github.com/reiinakano/scikit-plot\r\n"
      ]
    },
    {
      "cell_type": "code",
      "metadata": {
        "id": "gWh9KPjB62xg"
      },
      "source": [
        "!pip install scikit-plot\r\n"
      ],
      "execution_count": null,
      "outputs": []
    },
    {
      "cell_type": "code",
      "metadata": {
        "id": "Fwx3HURI3Moc"
      },
      "source": [
        "\r\n",
        "from sklearn.metrics import roc_auc_score\r\n",
        "import sklearn.metrics as metrics\r\n",
        "import scikitplot as skplt\r\n",
        "import matplotlib.pyplot as plt\r\n",
        "\r\n",
        "plt.rcParams[\"figure.figsize\"] = (10,10)\r\n",
        "\r\n",
        "# predicted probabilities generated by sklearn classifier\r\n",
        "y_probas = grid_search.predict_proba(X_test)\r\n",
        "_ = skplt.metrics.plot_roc_curve(y_true, y_probas)\r\n",
        "_ = plt.show()"
      ],
      "execution_count": null,
      "outputs": []
    },
    {
      "cell_type": "markdown",
      "metadata": {
        "id": "yNyWfy_i2wYy"
      },
      "source": [
        "## Other metrics...\r\n",
        "* https://scikit-learn.org/stable/modules/model_evaluation.html#the-scoring-parameter-defining-model-evaluation-rules "
      ]
    },
    {
      "cell_type": "markdown",
      "metadata": {
        "id": "D4W0ier8QjNJ"
      },
      "source": [
        "# GridSearch, kNN, manual loop"
      ]
    },
    {
      "cell_type": "code",
      "metadata": {
        "id": "x0Q_gnwUQnYt"
      },
      "source": [
        "# note: 'col_trans' is list of ColumnTransformers from earlier.\n",
        "col_trans = [ct_v0, ct_v1, ct_v2, ct_v3, ct_v4]\n",
        "#col_trans = [ct_v4]\n",
        "\n",
        "\n",
        "param_grid_v1 = dict(knn__n_neighbors=np.arange(1, 20), # knn neighbours\n",
        "      knn__weights=['uniform', 'distance'],\n",
        "      knn__p=[1, 2, 5] # knn distance functions to test\n",
        ")\n",
        "\n",
        "\n",
        "overall_best_score = 0\n",
        "overall_best_classifier = None\n",
        "\n",
        "skf = StratifiedKFold(n_splits=10)\n",
        "\n",
        "for idx, ct in enumerate(col_trans):\n",
        "  print(\"\\n_______________________________________________________\")\n",
        "  print(\"\\n>>>> PIPE #{}.. \\n\".format(idx))\n",
        "  # iterate through all pipes in grid_cts\n",
        "  my_pipe = Pipeline(steps=[('prep',ct), ('knn', KNeighborsClassifier())])\n",
        "  grid_search = GridSearchCV(my_pipe, param_grid=param_grid_v1, cv=skf, verbose=1)\n",
        "\n",
        "  print('\\n>>>>FITTING ....\\n')\n",
        "  _ = grid_search.fit(X_train,y_train)\n",
        "\n",
        "  print('\\n___BEST ESTIMATOR, pipe#{}\\n'.format(idx))\n",
        "  display(grid_search.best_estimator_)\n",
        "\n",
        "  print('\\n___BEST SCORE, pipe#{}\\n'.format(idx))\n",
        "  display(grid_search.best_score_)\n",
        "\n",
        "  print('\\n___BEST PARAMS, pipe#{}\\n'.format(idx))\n",
        "  display(grid_search.best_params_)\n",
        "\n",
        "  if grid_search.best_score_ > overall_best_score:\n",
        "    overall_best_score = grid_search.best_score_\n",
        "    overall_best_classifier = grid_search\n",
        "\n",
        "\n"
      ],
      "execution_count": null,
      "outputs": []
    },
    {
      "cell_type": "markdown",
      "metadata": {
        "id": "aWCUpAMlr_7p"
      },
      "source": [
        "## Quick sanity check ..."
      ]
    },
    {
      "cell_type": "code",
      "metadata": {
        "id": "x8A9OHnuSbUS"
      },
      "source": [
        "\n",
        "print('overall best_score: {}, classifier score:{}'.format(overall_best_score, overall_best_classifier.best_score_))\n",
        "print('overall best classifier...')\n",
        "overall_best_classifier\n",
        "overall_best_classifier.best_params_\n",
        "pd.DataFrame.from_dict(overall_best_classifier.cv_results_).head()"
      ],
      "execution_count": null,
      "outputs": []
    },
    {
      "cell_type": "markdown",
      "metadata": {
        "id": "XZ6c0-yv8_j3"
      },
      "source": [
        "## Chart results "
      ]
    },
    {
      "cell_type": "code",
      "metadata": {
        "id": "gTuxebfWobca"
      },
      "source": [
        "# this doesn't work with GridSearchCV results ...\n",
        "\n",
        "grid_results = pd.DataFrame(grid_search.cv_results_['params'])\n",
        "grid_results['test_score'] = grid_search.cv_results_['mean_test_score']\n",
        "\n",
        "grid_results['metric'] = grid_results['knn__p'].replace([1,2,5], [\"Manhattan\", \"Euclidean\", \"Minkowski\"])\n",
        "grid_results.head()"
      ],
      "execution_count": null,
      "outputs": []
    },
    {
      "cell_type": "code",
      "metadata": {
        "id": "eqqWZ03cuStm"
      },
      "source": [
        "\n",
        "import matplotlib.pyplot as plt\n",
        "\n",
        "%matplotlib inline \n",
        "%config InlineBackend.figure_format = 'retina'\n",
        "plt.style.use(\"ggplot\")\n",
        "plt.rcParams[\"figure.figsize\"] = (15,10)\n",
        "\n",
        "for i in [\"Manhattan\", \"Euclidean\", \"Minkowski\"]:\n",
        "    temp = grid_results[grid_results['metric'] == i]\n",
        "    _ = plt.plot(temp['knn__n_neighbors'], temp['test_score'], marker = '.', label = i)\n",
        "    \n",
        "_ = plt.legend()\n",
        "_ = plt.xlabel('Number of Neighbors')\n",
        "_ = plt.ylabel(\"Mean CV Score\")\n",
        "_ = plt.title(\"KNN Performance Comparison\")\n",
        "plt.show()"
      ],
      "execution_count": null,
      "outputs": []
    },
    {
      "cell_type": "markdown",
      "metadata": {
        "id": "a1Xw_AaZUB8m"
      },
      "source": [
        "## Run on test data"
      ]
    },
    {
      "cell_type": "code",
      "metadata": {
        "id": "pqEbh9-gUBl4"
      },
      "source": [
        "y_pred = overall_best_classifier.predict(X_test)\n",
        "print(classification_report(y_test, y_pred))"
      ],
      "execution_count": null,
      "outputs": []
    },
    {
      "cell_type": "code",
      "metadata": {
        "id": "Z4X_NR5M34U5"
      },
      "source": [
        "from sklearn.ensemble import BaggingClassifier\n",
        "bagging = BaggingClassifier(KNeighborsClassifier(),\n",
        "                            max_samples=0.5, max_features=0.5)"
      ],
      "execution_count": null,
      "outputs": []
    },
    {
      "cell_type": "markdown",
      "metadata": {
        "id": "yCVNOfDybDb8"
      },
      "source": [
        "# Decision Tree\n",
        "\n",
        "- https://scikit-learn.org/stable/auto_examples/tree/plot_unveil_tree_structure.html\n",
        "- https://scikit-learn.org/stable/modules/tree.html"
      ]
    },
    {
      "cell_type": "code",
      "metadata": {
        "id": "XJW9VYDNfqZR"
      },
      "source": [
        "X_train.describe()\n",
        "X_train_prepped = ct_v4.fit_transform(X_train)\n",
        "\n",
        "tmp_df1 = pd.DataFrame(X_train_prepped)\n",
        "tmp_df1.head()\n"
      ],
      "execution_count": null,
      "outputs": []
    },
    {
      "cell_type": "code",
      "metadata": {
        "id": "m93jt4TpbGty"
      },
      "source": [
        "\n",
        "from sklearn.tree import DecisionTreeClassifier\n",
        "from sklearn import tree\n",
        "\n",
        "#tree_clf = DecisionTreeClassifier(max_leaf_nodes=3, random_state=0)\n",
        "tree_clf = DecisionTreeClassifier(max_depth=4)\n",
        "\n",
        "\n",
        "tree_clf.fit(X_train_prepped, y_train)\n",
        "#tree.plot_tree(tree_clf) \n"
      ],
      "execution_count": null,
      "outputs": []
    },
    {
      "cell_type": "code",
      "metadata": {
        "id": "ypuVQ78Uh8Hk"
      },
      "source": [
        "from sklearn import metrics\n",
        "X_test_prepped = ct_v4.fit_transform(X_test)\n",
        "y_pred = tree_clf.predict(X_test_prepped)\n",
        "\n",
        "# Model Accuracy, how often is the classifier correct?\n",
        "print(\"Accuracy:\",metrics.accuracy_score(y_test, y_pred))"
      ],
      "execution_count": null,
      "outputs": []
    },
    {
      "cell_type": "markdown",
      "metadata": {
        "id": "AhxV2FOsinfp"
      },
      "source": [
        "## GridSearchCV, DT"
      ]
    },
    {
      "cell_type": "code",
      "metadata": {
        "id": "tiEf1mp5i0SJ"
      },
      "source": [
        "tree_clf = DecisionTreeClassifier(random_state=999)\n",
        "dt_depth = list(np.arange(1, 20))\n",
        "\n",
        "# can try modelling with scaling & dummies using previous setup ColTransformers...\n",
        "#dt_prep_pipe = Pipeline(steps=[('prep',ct_v4), ('tree_clf', tree_clf)])\n",
        "\n",
        "# apparently no scaling or dummies needed for DT\n",
        "# new one to just encode 'note', leave everything else untouched\n",
        "dt_enc_pipe = Pipeline(steps=[ ('enc', ct_ord_enc ), ('tree_clf', tree_clf)])\n",
        "\n",
        "# setup param grid...\n",
        "dt_params = {'tree_clf__criterion': ['gini', 'entropy'],\n",
        "             'tree_clf__max_depth': dt_depth,\n",
        "             'tree_clf__min_samples_split': [2, 3]}\n",
        "\n",
        "# choose from dt_enc_pipe or dt_prep_pipe\n",
        "my_clf = dt_enc_pipe\n",
        "\n",
        "skf = StratifiedKFold(n_splits=10)\n",
        "\n",
        "gscv_dt = GridSearchCV(estimator=my_clf, \n",
        "                     param_grid=dt_params, \n",
        "                     cv=skf,\n",
        "                     verbose=1, \n",
        "                     scoring='accuracy')\n",
        "\n",
        "gscv_dt.fit(X_train, y_train);"
      ],
      "execution_count": null,
      "outputs": []
    },
    {
      "cell_type": "code",
      "metadata": {
        "id": "WWEobdVtj1S6"
      },
      "source": [
        "gscv_dt.best_params_"
      ],
      "execution_count": null,
      "outputs": []
    },
    {
      "cell_type": "code",
      "metadata": {
        "id": "i6N5rj40j5IH"
      },
      "source": [
        "gscv_dt.best_score_"
      ],
      "execution_count": null,
      "outputs": []
    },
    {
      "cell_type": "code",
      "metadata": {
        "id": "fIloF8adkLFw"
      },
      "source": [
        "results_DT = pd.DataFrame(gscv_dt.cv_results_['params'])\n",
        "results_DT['test_score'] = gscv_dt.cv_results_['mean_test_score']\n",
        "results_DT.columns"
      ],
      "execution_count": null,
      "outputs": []
    },
    {
      "cell_type": "code",
      "metadata": {
        "id": "rQH8svAhkVpd"
      },
      "source": [
        "for i in ['gini', 'entropy']:\n",
        "    temp = results_DT[results_DT['tree_clf__criterion'] == i]\n",
        "    temp_average = temp.groupby('tree_clf__max_depth').agg({'test_score': 'mean'})\n",
        "    plt.plot(temp_average, marker = '.', label = i)\n",
        "    \n",
        "    \n",
        "plt.legend()\n",
        "plt.xlabel('Max Depth')\n",
        "plt.ylabel(\"Mean CV Score\")\n",
        "plt.title(\"DT Performance Comparison\")\n",
        "plt.show()"
      ],
      "execution_count": null,
      "outputs": []
    },
    {
      "cell_type": "markdown",
      "metadata": {
        "id": "EWWWOWUEmJhN"
      },
      "source": [
        "## GridSearchCV, DT, manual loop"
      ]
    },
    {
      "cell_type": "code",
      "metadata": {
        "id": "Inpn2KaRirVj"
      },
      "source": [
        "# list of ColumnTransformers setup previously\n",
        "col_trans = [ct_v0, ct_v1, ct_v2, ct_v3, ct_v4, ct_ord_enc ]\n",
        "#col_trans = [ct_v4, ct_ord_enc ]\n",
        "\n",
        "dt_depth = list(np.arange(1, 20))\n",
        "\n",
        "dt_params_grid = {'tree_clf__criterion': ['gini', 'entropy'],\n",
        "             'tree_clf__max_depth': dt_depth,\n",
        "             'tree_clf__min_samples_split': [2, 3]}\n",
        "\n",
        "overall_best_score = 0\n",
        "overall_best_classifier2 = None\n",
        "\n",
        "for idx, ct in enumerate(col_trans):\n",
        "  print(\"\\n_______________________________________________________\")\n",
        "  print(\"\\n>>>> PIPE #{}.. \\n\".format(idx))\n",
        "  # iterate through all pipes in grid_cts\n",
        "  dt_pipe = Pipeline(steps=[('prep',ct), ('tree_clf', DecisionTreeClassifier(random_state=999))])\n",
        "  gscv_dt = GridSearchCV(estimator=dt_pipe, \n",
        "                     param_grid=dt_params_grid, \n",
        "                     cv=10,\n",
        "                     verbose=1, \n",
        "                     scoring='accuracy')\n",
        "\n",
        "  print('\\n>>>>FITTING ....\\n')\n",
        "  _ = gscv_dt.fit(X_train, y_train);\n",
        "\n",
        "  print('\\n___BEST ESTIMATOR, pipe#{}\\n'.format(idx))\n",
        "  display(gscv_dt.best_estimator_)\n",
        "\n",
        "  print('\\n___BEST SCORE, pipe#{}\\n'.format(idx))\n",
        "  display(gscv_dt.best_score_)\n",
        "\n",
        "  print('\\n___BEST PARAMS, pipe#{}\\n'.format(idx))\n",
        "  display(gscv_dt.best_params_)\n",
        "\n",
        "  if gscv_dt.best_score_ > overall_best_score:\n",
        "    overall_best_score = gscv_dt.best_score_\n",
        "    overall_best_classifier2 = gscv_dt"
      ],
      "execution_count": null,
      "outputs": []
    },
    {
      "cell_type": "markdown",
      "metadata": {
        "id": "Ep6Yo4x9qECS"
      },
      "source": [
        "Overall ..."
      ]
    },
    {
      "cell_type": "code",
      "metadata": {
        "id": "RFgsg6KAqFis"
      },
      "source": [
        "print('\\n Overall .. BEST SCORE')\n",
        "display(overall_best_classifier2.best_score_)\n",
        "\n",
        "print('\\n Overall .. BEST PARAMS')\n",
        "display(overall_best_classifier2.best_params_)"
      ],
      "execution_count": null,
      "outputs": []
    },
    {
      "cell_type": "markdown",
      "metadata": {
        "id": "zwAEXWoSomcm"
      },
      "source": [
        "## Chart results"
      ]
    },
    {
      "cell_type": "code",
      "metadata": {
        "id": "EVp7c_FdovNw"
      },
      "source": [
        "dt_results = pd.DataFrame(overall_best_classifier2.cv_results_['params'])\n",
        "dt_results['test_score'] = overall_best_classifier2.cv_results_['mean_test_score']\n",
        "dt_results.columns"
      ],
      "execution_count": null,
      "outputs": []
    },
    {
      "cell_type": "code",
      "metadata": {
        "id": "cuhekgWfoe_D"
      },
      "source": [
        "plt.style.use(\"ggplot\")\n",
        "plt.rcParams[\"figure.figsize\"] = (8,6)\n",
        "\n",
        "for i in ['gini', 'entropy']:\n",
        "    tmp_crit = dt_results[dt_results['tree_clf__criterion'] == i]\n",
        "    tmp_avg = tmp_crit.groupby('tree_clf__max_depth').agg({'test_score': 'mean'})\n",
        "    plt.plot(tmp_avg, marker = '.', label = i)\n",
        "    \n",
        "    \n",
        "plt.legend()\n",
        "plt.xlabel('Max Depth')\n",
        "plt.ylabel(\"Mean CV Score\")\n",
        "plt.title(\"DT Performance Comparison\")\n",
        "plt.show()"
      ],
      "execution_count": null,
      "outputs": []
    },
    {
      "cell_type": "markdown",
      "metadata": {
        "id": "uj9bCSh6n8jN"
      },
      "source": [
        "## Run on test data"
      ]
    },
    {
      "cell_type": "code",
      "metadata": {
        "id": "YJbY_hO2n8jN"
      },
      "source": [
        "y_pred = overall_best_classifier2.predict(X_test)\n",
        "print(classification_report(y_test, y_pred))"
      ],
      "execution_count": null,
      "outputs": []
    },
    {
      "cell_type": "markdown",
      "metadata": {
        "id": "c44d_SQ2HQsh"
      },
      "source": [
        "# GradientBoostingClassifier\n",
        "\n",
        "See...\n",
        "* https://scikit-learn.org/stable/modules/generated/sklearn.ensemble.GradientBoostingClassifier.html\n",
        "* https://scikit-learn.org/stable/modules/ensemble.html#gradient-boosting\n",
        "\n",
        "\n",
        ".. and..\n",
        "* https://machinelearningmastery.com/gentle-introduction-gradient-boosting-algorithm-machine-learning/\n",
        "* https://machinelearningmastery.com/gradient-boosting-machine-ensemble-in-python/\n"
      ]
    },
    {
      "cell_type": "code",
      "metadata": {
        "id": "kZqtMWgLHiw1"
      },
      "source": [
        "sklearn.__version__  # should be 0.23.2\n",
        "\n",
        "#clf = GradientBoostingClassifier(n_estimators=100, learning_rate=1.0,\n",
        "  #max_depth=1, random_state=0).fit(X_train, y_train)\n",
        "gbc_clf = GradientBoostingClassifier()\n"
      ],
      "execution_count": null,
      "outputs": []
    },
    {
      "cell_type": "code",
      "metadata": {
        "id": "bP6VYcCuBUVx"
      },
      "source": [
        ""
      ],
      "execution_count": null,
      "outputs": []
    },
    {
      "cell_type": "code",
      "metadata": {
        "id": "LVNkoD4ZKjct"
      },
      "source": [
        "show_selected_styles()\n",
        "\n",
        "# note: 'grid_cts' is list of ColumnTransformers from earlier.\n",
        "# list of ColumnTransformers setup earlier ..\n",
        "grid_cts = [ct_v0, ct_v1, ct_v2, ct_v3, ct_v4]\n",
        "#grid_cts = [ct_ord_enc ]\n",
        "#grid_cts = [ct_v0, ct_v3, ct_v4]\n",
        "\n",
        "param_grid_v0 = dict(\n",
        "    gbc_clf__n_estimators=[50, 100, 250, 500, 1000], \n",
        "    gbc_clf__learning_rate=[0.1, 0.3, 0.5], \n",
        "    gbc_clf__max_depth=[3, 5, 7], \n",
        "    gbc_clf__random_state=[0],\n",
        "    gbc_clf__max_features=['auto'], \n",
        "    prep=grid_cts # list of ColTransformers to search\n",
        ")\n",
        "\n",
        "# reduced params, based on previous tests\n",
        "param_grid_v1 = dict(\n",
        "    gbc_clf__n_estimators=[ 100, 250, 500, 1000], \n",
        "    gbc_clf__learning_rate=[0.1, 0.3], \n",
        "    gbc_clf__max_depth=[3, 5, 7], \n",
        "    gbc_clf__random_state=[0],\n",
        "    gbc_clf__max_features=['auto'], \n",
        "    prep=grid_cts # list of ColTransformers to search\n",
        ")\n",
        "\n",
        "# search all pipes in grid_cts\n",
        "my_pipe = Pipeline(steps=[('prep',None), ('gbc_clf', gbc_clf)])\n",
        "#grid_search = GridSearchCV(my_pipe, param_grid=param_grid_v0, cv=10, verbose=2)\n",
        "grid_search = GridSearchCV(my_pipe, param_grid=param_grid_v1, cv=10, verbose=2)\n",
        "\n",
        "print('\\n>>>>FITTING ....\\n')\n",
        "grid_search.fit(X_train,y_train)\n",
        "\n",
        "print('\\n___BEST ESTIMATOR\\n')\n",
        "display(grid_search.best_estimator_)\n",
        "\n",
        "print('\\n___BEST SCORE\\n')\n",
        "display(grid_search.best_score_)\n",
        "\n",
        "print('\\n___BEST PARAMS\\n')\n",
        "display(grid_search.best_params_)\n",
        "\n",
        "\n"
      ],
      "execution_count": null,
      "outputs": []
    },
    {
      "cell_type": "code",
      "metadata": {
        "id": "41L0tqgAwUsO"
      },
      "source": [
        "show_selected_styles()"
      ],
      "execution_count": null,
      "outputs": []
    },
    {
      "cell_type": "markdown",
      "metadata": {
        "id": "KhjgolyYlNEX"
      },
      "source": [
        "## Retrain the model\r\n",
        "Notes that GridSearchCV does this by default with 'refit=True', but for our purposes here, it's useful to be able to retrain the best estimator on some different data (e.g. different song style) to see how it copes on a style by style basis.\r\n",
        "\r\n",
        "Specific steps as follows ...\r\n",
        "\r\n",
        "```\r\n",
        "best_clf = grid_search.best_estimator_\r\n",
        "best_clf.fit(X_train, y_train)\r\n",
        "prediction = best_clf.predict(X_new)\r\n",
        "```\r\n"
      ]
    },
    {
      "cell_type": "code",
      "metadata": {
        "id": "X8BR7u10F_rr"
      },
      "source": [
        "# extract best estimator\r\n",
        "best_clf = grid_search.best_estimator_"
      ],
      "execution_count": null,
      "outputs": []
    },
    {
      "cell_type": "code",
      "metadata": {
        "id": "NogAsqCblNEZ"
      },
      "source": [
        "# retrain if required, e.g. testing on different data\r\n",
        "best_clf.fit(X_train, y_train)"
      ],
      "execution_count": null,
      "outputs": []
    },
    {
      "cell_type": "code",
      "metadata": {
        "id": "udupdW2kuUay"
      },
      "source": [
        "y_true, y_pred =  y_test, best_clf.predict(X_test)\r\n",
        "\r\n",
        "# this is for train on one style, filter that style\r\n",
        "# from the whole dataset, use what's left for testing\r\n",
        "# (i.e. without doing any train/ test split)\r\n",
        "#y_true, y_pred =  y, best_clf.predict(X) \r\n",
        "\r\n",
        "show_selected_styles()\r\n",
        "res_1 = display_classify_results(y_true=y_true, y_pred=y_pred, labels= np.unique(y))\r\n",
        "\r\n"
      ],
      "execution_count": null,
      "outputs": []
    },
    {
      "cell_type": "code",
      "metadata": {
        "id": "L8mu9h6UlMuN"
      },
      "source": [
        "# write results to csv\r\n",
        "res_1.to_csv('{}/_Results_GBC_trainStyle6TestAcrossRest_groove8.csv'.format(home_dir))"
      ],
      "execution_count": null,
      "outputs": []
    },
    {
      "cell_type": "markdown",
      "metadata": {
        "id": "_h0DGDeYx2ln"
      },
      "source": [
        "# Misc other classifiers (TODO)"
      ]
    },
    {
      "cell_type": "code",
      "metadata": {
        "id": "2KYmzjhGzAgM"
      },
      "source": [
        "this is a deliberate error to stop processing ..."
      ],
      "execution_count": null,
      "outputs": []
    },
    {
      "cell_type": "markdown",
      "metadata": {
        "id": "y5P1Zkg2vsOu"
      },
      "source": [
        "## SVM with RBF\n",
        "\n",
        "* https://scikit-learn.org/stable/modules/svm.html#classification\n",
        "* https://scikit-learn.org/stable/auto_examples/svm/plot_rbf_parameters.html"
      ]
    },
    {
      "cell_type": "code",
      "metadata": {
        "id": "1oFi-oaiv8qa"
      },
      "source": [
        "from sklearn.svm import SVC"
      ],
      "execution_count": null,
      "outputs": []
    },
    {
      "cell_type": "code",
      "metadata": {
        "id": "z5wVunOR2wtP"
      },
      "source": [
        "# For an initial search, a logarithmic grid with basis\n",
        "# 10 is often helpful. Using a basis of 2, a finer\n",
        "# tuning can be achieved but at a much higher cost.\n",
        "#C_range = np.logspace(-2, 10, 13)\n",
        "C_range = np.logspace(-2, 10, 3)\n",
        "#gamma_range = np.logspace(-9, 3, 13)\n",
        "gamma_range = np.logspace(-9, 3, 3)\n"
      ],
      "execution_count": null,
      "outputs": []
    },
    {
      "cell_type": "code",
      "metadata": {
        "id": "okztkxx5w3WC"
      },
      "source": [
        "\n",
        "print('C range: {}'.format(C_range))\n",
        "print('Gamma range: {}'.format(gamma_range))\n",
        "\n",
        "# list of ColumnTransformers setup previously\n",
        "#col_trans = [ct_v0, ct_v1, ct_v2, ct_v3, ct_v4]\n",
        "col_trans = [ct_v0]\n",
        "\n",
        "\n",
        "\n",
        "svm_params_grid = {'svc_clf__gamma': gamma_range,\n",
        "                  'svc_clf__C': C_range}\n",
        "\n",
        "overall_best_score = 0\n",
        "overall_best_classifier3 = None\n",
        "\n",
        "for idx, ct in enumerate(col_trans):\n",
        "  print(\"\\n_______________________________________________________\")\n",
        "  print(\"\\n>>>> PIPE #{}.. \\n\".format(idx))\n",
        "  # iterate through all pipes in grid_cts\n",
        "  svm_pipe = Pipeline(steps=[('prep',ct), ('svc_clf', SVC(kernel='rbf'))])\n",
        "  gscv_svm = GridSearchCV(estimator=svm_pipe, \n",
        "                     param_grid=svm_params_grid, \n",
        "                     cv=5,\n",
        "                     verbose=1, \n",
        "                     scoring='accuracy')\n",
        "\n",
        "  print('\\n>>>>FITTING ....\\n')\n",
        "  _ = gscv_svm.fit(X_train, y_train);\n",
        "\n",
        "  print('\\n___BEST ESTIMATOR, pipe#{}\\n'.format(idx))\n",
        "  display(gscv_svm.best_estimator_)\n",
        "\n",
        "  print('\\n___BEST SCORE, pipe#{}\\n'.format(idx))\n",
        "  display(gscv_svm.best_score_)\n",
        "\n",
        "  print('\\n___BEST PARAMS, pipe#{}\\n'.format(idx))\n",
        "  display(gscv_svm.best_params_)\n",
        "\n",
        "  if gscv_svm.best_score_ > overall_best_score:\n",
        "    overall_best_score = gscv_svm.best_score_\n",
        "    overall_best_classifier3 = gscv_svm"
      ],
      "execution_count": null,
      "outputs": []
    },
    {
      "cell_type": "markdown",
      "metadata": {
        "id": "yWtcJWooEFsy"
      },
      "source": [
        ".... waiting on that last cell to complete!!!!!"
      ]
    },
    {
      "cell_type": "markdown",
      "metadata": {
        "id": "t85Rbg8qnz7C"
      },
      "source": [
        "## VotingClassifier\n",
        "\n",
        "Review classifiers so far..."
      ]
    },
    {
      "cell_type": "code",
      "metadata": {
        "id": "F1QcheRQtU4O"
      },
      "source": [
        "overall_best_classifier.best_estimator_\n",
        "overall_best_classifier2.best_estimator_\n",
        "overall_best_classifier3.best_estimator_"
      ],
      "execution_count": null,
      "outputs": []
    },
    {
      "cell_type": "markdown",
      "metadata": {
        "id": "M-XQr_5rv6Xo"
      },
      "source": [
        "Create a voting ensemble aggregate of all prior best classifiers..."
      ]
    },
    {
      "cell_type": "code",
      "metadata": {
        "id": "ivAJUlMtn6Dk"
      },
      "source": [
        "from sklearn.ensemble import VotingClassifier\n",
        "from sklearn.model_selection import cross_val_score\n",
        "\n",
        "eclf = VotingClassifier(estimators=[('knn', overall_best_classifier.best_estimator_), \n",
        "                                    ('dt', overall_best_classifier2.best_estimator_), \n",
        "                                    ('svm', overall_best_classifier3.best_estimator_), \n",
        "                                    ],voting='hard')"
      ],
      "execution_count": null,
      "outputs": []
    },
    {
      "cell_type": "code",
      "metadata": {
        "id": "qMxu8yJks0AT"
      },
      "source": [
        "for clf, label in zip([overall_best_classifier.best_estimator_, \n",
        "                       overall_best_classifier2.best_estimator_, \n",
        "                       overall_best_classifier3.best_estimator_, \n",
        "                       eclf],\n",
        "                      ['KNN', 'DT', 'SVM', 'Ensemble']):\n",
        "  scores = cross_val_score(clf, X, y, scoring='accuracy', cv=3)\n",
        "  print(\"Accuracy: %0.2f (+/- %0.2f) [%s]\" % (scores.mean(), scores.std(), label))"
      ],
      "execution_count": null,
      "outputs": []
    },
    {
      "cell_type": "markdown",
      "metadata": {
        "id": "vc33kYc6F1QG"
      },
      "source": [
        "# Compile Results"
      ]
    },
    {
      "cell_type": "code",
      "metadata": {
        "id": "j-Vf9kvnGcQm"
      },
      "source": [
        "\r\n",
        "results_dir = '{}LYIT/Dissertation/data/results/'.format(home_dir)\r\n",
        "results_dir"
      ],
      "execution_count": null,
      "outputs": []
    },
    {
      "cell_type": "code",
      "metadata": {
        "id": "8Pca-57eGJGE"
      },
      "source": [
        "import glob\r\n",
        "\r\n",
        "# loads files based on filename pattern\r\n",
        "def pd_read_pattern(pattern):\r\n",
        "  files = glob.glob(pattern)\r\n",
        "\r\n",
        "  df = pd.DataFrame()\r\n",
        "  for f in files:\r\n",
        "      next_df = pd.read_csv(f)\r\n",
        "      clf_type = f.split('_Results_')[1].split('_')[0]\r\n",
        "      next_df['model'] = clf_type\r\n",
        "\r\n",
        "      if f.find('TestAcrossRest_') != -1:\r\n",
        "        style_type = f.split('TestAcrossRest_')[1].split('.csv')[0]\r\n",
        "        next_df['style'] = style_type\r\n",
        "\r\n",
        "      df = df.append(next_df)\r\n",
        "\r\n",
        "  return df.reset_index(drop=True)\r\n"
      ],
      "execution_count": null,
      "outputs": []
    },
    {
      "cell_type": "markdown",
      "metadata": {
        "id": "DxeCyPxbbeSL"
      },
      "source": [
        "## Classifier Summary Results"
      ]
    },
    {
      "cell_type": "code",
      "metadata": {
        "id": "CZjHxjjnH5sG"
      },
      "source": [
        "df = pd_read_pattern('{}/_Results*trainTestOnWholeDataset.csv'.format(results_dir))"
      ],
      "execution_count": null,
      "outputs": []
    },
    {
      "cell_type": "code",
      "metadata": {
        "id": "09dv2jHrK80j"
      },
      "source": [
        "df_tmp = df.copy(deep=True)"
      ],
      "execution_count": null,
      "outputs": []
    },
    {
      "cell_type": "code",
      "metadata": {
        "id": "KgoOx5g1LL_g"
      },
      "source": [
        "# rename 1st col\r\n",
        "df_tmp = df_tmp.rename(columns={ df.columns[0]: \"thing\" })\r\n",
        "\r\n",
        "# drop cols: precision, recall, support\r\n",
        "df_tmp = df_tmp.drop(columns=['precision', 'recall', 'support'])\r\n",
        "\r\n",
        "# drop rows: accuracy, macro avg\r\n",
        "df_tmp = df_tmp.loc[~df_tmp.thing.isin(['accuracy','macro avg'])]"
      ],
      "execution_count": null,
      "outputs": []
    },
    {
      "cell_type": "code",
      "metadata": {
        "id": "8rMVx3vFgFfF"
      },
      "source": [
        "df_tmp.head()"
      ],
      "execution_count": null,
      "outputs": []
    },
    {
      "cell_type": "code",
      "metadata": {
        "id": "kpYave9QMOd2"
      },
      "source": [
        "import seaborn as sns\r\n",
        "sns.set_theme(style=\"whitegrid\")\r\n",
        "\r\n",
        "# Draw a nested barplot by species and sex\r\n",
        "g = sns.catplot(\r\n",
        "    data=df_tmp, kind=\"bar\",\r\n",
        "    x=\"thing\", y=\"f1-score\", hue=\"model\",\r\n",
        "    ci=None, palette=\"colorblind\", alpha=.8, height=4, aspect=2\r\n",
        ")\r\n",
        "_ = g.despine(left=True)\r\n",
        "_ = g.set_axis_labels(\"\", \"f1-score\")\r\n",
        "_ = plt.suptitle(\"Drummer Identification Scores\")\r\n",
        "_ = g.legend.set_title(\"Classifiers\")"
      ],
      "execution_count": null,
      "outputs": []
    },
    {
      "cell_type": "markdown",
      "metadata": {
        "id": "y-5McxDEbkst"
      },
      "source": [
        "## Classifier Results by Style"
      ]
    },
    {
      "cell_type": "code",
      "metadata": {
        "id": "VTy9ZTYzbtYS"
      },
      "source": [
        "df = pd_read_pattern('{}/_Results*trainStyle6TestAcrossRest*'.format(results_dir))"
      ],
      "execution_count": null,
      "outputs": []
    },
    {
      "cell_type": "code",
      "metadata": {
        "id": "VLoLYMxEfNBm"
      },
      "source": [
        "df_tmp = df.copy(deep=True)"
      ],
      "execution_count": null,
      "outputs": []
    },
    {
      "cell_type": "code",
      "metadata": {
        "id": "3j9lQt3ifwll"
      },
      "source": [
        "# rename 1st col\r\n",
        "df_tmp = df_tmp.rename(columns={ df.columns[0]: \"thing\" })\r\n",
        "\r\n",
        "# drop cols: precision, recall, support\r\n",
        "df_tmp = df_tmp.drop(columns=['precision', 'recall', 'support'])\r\n",
        "\r\n",
        "# drop rows: accuracy, macro avg\r\n",
        "df_tmp = df_tmp.loc[~df_tmp.thing.isin(['accuracy','macro avg'])]"
      ],
      "execution_count": null,
      "outputs": []
    },
    {
      "cell_type": "code",
      "metadata": {
        "id": "jExyCpVvpDLS"
      },
      "source": [
        "\r\n",
        "df_tmp.replace(inplace=True, to_replace={'style': {'groove1': 'funk/groove1', \r\n",
        "                                                   'groove3': 'soul/groove3', \r\n",
        "                                                   'groove4':'soul/groove4', \r\n",
        "                                                   'groove6':'hiphop/groove6', \r\n",
        "                                                   'groove8':'rock/groove8'}})"
      ],
      "execution_count": null,
      "outputs": []
    },
    {
      "cell_type": "code",
      "metadata": {
        "id": "ZoBGyxXDf95C"
      },
      "source": [
        "df_tmp.head()"
      ],
      "execution_count": null,
      "outputs": []
    },
    {
      "cell_type": "code",
      "metadata": {
        "id": "w1ke0jaEgrkk"
      },
      "source": [
        "import seaborn as sns\r\n",
        "sns.set_theme(style=\"whitegrid\")\r\n",
        "\r\n",
        "# Draw a nested barplot by species and sex\r\n",
        "g = sns.catplot(\r\n",
        "    data=df_tmp, kind=\"bar\",\r\n",
        "    #x=\"thing\", y=\"f1-score\", hue=\"style\", col=\"model\", col_wrap=1,\r\n",
        "    x=\"style\", y=\"f1-score\", hue=\"thing\", col=\"model\", col_wrap=1,\r\n",
        "    #x=\"thing\", y=\"f1-score\", hue=\"model\", col=\"style\", col_wrap=1,\r\n",
        "    ci=None, palette=\"colorblind\", alpha=.8, height=4, aspect=2\r\n",
        ")\r\n",
        "_ = g.despine(left=True)\r\n",
        "_ = g.set_axis_labels(\"\", \"f1-score\")\r\n",
        "_ = plt.subplots_adjust(top=0.9)\r\n",
        "_ = plt.suptitle(\"Drummer Identification Scores\")\r\n",
        "_ = g.legend.set_title(\"Class\")"
      ],
      "execution_count": null,
      "outputs": []
    }
  ]
}